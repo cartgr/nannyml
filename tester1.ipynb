{
 "cells": [
  {
   "cell_type": "code",
   "execution_count": 1,
   "metadata": {},
   "outputs": [
    {
     "name": "stderr",
     "output_type": "stream",
     "text": [
      "<frozen importlib._bootstrap>:228: RuntimeWarning: scipy._lib.messagestream.MessageStream size changed, may indicate binary incompatibility. Expected 56 from C header, got 64 from PyObject\n"
     ]
    }
   ],
   "source": [
    "import nannyml as nml"
   ]
  },
  {
   "cell_type": "code",
   "execution_count": 2,
   "metadata": {},
   "outputs": [],
   "source": [
    "reference_df, analysis_df, analysis_target_df = nml.load_synthetic_car_loan_dataset()\n",
    "analysis_df = analysis_df.merge(analysis_target_df, left_index=True, right_index=True)"
   ]
  },
  {
   "cell_type": "code",
   "execution_count": 3,
   "metadata": {},
   "outputs": [],
   "source": [
    "calc = nml.PerformanceCalculator(\n",
    "    y_pred_proba='y_pred_proba',\n",
    "    y_pred='y_pred',\n",
    "    y_true='repaid',\n",
    "    timestamp_column_name='timestamp',\n",
    "    problem_type='classification_binary',\n",
    "    metrics=['business_value', 'f1', 'roc_auc'],\n",
    "    business_value_matrix=[[2, -4], [-10, 10]],\n",
    "    normalize_business_value='per_prediction',\n",
    "    chunk_size=5000)"
   ]
  },
  {
   "cell_type": "code",
   "execution_count": 4,
   "metadata": {},
   "outputs": [
    {
     "data": {
      "text/plain": [
       "<nannyml.performance_calculation.calculator.PerformanceCalculator at 0x1a37e1520>"
      ]
     },
     "execution_count": 4,
     "metadata": {},
     "output_type": "execute_result"
    }
   ],
   "source": [
    "calc.fit(reference_df)"
   ]
  },
  {
   "cell_type": "code",
   "execution_count": 5,
   "metadata": {},
   "outputs": [],
   "source": [
    "results = calc.calculate(analysis_df)"
   ]
  },
  {
   "cell_type": "code",
   "execution_count": 6,
   "metadata": {},
   "outputs": [
    {
     "data": {
      "text/html": [
       "<div>\n",
       "<style scoped>\n",
       "    .dataframe tbody tr th:only-of-type {\n",
       "        vertical-align: middle;\n",
       "    }\n",
       "\n",
       "    .dataframe tbody tr th {\n",
       "        vertical-align: top;\n",
       "    }\n",
       "\n",
       "    .dataframe thead tr th {\n",
       "        text-align: left;\n",
       "    }\n",
       "</style>\n",
       "<table border=\"1\" class=\"dataframe\">\n",
       "  <thead>\n",
       "    <tr>\n",
       "      <th></th>\n",
       "      <th colspan=\"8\" halign=\"left\">chunk</th>\n",
       "      <th colspan=\"2\" halign=\"left\">Business Value</th>\n",
       "      <th>...</th>\n",
       "      <th colspan=\"5\" halign=\"left\">F1</th>\n",
       "      <th colspan=\"5\" halign=\"left\">ROC AUC</th>\n",
       "    </tr>\n",
       "    <tr>\n",
       "      <th></th>\n",
       "      <th>key</th>\n",
       "      <th>chunk_index</th>\n",
       "      <th>start_index</th>\n",
       "      <th>end_index</th>\n",
       "      <th>start_date</th>\n",
       "      <th>end_date</th>\n",
       "      <th>period</th>\n",
       "      <th>targets_missing_rate</th>\n",
       "      <th>sampling_error</th>\n",
       "      <th>value</th>\n",
       "      <th>...</th>\n",
       "      <th>sampling_error</th>\n",
       "      <th>value</th>\n",
       "      <th>upper_threshold</th>\n",
       "      <th>lower_threshold</th>\n",
       "      <th>alert</th>\n",
       "      <th>sampling_error</th>\n",
       "      <th>value</th>\n",
       "      <th>upper_threshold</th>\n",
       "      <th>lower_threshold</th>\n",
       "      <th>alert</th>\n",
       "    </tr>\n",
       "  </thead>\n",
       "  <tbody>\n",
       "    <tr>\n",
       "      <th>0</th>\n",
       "      <td>[0:4999]</td>\n",
       "      <td>0</td>\n",
       "      <td>0</td>\n",
       "      <td>4999</td>\n",
       "      <td>2018-01-01 00:00:00</td>\n",
       "      <td>2018-01-31 06:27:16.848</td>\n",
       "      <td>reference</td>\n",
       "      <td>0.0</td>\n",
       "      <td>0.0715</td>\n",
       "      <td>5.1452</td>\n",
       "      <td>...</td>\n",
       "      <td>0.00644</td>\n",
       "      <td>0.944707</td>\n",
       "      <td>0.95085</td>\n",
       "      <td>0.93466</td>\n",
       "      <td>False</td>\n",
       "      <td>0.001811</td>\n",
       "      <td>0.976253</td>\n",
       "      <td>0.97866</td>\n",
       "      <td>0.963317</td>\n",
       "      <td>False</td>\n",
       "    </tr>\n",
       "    <tr>\n",
       "      <th>1</th>\n",
       "      <td>[5000:9999]</td>\n",
       "      <td>1</td>\n",
       "      <td>5000</td>\n",
       "      <td>9999</td>\n",
       "      <td>2018-01-31 06:36:00</td>\n",
       "      <td>2018-03-02 13:03:16.848</td>\n",
       "      <td>reference</td>\n",
       "      <td>0.0</td>\n",
       "      <td>0.0715</td>\n",
       "      <td>5.0484</td>\n",
       "      <td>...</td>\n",
       "      <td>0.00644</td>\n",
       "      <td>0.937564</td>\n",
       "      <td>0.95085</td>\n",
       "      <td>0.93466</td>\n",
       "      <td>False</td>\n",
       "      <td>0.001811</td>\n",
       "      <td>0.969045</td>\n",
       "      <td>0.97866</td>\n",
       "      <td>0.963317</td>\n",
       "      <td>False</td>\n",
       "    </tr>\n",
       "    <tr>\n",
       "      <th>2</th>\n",
       "      <td>[10000:14999]</td>\n",
       "      <td>2</td>\n",
       "      <td>10000</td>\n",
       "      <td>14999</td>\n",
       "      <td>2018-03-02 13:12:00</td>\n",
       "      <td>2018-04-01 19:39:16.848</td>\n",
       "      <td>reference</td>\n",
       "      <td>0.0</td>\n",
       "      <td>0.0715</td>\n",
       "      <td>5.2412</td>\n",
       "      <td>...</td>\n",
       "      <td>0.00644</td>\n",
       "      <td>0.945973</td>\n",
       "      <td>0.95085</td>\n",
       "      <td>0.93466</td>\n",
       "      <td>False</td>\n",
       "      <td>0.001811</td>\n",
       "      <td>0.971742</td>\n",
       "      <td>0.97866</td>\n",
       "      <td>0.963317</td>\n",
       "      <td>False</td>\n",
       "    </tr>\n",
       "    <tr>\n",
       "      <th>3</th>\n",
       "      <td>[15000:19999]</td>\n",
       "      <td>3</td>\n",
       "      <td>15000</td>\n",
       "      <td>19999</td>\n",
       "      <td>2018-04-01 19:48:00</td>\n",
       "      <td>2018-05-02 02:15:16.848</td>\n",
       "      <td>reference</td>\n",
       "      <td>0.0</td>\n",
       "      <td>0.0715</td>\n",
       "      <td>5.1552</td>\n",
       "      <td>...</td>\n",
       "      <td>0.00644</td>\n",
       "      <td>0.943212</td>\n",
       "      <td>0.95085</td>\n",
       "      <td>0.93466</td>\n",
       "      <td>False</td>\n",
       "      <td>0.001811</td>\n",
       "      <td>0.971642</td>\n",
       "      <td>0.97866</td>\n",
       "      <td>0.963317</td>\n",
       "      <td>False</td>\n",
       "    </tr>\n",
       "    <tr>\n",
       "      <th>4</th>\n",
       "      <td>[20000:24999]</td>\n",
       "      <td>4</td>\n",
       "      <td>20000</td>\n",
       "      <td>24999</td>\n",
       "      <td>2018-05-02 02:24:00</td>\n",
       "      <td>2018-06-01 08:51:16.848</td>\n",
       "      <td>reference</td>\n",
       "      <td>0.0</td>\n",
       "      <td>0.0715</td>\n",
       "      <td>5.1296</td>\n",
       "      <td>...</td>\n",
       "      <td>0.00644</td>\n",
       "      <td>0.937989</td>\n",
       "      <td>0.95085</td>\n",
       "      <td>0.93466</td>\n",
       "      <td>False</td>\n",
       "      <td>0.001811</td>\n",
       "      <td>0.969085</td>\n",
       "      <td>0.97866</td>\n",
       "      <td>0.963317</td>\n",
       "      <td>False</td>\n",
       "    </tr>\n",
       "    <tr>\n",
       "      <th>5</th>\n",
       "      <td>[25000:29999]</td>\n",
       "      <td>5</td>\n",
       "      <td>25000</td>\n",
       "      <td>29999</td>\n",
       "      <td>2018-06-01 09:00:00</td>\n",
       "      <td>2018-07-01 15:27:16.848</td>\n",
       "      <td>reference</td>\n",
       "      <td>0.0</td>\n",
       "      <td>0.0715</td>\n",
       "      <td>5.1300</td>\n",
       "      <td>...</td>\n",
       "      <td>0.00644</td>\n",
       "      <td>0.942581</td>\n",
       "      <td>0.95085</td>\n",
       "      <td>0.93466</td>\n",
       "      <td>False</td>\n",
       "      <td>0.001811</td>\n",
       "      <td>0.967364</td>\n",
       "      <td>0.97866</td>\n",
       "      <td>0.963317</td>\n",
       "      <td>False</td>\n",
       "    </tr>\n",
       "    <tr>\n",
       "      <th>6</th>\n",
       "      <td>[30000:34999]</td>\n",
       "      <td>6</td>\n",
       "      <td>30000</td>\n",
       "      <td>34999</td>\n",
       "      <td>2018-07-01 15:36:00</td>\n",
       "      <td>2018-07-31 22:03:16.848</td>\n",
       "      <td>reference</td>\n",
       "      <td>0.0</td>\n",
       "      <td>0.0715</td>\n",
       "      <td>5.1820</td>\n",
       "      <td>...</td>\n",
       "      <td>0.00644</td>\n",
       "      <td>0.944140</td>\n",
       "      <td>0.95085</td>\n",
       "      <td>0.93466</td>\n",
       "      <td>False</td>\n",
       "      <td>0.001811</td>\n",
       "      <td>0.968692</td>\n",
       "      <td>0.97866</td>\n",
       "      <td>0.963317</td>\n",
       "      <td>False</td>\n",
       "    </tr>\n",
       "    <tr>\n",
       "      <th>7</th>\n",
       "      <td>[35000:39999]</td>\n",
       "      <td>7</td>\n",
       "      <td>35000</td>\n",
       "      <td>39999</td>\n",
       "      <td>2018-07-31 22:12:00</td>\n",
       "      <td>2018-08-31 04:39:16.848</td>\n",
       "      <td>reference</td>\n",
       "      <td>0.0</td>\n",
       "      <td>0.0715</td>\n",
       "      <td>5.2216</td>\n",
       "      <td>...</td>\n",
       "      <td>0.00644</td>\n",
       "      <td>0.944612</td>\n",
       "      <td>0.95085</td>\n",
       "      <td>0.93466</td>\n",
       "      <td>False</td>\n",
       "      <td>0.001811</td>\n",
       "      <td>0.970205</td>\n",
       "      <td>0.97866</td>\n",
       "      <td>0.963317</td>\n",
       "      <td>False</td>\n",
       "    </tr>\n",
       "    <tr>\n",
       "      <th>8</th>\n",
       "      <td>[40000:44999]</td>\n",
       "      <td>8</td>\n",
       "      <td>40000</td>\n",
       "      <td>44999</td>\n",
       "      <td>2018-08-31 04:48:00</td>\n",
       "      <td>2018-09-30 11:15:16.848</td>\n",
       "      <td>reference</td>\n",
       "      <td>0.0</td>\n",
       "      <td>0.0715</td>\n",
       "      <td>5.1948</td>\n",
       "      <td>...</td>\n",
       "      <td>0.00644</td>\n",
       "      <td>0.944523</td>\n",
       "      <td>0.95085</td>\n",
       "      <td>0.93466</td>\n",
       "      <td>False</td>\n",
       "      <td>0.001811</td>\n",
       "      <td>0.974096</td>\n",
       "      <td>0.97866</td>\n",
       "      <td>0.963317</td>\n",
       "      <td>False</td>\n",
       "    </tr>\n",
       "    <tr>\n",
       "      <th>9</th>\n",
       "      <td>[45000:49999]</td>\n",
       "      <td>9</td>\n",
       "      <td>45000</td>\n",
       "      <td>49999</td>\n",
       "      <td>2018-09-30 11:24:00</td>\n",
       "      <td>2018-10-30 17:51:16.848</td>\n",
       "      <td>reference</td>\n",
       "      <td>0.0</td>\n",
       "      <td>0.0715</td>\n",
       "      <td>5.1752</td>\n",
       "      <td>...</td>\n",
       "      <td>0.00644</td>\n",
       "      <td>0.942249</td>\n",
       "      <td>0.95085</td>\n",
       "      <td>0.93466</td>\n",
       "      <td>False</td>\n",
       "      <td>0.001811</td>\n",
       "      <td>0.971757</td>\n",
       "      <td>0.97866</td>\n",
       "      <td>0.963317</td>\n",
       "      <td>False</td>\n",
       "    </tr>\n",
       "    <tr>\n",
       "      <th>10</th>\n",
       "      <td>[0:4999]</td>\n",
       "      <td>0</td>\n",
       "      <td>0</td>\n",
       "      <td>4999</td>\n",
       "      <td>2018-10-30 18:00:00</td>\n",
       "      <td>2018-11-30 00:27:16.848</td>\n",
       "      <td>analysis</td>\n",
       "      <td>0.0</td>\n",
       "      <td>0.0715</td>\n",
       "      <td>5.2868</td>\n",
       "      <td>...</td>\n",
       "      <td>0.00644</td>\n",
       "      <td>0.943344</td>\n",
       "      <td>0.95085</td>\n",
       "      <td>0.93466</td>\n",
       "      <td>False</td>\n",
       "      <td>0.001811</td>\n",
       "      <td>0.970962</td>\n",
       "      <td>0.97866</td>\n",
       "      <td>0.963317</td>\n",
       "      <td>False</td>\n",
       "    </tr>\n",
       "    <tr>\n",
       "      <th>11</th>\n",
       "      <td>[5000:9999]</td>\n",
       "      <td>1</td>\n",
       "      <td>5000</td>\n",
       "      <td>9999</td>\n",
       "      <td>2018-11-30 00:36:00</td>\n",
       "      <td>2018-12-30 07:03:16.848</td>\n",
       "      <td>analysis</td>\n",
       "      <td>0.0</td>\n",
       "      <td>0.0715</td>\n",
       "      <td>5.0624</td>\n",
       "      <td>...</td>\n",
       "      <td>0.00644</td>\n",
       "      <td>0.940178</td>\n",
       "      <td>0.95085</td>\n",
       "      <td>0.93466</td>\n",
       "      <td>False</td>\n",
       "      <td>0.001811</td>\n",
       "      <td>0.970248</td>\n",
       "      <td>0.97866</td>\n",
       "      <td>0.963317</td>\n",
       "      <td>False</td>\n",
       "    </tr>\n",
       "    <tr>\n",
       "      <th>12</th>\n",
       "      <td>[10000:14999]</td>\n",
       "      <td>2</td>\n",
       "      <td>10000</td>\n",
       "      <td>14999</td>\n",
       "      <td>2018-12-30 07:12:00</td>\n",
       "      <td>2019-01-29 13:39:16.848</td>\n",
       "      <td>analysis</td>\n",
       "      <td>0.0</td>\n",
       "      <td>0.0715</td>\n",
       "      <td>5.1676</td>\n",
       "      <td>...</td>\n",
       "      <td>0.00644</td>\n",
       "      <td>0.948201</td>\n",
       "      <td>0.95085</td>\n",
       "      <td>0.93466</td>\n",
       "      <td>False</td>\n",
       "      <td>0.001811</td>\n",
       "      <td>0.976282</td>\n",
       "      <td>0.97866</td>\n",
       "      <td>0.963317</td>\n",
       "      <td>False</td>\n",
       "    </tr>\n",
       "    <tr>\n",
       "      <th>13</th>\n",
       "      <td>[15000:19999]</td>\n",
       "      <td>3</td>\n",
       "      <td>15000</td>\n",
       "      <td>19999</td>\n",
       "      <td>2019-01-29 13:48:00</td>\n",
       "      <td>2019-02-28 20:15:16.848</td>\n",
       "      <td>analysis</td>\n",
       "      <td>0.0</td>\n",
       "      <td>0.0715</td>\n",
       "      <td>5.1120</td>\n",
       "      <td>...</td>\n",
       "      <td>0.00644</td>\n",
       "      <td>0.942142</td>\n",
       "      <td>0.95085</td>\n",
       "      <td>0.93466</td>\n",
       "      <td>False</td>\n",
       "      <td>0.001811</td>\n",
       "      <td>0.967721</td>\n",
       "      <td>0.97866</td>\n",
       "      <td>0.963317</td>\n",
       "      <td>False</td>\n",
       "    </tr>\n",
       "    <tr>\n",
       "      <th>14</th>\n",
       "      <td>[20000:24999]</td>\n",
       "      <td>4</td>\n",
       "      <td>20000</td>\n",
       "      <td>24999</td>\n",
       "      <td>2019-02-28 20:24:00</td>\n",
       "      <td>2019-03-31 02:51:16.848</td>\n",
       "      <td>analysis</td>\n",
       "      <td>0.0</td>\n",
       "      <td>0.0715</td>\n",
       "      <td>5.1572</td>\n",
       "      <td>...</td>\n",
       "      <td>0.00644</td>\n",
       "      <td>0.940488</td>\n",
       "      <td>0.95085</td>\n",
       "      <td>0.93466</td>\n",
       "      <td>False</td>\n",
       "      <td>0.001811</td>\n",
       "      <td>0.969886</td>\n",
       "      <td>0.97866</td>\n",
       "      <td>0.963317</td>\n",
       "      <td>False</td>\n",
       "    </tr>\n",
       "    <tr>\n",
       "      <th>15</th>\n",
       "      <td>[25000:29999]</td>\n",
       "      <td>5</td>\n",
       "      <td>25000</td>\n",
       "      <td>29999</td>\n",
       "      <td>2019-03-31 03:00:00</td>\n",
       "      <td>2019-04-30 09:27:16.848</td>\n",
       "      <td>analysis</td>\n",
       "      <td>0.0</td>\n",
       "      <td>0.0715</td>\n",
       "      <td>4.8192</td>\n",
       "      <td>...</td>\n",
       "      <td>0.00644</td>\n",
       "      <td>0.913685</td>\n",
       "      <td>0.95085</td>\n",
       "      <td>0.93466</td>\n",
       "      <td>True</td>\n",
       "      <td>0.001811</td>\n",
       "      <td>0.960050</td>\n",
       "      <td>0.97866</td>\n",
       "      <td>0.963317</td>\n",
       "      <td>True</td>\n",
       "    </tr>\n",
       "    <tr>\n",
       "      <th>16</th>\n",
       "      <td>[30000:34999]</td>\n",
       "      <td>6</td>\n",
       "      <td>30000</td>\n",
       "      <td>34999</td>\n",
       "      <td>2019-04-30 09:36:00</td>\n",
       "      <td>2019-05-30 16:03:16.848</td>\n",
       "      <td>analysis</td>\n",
       "      <td>0.0</td>\n",
       "      <td>0.0715</td>\n",
       "      <td>4.8196</td>\n",
       "      <td>...</td>\n",
       "      <td>0.00644</td>\n",
       "      <td>0.914954</td>\n",
       "      <td>0.95085</td>\n",
       "      <td>0.93466</td>\n",
       "      <td>True</td>\n",
       "      <td>0.001811</td>\n",
       "      <td>0.958530</td>\n",
       "      <td>0.97866</td>\n",
       "      <td>0.963317</td>\n",
       "      <td>True</td>\n",
       "    </tr>\n",
       "    <tr>\n",
       "      <th>17</th>\n",
       "      <td>[35000:39999]</td>\n",
       "      <td>7</td>\n",
       "      <td>35000</td>\n",
       "      <td>39999</td>\n",
       "      <td>2019-05-30 16:12:00</td>\n",
       "      <td>2019-06-29 22:39:16.848</td>\n",
       "      <td>analysis</td>\n",
       "      <td>0.0</td>\n",
       "      <td>0.0715</td>\n",
       "      <td>4.8024</td>\n",
       "      <td>...</td>\n",
       "      <td>0.00644</td>\n",
       "      <td>0.913395</td>\n",
       "      <td>0.95085</td>\n",
       "      <td>0.93466</td>\n",
       "      <td>True</td>\n",
       "      <td>0.001811</td>\n",
       "      <td>0.959041</td>\n",
       "      <td>0.97866</td>\n",
       "      <td>0.963317</td>\n",
       "      <td>True</td>\n",
       "    </tr>\n",
       "    <tr>\n",
       "      <th>18</th>\n",
       "      <td>[40000:44999]</td>\n",
       "      <td>8</td>\n",
       "      <td>40000</td>\n",
       "      <td>44999</td>\n",
       "      <td>2019-06-29 22:48:00</td>\n",
       "      <td>2019-07-30 05:15:16.848</td>\n",
       "      <td>analysis</td>\n",
       "      <td>0.0</td>\n",
       "      <td>0.0715</td>\n",
       "      <td>4.8532</td>\n",
       "      <td>...</td>\n",
       "      <td>0.00644</td>\n",
       "      <td>0.920589</td>\n",
       "      <td>0.95085</td>\n",
       "      <td>0.93466</td>\n",
       "      <td>True</td>\n",
       "      <td>0.001811</td>\n",
       "      <td>0.963094</td>\n",
       "      <td>0.97866</td>\n",
       "      <td>0.963317</td>\n",
       "      <td>True</td>\n",
       "    </tr>\n",
       "    <tr>\n",
       "      <th>19</th>\n",
       "      <td>[45000:49999]</td>\n",
       "      <td>9</td>\n",
       "      <td>45000</td>\n",
       "      <td>49999</td>\n",
       "      <td>2019-07-30 05:24:00</td>\n",
       "      <td>2019-08-29 11:51:16.848</td>\n",
       "      <td>analysis</td>\n",
       "      <td>0.0</td>\n",
       "      <td>0.0715</td>\n",
       "      <td>4.8928</td>\n",
       "      <td>...</td>\n",
       "      <td>0.00644</td>\n",
       "      <td>0.913498</td>\n",
       "      <td>0.95085</td>\n",
       "      <td>0.93466</td>\n",
       "      <td>True</td>\n",
       "      <td>0.001811</td>\n",
       "      <td>0.957556</td>\n",
       "      <td>0.97866</td>\n",
       "      <td>0.963317</td>\n",
       "      <td>True</td>\n",
       "    </tr>\n",
       "  </tbody>\n",
       "</table>\n",
       "<p>20 rows × 23 columns</p>\n",
       "</div>"
      ],
      "text/plain": [
       "            chunk                                                        \\\n",
       "              key chunk_index start_index end_index          start_date   \n",
       "0        [0:4999]           0           0      4999 2018-01-01 00:00:00   \n",
       "1     [5000:9999]           1        5000      9999 2018-01-31 06:36:00   \n",
       "2   [10000:14999]           2       10000     14999 2018-03-02 13:12:00   \n",
       "3   [15000:19999]           3       15000     19999 2018-04-01 19:48:00   \n",
       "4   [20000:24999]           4       20000     24999 2018-05-02 02:24:00   \n",
       "5   [25000:29999]           5       25000     29999 2018-06-01 09:00:00   \n",
       "6   [30000:34999]           6       30000     34999 2018-07-01 15:36:00   \n",
       "7   [35000:39999]           7       35000     39999 2018-07-31 22:12:00   \n",
       "8   [40000:44999]           8       40000     44999 2018-08-31 04:48:00   \n",
       "9   [45000:49999]           9       45000     49999 2018-09-30 11:24:00   \n",
       "10       [0:4999]           0           0      4999 2018-10-30 18:00:00   \n",
       "11    [5000:9999]           1        5000      9999 2018-11-30 00:36:00   \n",
       "12  [10000:14999]           2       10000     14999 2018-12-30 07:12:00   \n",
       "13  [15000:19999]           3       15000     19999 2019-01-29 13:48:00   \n",
       "14  [20000:24999]           4       20000     24999 2019-02-28 20:24:00   \n",
       "15  [25000:29999]           5       25000     29999 2019-03-31 03:00:00   \n",
       "16  [30000:34999]           6       30000     34999 2019-04-30 09:36:00   \n",
       "17  [35000:39999]           7       35000     39999 2019-05-30 16:12:00   \n",
       "18  [40000:44999]           8       40000     44999 2019-06-29 22:48:00   \n",
       "19  [45000:49999]           9       45000     49999 2019-07-30 05:24:00   \n",
       "\n",
       "                                                           Business Value  \\\n",
       "                  end_date     period targets_missing_rate sampling_error   \n",
       "0  2018-01-31 06:27:16.848  reference                  0.0         0.0715   \n",
       "1  2018-03-02 13:03:16.848  reference                  0.0         0.0715   \n",
       "2  2018-04-01 19:39:16.848  reference                  0.0         0.0715   \n",
       "3  2018-05-02 02:15:16.848  reference                  0.0         0.0715   \n",
       "4  2018-06-01 08:51:16.848  reference                  0.0         0.0715   \n",
       "5  2018-07-01 15:27:16.848  reference                  0.0         0.0715   \n",
       "6  2018-07-31 22:03:16.848  reference                  0.0         0.0715   \n",
       "7  2018-08-31 04:39:16.848  reference                  0.0         0.0715   \n",
       "8  2018-09-30 11:15:16.848  reference                  0.0         0.0715   \n",
       "9  2018-10-30 17:51:16.848  reference                  0.0         0.0715   \n",
       "10 2018-11-30 00:27:16.848   analysis                  0.0         0.0715   \n",
       "11 2018-12-30 07:03:16.848   analysis                  0.0         0.0715   \n",
       "12 2019-01-29 13:39:16.848   analysis                  0.0         0.0715   \n",
       "13 2019-02-28 20:15:16.848   analysis                  0.0         0.0715   \n",
       "14 2019-03-31 02:51:16.848   analysis                  0.0         0.0715   \n",
       "15 2019-04-30 09:27:16.848   analysis                  0.0         0.0715   \n",
       "16 2019-05-30 16:03:16.848   analysis                  0.0         0.0715   \n",
       "17 2019-06-29 22:39:16.848   analysis                  0.0         0.0715   \n",
       "18 2019-07-30 05:15:16.848   analysis                  0.0         0.0715   \n",
       "19 2019-08-29 11:51:16.848   analysis                  0.0         0.0715   \n",
       "\n",
       "            ...             F1                                            \\\n",
       "     value  ... sampling_error     value upper_threshold lower_threshold   \n",
       "0   5.1452  ...        0.00644  0.944707         0.95085         0.93466   \n",
       "1   5.0484  ...        0.00644  0.937564         0.95085         0.93466   \n",
       "2   5.2412  ...        0.00644  0.945973         0.95085         0.93466   \n",
       "3   5.1552  ...        0.00644  0.943212         0.95085         0.93466   \n",
       "4   5.1296  ...        0.00644  0.937989         0.95085         0.93466   \n",
       "5   5.1300  ...        0.00644  0.942581         0.95085         0.93466   \n",
       "6   5.1820  ...        0.00644  0.944140         0.95085         0.93466   \n",
       "7   5.2216  ...        0.00644  0.944612         0.95085         0.93466   \n",
       "8   5.1948  ...        0.00644  0.944523         0.95085         0.93466   \n",
       "9   5.1752  ...        0.00644  0.942249         0.95085         0.93466   \n",
       "10  5.2868  ...        0.00644  0.943344         0.95085         0.93466   \n",
       "11  5.0624  ...        0.00644  0.940178         0.95085         0.93466   \n",
       "12  5.1676  ...        0.00644  0.948201         0.95085         0.93466   \n",
       "13  5.1120  ...        0.00644  0.942142         0.95085         0.93466   \n",
       "14  5.1572  ...        0.00644  0.940488         0.95085         0.93466   \n",
       "15  4.8192  ...        0.00644  0.913685         0.95085         0.93466   \n",
       "16  4.8196  ...        0.00644  0.914954         0.95085         0.93466   \n",
       "17  4.8024  ...        0.00644  0.913395         0.95085         0.93466   \n",
       "18  4.8532  ...        0.00644  0.920589         0.95085         0.93466   \n",
       "19  4.8928  ...        0.00644  0.913498         0.95085         0.93466   \n",
       "\n",
       "                 ROC AUC                                                   \n",
       "    alert sampling_error     value upper_threshold lower_threshold  alert  \n",
       "0   False       0.001811  0.976253         0.97866        0.963317  False  \n",
       "1   False       0.001811  0.969045         0.97866        0.963317  False  \n",
       "2   False       0.001811  0.971742         0.97866        0.963317  False  \n",
       "3   False       0.001811  0.971642         0.97866        0.963317  False  \n",
       "4   False       0.001811  0.969085         0.97866        0.963317  False  \n",
       "5   False       0.001811  0.967364         0.97866        0.963317  False  \n",
       "6   False       0.001811  0.968692         0.97866        0.963317  False  \n",
       "7   False       0.001811  0.970205         0.97866        0.963317  False  \n",
       "8   False       0.001811  0.974096         0.97866        0.963317  False  \n",
       "9   False       0.001811  0.971757         0.97866        0.963317  False  \n",
       "10  False       0.001811  0.970962         0.97866        0.963317  False  \n",
       "11  False       0.001811  0.970248         0.97866        0.963317  False  \n",
       "12  False       0.001811  0.976282         0.97866        0.963317  False  \n",
       "13  False       0.001811  0.967721         0.97866        0.963317  False  \n",
       "14  False       0.001811  0.969886         0.97866        0.963317  False  \n",
       "15   True       0.001811  0.960050         0.97866        0.963317   True  \n",
       "16   True       0.001811  0.958530         0.97866        0.963317   True  \n",
       "17   True       0.001811  0.959041         0.97866        0.963317   True  \n",
       "18   True       0.001811  0.963094         0.97866        0.963317   True  \n",
       "19   True       0.001811  0.957556         0.97866        0.963317   True  \n",
       "\n",
       "[20 rows x 23 columns]"
      ]
     },
     "metadata": {},
     "output_type": "display_data"
    }
   ],
   "source": [
    "display(results.to_df())"
   ]
  },
  {
   "cell_type": "code",
   "execution_count": 7,
   "metadata": {},
   "outputs": [
    {
     "data": {
      "application/vnd.plotly.v1+json": {
       "config": {
        "plotlyServerURL": "https://plot.ly"
       },
       "data": [
        {
         "hoverinfo": "skip",
         "legendgroup": "metric_reference",
         "line": {
          "color": "#00c8e5",
          "shape": "hv",
          "width": 2
         },
         "mode": "lines",
         "name": "Metric (reference)",
         "showlegend": true,
         "type": "scatter",
         "x": [
          "2018-01-01T00:00:00",
          "2018-01-31T06:36:00",
          "2018-03-02T13:12:00",
          "2018-04-01T19:48:00",
          "2018-05-02T02:24:00",
          "2018-06-01T09:00:00",
          "2018-07-01T15:36:00",
          "2018-07-31T22:12:00",
          "2018-08-31T04:48:00",
          "2018-09-30T11:24:00",
          "2018-10-30T17:51:16.848000"
         ],
         "xaxis": "x",
         "y": [
          5.1452,
          5.0484,
          5.2412,
          5.1552,
          5.1296,
          5.13,
          5.182,
          5.2216,
          5.1948,
          5.1752,
          5.1752
         ],
         "yaxis": "y"
        },
        {
         "customdata": [
          [
           "Realized <b>business_value</b>",
           "<b style=\"color:#00c8e5;line-height:60px\">Reference</b>",
           "",
           "[0:4999]",
           "From <b>Jan-01-2018</b> to <b>Jan-31-2018</b>",
           5.1452,
           0.2145
          ],
          [
           "Realized <b>business_value</b>",
           "<b style=\"color:#00c8e5;line-height:60px\">Reference</b>",
           "",
           "[5000:9999]",
           "From <b>Jan-31-2018</b> to <b>Mar-02-2018</b>",
           5.0484,
           0.2145
          ],
          [
           "Realized <b>business_value</b>",
           "<b style=\"color:#00c8e5;line-height:60px\">Reference</b>",
           "",
           "[10000:14999]",
           "From <b>Mar-02-2018</b> to <b>Apr-01-2018</b>",
           5.2412,
           0.2145
          ],
          [
           "Realized <b>business_value</b>",
           "<b style=\"color:#00c8e5;line-height:60px\">Reference</b>",
           "",
           "[15000:19999]",
           "From <b>Apr-01-2018</b> to <b>May-02-2018</b>",
           5.1552,
           0.2145
          ],
          [
           "Realized <b>business_value</b>",
           "<b style=\"color:#00c8e5;line-height:60px\">Reference</b>",
           "",
           "[20000:24999]",
           "From <b>May-02-2018</b> to <b>Jun-01-2018</b>",
           5.1296,
           0.2145
          ],
          [
           "Realized <b>business_value</b>",
           "<b style=\"color:#00c8e5;line-height:60px\">Reference</b>",
           "",
           "[25000:29999]",
           "From <b>Jun-01-2018</b> to <b>Jul-01-2018</b>",
           5.13,
           0.2145
          ],
          [
           "Realized <b>business_value</b>",
           "<b style=\"color:#00c8e5;line-height:60px\">Reference</b>",
           "",
           "[30000:34999]",
           "From <b>Jul-01-2018</b> to <b>Jul-31-2018</b>",
           5.182,
           0.2145
          ],
          [
           "Realized <b>business_value</b>",
           "<b style=\"color:#00c8e5;line-height:60px\">Reference</b>",
           "",
           "[35000:39999]",
           "From <b>Jul-31-2018</b> to <b>Aug-31-2018</b>",
           5.2216,
           0.2145
          ],
          [
           "Realized <b>business_value</b>",
           "<b style=\"color:#00c8e5;line-height:60px\">Reference</b>",
           "",
           "[40000:44999]",
           "From <b>Aug-31-2018</b> to <b>Sep-30-2018</b>",
           5.1948,
           0.2145
          ],
          [
           "Realized <b>business_value</b>",
           "<b style=\"color:#00c8e5;line-height:60px\">Reference</b>",
           "",
           "[45000:49999]",
           "From <b>Sep-30-2018</b> to <b>Oct-30-2018</b>",
           5.1752,
           0.2145
          ]
         ],
         "hovertemplate": "%{customdata[1]} &nbsp; &nbsp; %{customdata[2]} <br />Chunk: <b>%{customdata[3]}</b> &nbsp; &nbsp; %{customdata[4]} <br />%{customdata[0]}: <b>%{customdata[5]}</b><br />Confidence band: +/- <b>%{customdata[6]}</b><br /><extra></extra>",
         "legendgroup": "metric_reference",
         "marker": {
          "color": "#00c8e5",
          "size": 5,
          "symbol": "circle"
         },
         "mode": "markers",
         "name": "Metric (reference)",
         "showlegend": false,
         "type": "scatter",
         "x": [
          "2018-01-16T03:18:00",
          "2018-02-15T09:54:00",
          "2018-03-17T16:30:00",
          "2018-04-16T23:06:00",
          "2018-05-17T05:42:00",
          "2018-06-16T12:18:00",
          "2018-07-16T18:54:00",
          "2018-08-16T01:30:00",
          "2018-09-15T08:06:00",
          "2018-10-15T14:37:38.424000"
         ],
         "xaxis": "x",
         "y": [
          5.1452,
          5.0484,
          5.2412,
          5.1552,
          5.1296,
          5.13,
          5.182,
          5.2216,
          5.1948,
          5.1752,
          5.1752
         ],
         "yaxis": "y"
        },
        {
         "hoverinfo": "skip",
         "legendgroup": "metric_analysis",
         "line": {
          "color": "#3b0280",
          "shape": "hv",
          "width": 2
         },
         "mode": "lines",
         "name": "Metric (analysis)",
         "showlegend": true,
         "type": "scatter",
         "x": [
          "2018-10-30T18:00:00",
          "2018-11-30T00:36:00",
          "2018-12-30T07:12:00",
          "2019-01-29T13:48:00",
          "2019-02-28T20:24:00",
          "2019-03-31T03:00:00",
          "2019-04-30T09:36:00",
          "2019-05-30T16:12:00",
          "2019-06-29T22:48:00",
          "2019-07-30T05:24:00",
          "2019-08-29T11:51:16.848000"
         ],
         "xaxis": "x",
         "y": [
          5.2868,
          5.0624,
          5.1676,
          5.112,
          5.1572,
          4.8192,
          4.8196,
          4.8024,
          4.8532,
          4.8928,
          4.8928
         ],
         "yaxis": "y"
        },
        {
         "customdata": [
          [
           "Realized <b>business_value</b>",
           "<b style=\"color:#3b0280;line-height:60px\">Analysis</b>",
           "",
           "[0:4999]",
           "From <b>Oct-30-2018</b> to <b>Nov-30-2018</b>",
           5.2868,
           0.2145
          ],
          [
           "Realized <b>business_value</b>",
           "<b style=\"color:#3b0280;line-height:60px\">Analysis</b>",
           "",
           "[5000:9999]",
           "From <b>Nov-30-2018</b> to <b>Dec-30-2018</b>",
           5.0624,
           0.2145
          ],
          [
           "Realized <b>business_value</b>",
           "<b style=\"color:#3b0280;line-height:60px\">Analysis</b>",
           "",
           "[10000:14999]",
           "From <b>Dec-30-2018</b> to <b>Jan-29-2019</b>",
           5.1676,
           0.2145
          ],
          [
           "Realized <b>business_value</b>",
           "<b style=\"color:#3b0280;line-height:60px\">Analysis</b>",
           "",
           "[15000:19999]",
           "From <b>Jan-29-2019</b> to <b>Feb-28-2019</b>",
           5.112,
           0.2145
          ],
          [
           "Realized <b>business_value</b>",
           "<b style=\"color:#3b0280;line-height:60px\">Analysis</b>",
           "",
           "[20000:24999]",
           "From <b>Feb-28-2019</b> to <b>Mar-31-2019</b>",
           5.1572,
           0.2145
          ],
          [
           "Realized <b>business_value</b>",
           "<b style=\"color:#3b0280;line-height:60px\">Analysis</b>",
           "<span style=\"color:#AD0000\">⚠ <b>Drift detected</b></span>",
           "[25000:29999]",
           "From <b>Mar-31-2019</b> to <b>Apr-30-2019</b>",
           4.8192,
           0.2145
          ],
          [
           "Realized <b>business_value</b>",
           "<b style=\"color:#3b0280;line-height:60px\">Analysis</b>",
           "<span style=\"color:#AD0000\">⚠ <b>Drift detected</b></span>",
           "[30000:34999]",
           "From <b>Apr-30-2019</b> to <b>May-30-2019</b>",
           4.8196,
           0.2145
          ],
          [
           "Realized <b>business_value</b>",
           "<b style=\"color:#3b0280;line-height:60px\">Analysis</b>",
           "<span style=\"color:#AD0000\">⚠ <b>Drift detected</b></span>",
           "[35000:39999]",
           "From <b>May-30-2019</b> to <b>Jun-29-2019</b>",
           4.8024,
           0.2145
          ],
          [
           "Realized <b>business_value</b>",
           "<b style=\"color:#3b0280;line-height:60px\">Analysis</b>",
           "<span style=\"color:#AD0000\">⚠ <b>Drift detected</b></span>",
           "[40000:44999]",
           "From <b>Jun-29-2019</b> to <b>Jul-30-2019</b>",
           4.8532,
           0.2145
          ],
          [
           "Realized <b>business_value</b>",
           "<b style=\"color:#3b0280;line-height:60px\">Analysis</b>",
           "<span style=\"color:#AD0000\">⚠ <b>Drift detected</b></span>",
           "[45000:49999]",
           "From <b>Jul-30-2019</b> to <b>Aug-29-2019</b>",
           4.8928,
           0.2145
          ]
         ],
         "hovertemplate": "%{customdata[1]} &nbsp; &nbsp; %{customdata[2]} <br />Chunk: <b>%{customdata[3]}</b> &nbsp; &nbsp; %{customdata[4]} <br />%{customdata[0]}: <b>%{customdata[5]}</b><br />Confidence band: +/- <b>%{customdata[6]}</b><br /><extra></extra>",
         "legendgroup": "metric_analysis",
         "marker": {
          "color": "#3b0280",
          "size": 5,
          "symbol": "circle"
         },
         "mode": "markers",
         "name": "Metric (analysis)",
         "showlegend": false,
         "type": "scatter",
         "x": [
          "2018-11-14T21:18:00",
          "2018-12-15T03:54:00",
          "2019-01-14T10:30:00",
          "2019-02-13T17:06:00",
          "2019-03-15T23:42:00",
          "2019-04-15T06:18:00",
          "2019-05-15T12:54:00",
          "2019-06-14T19:30:00",
          "2019-07-15T02:06:00",
          "2019-08-14T08:37:38.424000"
         ],
         "xaxis": "x",
         "y": [
          5.2868,
          5.0624,
          5.1676,
          5.112,
          5.1572,
          4.8192,
          4.8196,
          4.8024,
          4.8532,
          4.8928,
          4.8928
         ],
         "yaxis": "y"
        },
        {
         "hoverinfo": "skip",
         "legendgroup": "alert",
         "marker": {
          "color": "#DD4040",
          "size": 8,
          "symbol": "diamond"
         },
         "mode": "markers",
         "name": "Alert",
         "showlegend": true,
         "type": "scatter",
         "x": [
          "2019-04-15T06:18:00",
          "2019-05-15T12:54:00",
          "2019-06-14T19:30:00",
          "2019-07-15T02:06:00",
          "2019-08-14T08:37:38.424000"
         ],
         "xaxis": "x",
         "y": [
          4.8192,
          4.8196,
          4.8024,
          4.8532,
          4.8928
         ],
         "yaxis": "y"
        },
        {
         "hoverinfo": "skip",
         "legendgroup": "thresh",
         "line": {
          "color": "#DD4040",
          "dash": "dash",
          "width": 2
         },
         "mode": "lines",
         "name": "Threshold",
         "showlegend": true,
         "type": "scatter",
         "x": [
          "2018-01-01T00:00:00",
          "2018-01-31T06:36:00",
          "2018-03-02T13:12:00",
          "2018-04-01T19:48:00",
          "2018-05-02T02:24:00",
          "2018-06-01T09:00:00",
          "2018-07-01T15:36:00",
          "2018-07-31T22:12:00",
          "2018-08-31T04:48:00",
          "2018-09-30T11:24:00",
          "2018-10-30T17:51:16.848000"
         ],
         "xaxis": "x",
         "y": [
          5.317571249270335,
          5.317571249270335,
          5.317571249270335,
          5.317571249270335,
          5.317571249270335,
          5.317571249270335,
          5.317571249270335,
          5.317571249270335,
          5.317571249270335,
          5.317571249270335,
          5.317571249270335
         ],
         "yaxis": "y"
        },
        {
         "hoverinfo": "skip",
         "legendgroup": "thresh",
         "line": {
          "color": "#DD4040",
          "dash": "dash",
          "width": 2
         },
         "mode": "lines",
         "name": "Threshold",
         "showlegend": false,
         "type": "scatter",
         "x": [
          "2018-01-01T00:00:00",
          "2018-01-31T06:36:00",
          "2018-03-02T13:12:00",
          "2018-04-01T19:48:00",
          "2018-05-02T02:24:00",
          "2018-06-01T09:00:00",
          "2018-07-01T15:36:00",
          "2018-07-31T22:12:00",
          "2018-08-31T04:48:00",
          "2018-09-30T11:24:00",
          "2018-10-30T17:51:16.848000"
         ],
         "xaxis": "x",
         "y": [
          5.007068750729664,
          5.007068750729664,
          5.007068750729664,
          5.007068750729664,
          5.007068750729664,
          5.007068750729664,
          5.007068750729664,
          5.007068750729664,
          5.007068750729664,
          5.007068750729664,
          5.007068750729664
         ],
         "yaxis": "y"
        },
        {
         "hoverinfo": "skip",
         "legendgroup": "thresh",
         "line": {
          "color": "#DD4040",
          "dash": "dash",
          "width": 2
         },
         "mode": "lines",
         "name": "Threshold",
         "showlegend": false,
         "type": "scatter",
         "x": [
          "2018-10-30T18:00:00",
          "2018-11-30T00:36:00",
          "2018-12-30T07:12:00",
          "2019-01-29T13:48:00",
          "2019-02-28T20:24:00",
          "2019-03-31T03:00:00",
          "2019-04-30T09:36:00",
          "2019-05-30T16:12:00",
          "2019-06-29T22:48:00",
          "2019-07-30T05:24:00",
          "2019-08-29T11:51:16.848000"
         ],
         "xaxis": "x",
         "y": [
          5.317571249270335,
          5.317571249270335,
          5.317571249270335,
          5.317571249270335,
          5.317571249270335,
          5.317571249270335,
          5.317571249270335,
          5.317571249270335,
          5.317571249270335,
          5.317571249270335,
          5.317571249270335
         ],
         "yaxis": "y"
        },
        {
         "hoverinfo": "skip",
         "legendgroup": "thresh",
         "line": {
          "color": "#DD4040",
          "dash": "dash",
          "width": 2
         },
         "mode": "lines",
         "name": "Threshold",
         "showlegend": false,
         "type": "scatter",
         "x": [
          "2018-10-30T18:00:00",
          "2018-11-30T00:36:00",
          "2018-12-30T07:12:00",
          "2019-01-29T13:48:00",
          "2019-02-28T20:24:00",
          "2019-03-31T03:00:00",
          "2019-04-30T09:36:00",
          "2019-05-30T16:12:00",
          "2019-06-29T22:48:00",
          "2019-07-30T05:24:00",
          "2019-08-29T11:51:16.848000"
         ],
         "xaxis": "x",
         "y": [
          5.007068750729664,
          5.007068750729664,
          5.007068750729664,
          5.007068750729664,
          5.007068750729664,
          5.007068750729664,
          5.007068750729664,
          5.007068750729664,
          5.007068750729664,
          5.007068750729664,
          5.007068750729664
         ],
         "yaxis": "y"
        },
        {
         "hoverinfo": "skip",
         "legendgroup": "metric_reference",
         "line": {
          "color": "#00c8e5",
          "shape": "hv",
          "width": 2
         },
         "mode": "lines",
         "name": "Metric (reference)",
         "showlegend": false,
         "type": "scatter",
         "x": [
          "2018-01-01T00:00:00",
          "2018-01-31T06:36:00",
          "2018-03-02T13:12:00",
          "2018-04-01T19:48:00",
          "2018-05-02T02:24:00",
          "2018-06-01T09:00:00",
          "2018-07-01T15:36:00",
          "2018-07-31T22:12:00",
          "2018-08-31T04:48:00",
          "2018-09-30T11:24:00",
          "2018-10-30T17:51:16.848000"
         ],
         "xaxis": "x2",
         "y": [
          0.9447070914696813,
          0.9375643931588709,
          0.9459730869652541,
          0.9432118868308569,
          0.9379891631547261,
          0.9425807779378473,
          0.9441397521836279,
          0.9446122860020141,
          0.9445228969134558,
          0.9422492401215805,
          0.9422492401215805
         ],
         "yaxis": "y2"
        },
        {
         "customdata": [
          [
           "Realized <b>f1</b>",
           "<b style=\"color:#00c8e5;line-height:60px\">Reference</b>",
           "",
           "[0:4999]",
           "From <b>Jan-01-2018</b> to <b>Jan-31-2018</b>",
           0.9447,
           0.0193
          ],
          [
           "Realized <b>f1</b>",
           "<b style=\"color:#00c8e5;line-height:60px\">Reference</b>",
           "",
           "[5000:9999]",
           "From <b>Jan-31-2018</b> to <b>Mar-02-2018</b>",
           0.9376,
           0.0193
          ],
          [
           "Realized <b>f1</b>",
           "<b style=\"color:#00c8e5;line-height:60px\">Reference</b>",
           "",
           "[10000:14999]",
           "From <b>Mar-02-2018</b> to <b>Apr-01-2018</b>",
           0.946,
           0.0193
          ],
          [
           "Realized <b>f1</b>",
           "<b style=\"color:#00c8e5;line-height:60px\">Reference</b>",
           "",
           "[15000:19999]",
           "From <b>Apr-01-2018</b> to <b>May-02-2018</b>",
           0.9432,
           0.0193
          ],
          [
           "Realized <b>f1</b>",
           "<b style=\"color:#00c8e5;line-height:60px\">Reference</b>",
           "",
           "[20000:24999]",
           "From <b>May-02-2018</b> to <b>Jun-01-2018</b>",
           0.938,
           0.0193
          ],
          [
           "Realized <b>f1</b>",
           "<b style=\"color:#00c8e5;line-height:60px\">Reference</b>",
           "",
           "[25000:29999]",
           "From <b>Jun-01-2018</b> to <b>Jul-01-2018</b>",
           0.9426,
           0.0193
          ],
          [
           "Realized <b>f1</b>",
           "<b style=\"color:#00c8e5;line-height:60px\">Reference</b>",
           "",
           "[30000:34999]",
           "From <b>Jul-01-2018</b> to <b>Jul-31-2018</b>",
           0.9441,
           0.0193
          ],
          [
           "Realized <b>f1</b>",
           "<b style=\"color:#00c8e5;line-height:60px\">Reference</b>",
           "",
           "[35000:39999]",
           "From <b>Jul-31-2018</b> to <b>Aug-31-2018</b>",
           0.9446,
           0.0193
          ],
          [
           "Realized <b>f1</b>",
           "<b style=\"color:#00c8e5;line-height:60px\">Reference</b>",
           "",
           "[40000:44999]",
           "From <b>Aug-31-2018</b> to <b>Sep-30-2018</b>",
           0.9445,
           0.0193
          ],
          [
           "Realized <b>f1</b>",
           "<b style=\"color:#00c8e5;line-height:60px\">Reference</b>",
           "",
           "[45000:49999]",
           "From <b>Sep-30-2018</b> to <b>Oct-30-2018</b>",
           0.9422,
           0.0193
          ]
         ],
         "hovertemplate": "%{customdata[1]} &nbsp; &nbsp; %{customdata[2]} <br />Chunk: <b>%{customdata[3]}</b> &nbsp; &nbsp; %{customdata[4]} <br />%{customdata[0]}: <b>%{customdata[5]}</b><br />Confidence band: +/- <b>%{customdata[6]}</b><br /><extra></extra>",
         "legendgroup": "metric_reference",
         "marker": {
          "color": "#00c8e5",
          "size": 5,
          "symbol": "circle"
         },
         "mode": "markers",
         "name": "Metric (reference)",
         "showlegend": false,
         "type": "scatter",
         "x": [
          "2018-01-16T03:18:00",
          "2018-02-15T09:54:00",
          "2018-03-17T16:30:00",
          "2018-04-16T23:06:00",
          "2018-05-17T05:42:00",
          "2018-06-16T12:18:00",
          "2018-07-16T18:54:00",
          "2018-08-16T01:30:00",
          "2018-09-15T08:06:00",
          "2018-10-15T14:37:38.424000"
         ],
         "xaxis": "x2",
         "y": [
          0.9447070914696813,
          0.9375643931588709,
          0.9459730869652541,
          0.9432118868308569,
          0.9379891631547261,
          0.9425807779378473,
          0.9441397521836279,
          0.9446122860020141,
          0.9445228969134558,
          0.9422492401215805,
          0.9422492401215805
         ],
         "yaxis": "y2"
        },
        {
         "hoverinfo": "skip",
         "legendgroup": "metric_analysis",
         "line": {
          "color": "#3b0280",
          "shape": "hv",
          "width": 2
         },
         "mode": "lines",
         "name": "Metric (analysis)",
         "showlegend": false,
         "type": "scatter",
         "x": [
          "2018-10-30T18:00:00",
          "2018-11-30T00:36:00",
          "2018-12-30T07:12:00",
          "2019-01-29T13:48:00",
          "2019-02-28T20:24:00",
          "2019-03-31T03:00:00",
          "2019-04-30T09:36:00",
          "2019-05-30T16:12:00",
          "2019-06-29T22:48:00",
          "2019-07-30T05:24:00",
          "2019-08-29T11:51:16.848000"
         ],
         "xaxis": "x2",
         "y": [
          0.9433444422662224,
          0.9401780169737115,
          0.9482005408778864,
          0.9421419778416085,
          0.9404881985071616,
          0.9136850616535274,
          0.9149536477226924,
          0.9133953864832053,
          0.920589439214081,
          0.9134975369458129,
          0.9134975369458129
         ],
         "yaxis": "y2"
        },
        {
         "customdata": [
          [
           "Realized <b>f1</b>",
           "<b style=\"color:#3b0280;line-height:60px\">Analysis</b>",
           "",
           "[0:4999]",
           "From <b>Oct-30-2018</b> to <b>Nov-30-2018</b>",
           0.9433,
           0.0193
          ],
          [
           "Realized <b>f1</b>",
           "<b style=\"color:#3b0280;line-height:60px\">Analysis</b>",
           "",
           "[5000:9999]",
           "From <b>Nov-30-2018</b> to <b>Dec-30-2018</b>",
           0.9402,
           0.0193
          ],
          [
           "Realized <b>f1</b>",
           "<b style=\"color:#3b0280;line-height:60px\">Analysis</b>",
           "",
           "[10000:14999]",
           "From <b>Dec-30-2018</b> to <b>Jan-29-2019</b>",
           0.9482,
           0.0193
          ],
          [
           "Realized <b>f1</b>",
           "<b style=\"color:#3b0280;line-height:60px\">Analysis</b>",
           "",
           "[15000:19999]",
           "From <b>Jan-29-2019</b> to <b>Feb-28-2019</b>",
           0.9421,
           0.0193
          ],
          [
           "Realized <b>f1</b>",
           "<b style=\"color:#3b0280;line-height:60px\">Analysis</b>",
           "",
           "[20000:24999]",
           "From <b>Feb-28-2019</b> to <b>Mar-31-2019</b>",
           0.9405,
           0.0193
          ],
          [
           "Realized <b>f1</b>",
           "<b style=\"color:#3b0280;line-height:60px\">Analysis</b>",
           "<span style=\"color:#AD0000\">⚠ <b>Drift detected</b></span>",
           "[25000:29999]",
           "From <b>Mar-31-2019</b> to <b>Apr-30-2019</b>",
           0.9137,
           0.0193
          ],
          [
           "Realized <b>f1</b>",
           "<b style=\"color:#3b0280;line-height:60px\">Analysis</b>",
           "<span style=\"color:#AD0000\">⚠ <b>Drift detected</b></span>",
           "[30000:34999]",
           "From <b>Apr-30-2019</b> to <b>May-30-2019</b>",
           0.915,
           0.0193
          ],
          [
           "Realized <b>f1</b>",
           "<b style=\"color:#3b0280;line-height:60px\">Analysis</b>",
           "<span style=\"color:#AD0000\">⚠ <b>Drift detected</b></span>",
           "[35000:39999]",
           "From <b>May-30-2019</b> to <b>Jun-29-2019</b>",
           0.9134,
           0.0193
          ],
          [
           "Realized <b>f1</b>",
           "<b style=\"color:#3b0280;line-height:60px\">Analysis</b>",
           "<span style=\"color:#AD0000\">⚠ <b>Drift detected</b></span>",
           "[40000:44999]",
           "From <b>Jun-29-2019</b> to <b>Jul-30-2019</b>",
           0.9206,
           0.0193
          ],
          [
           "Realized <b>f1</b>",
           "<b style=\"color:#3b0280;line-height:60px\">Analysis</b>",
           "<span style=\"color:#AD0000\">⚠ <b>Drift detected</b></span>",
           "[45000:49999]",
           "From <b>Jul-30-2019</b> to <b>Aug-29-2019</b>",
           0.9135,
           0.0193
          ]
         ],
         "hovertemplate": "%{customdata[1]} &nbsp; &nbsp; %{customdata[2]} <br />Chunk: <b>%{customdata[3]}</b> &nbsp; &nbsp; %{customdata[4]} <br />%{customdata[0]}: <b>%{customdata[5]}</b><br />Confidence band: +/- <b>%{customdata[6]}</b><br /><extra></extra>",
         "legendgroup": "metric_analysis",
         "marker": {
          "color": "#3b0280",
          "size": 5,
          "symbol": "circle"
         },
         "mode": "markers",
         "name": "Metric (analysis)",
         "showlegend": false,
         "type": "scatter",
         "x": [
          "2018-11-14T21:18:00",
          "2018-12-15T03:54:00",
          "2019-01-14T10:30:00",
          "2019-02-13T17:06:00",
          "2019-03-15T23:42:00",
          "2019-04-15T06:18:00",
          "2019-05-15T12:54:00",
          "2019-06-14T19:30:00",
          "2019-07-15T02:06:00",
          "2019-08-14T08:37:38.424000"
         ],
         "xaxis": "x2",
         "y": [
          0.9433444422662224,
          0.9401780169737115,
          0.9482005408778864,
          0.9421419778416085,
          0.9404881985071616,
          0.9136850616535274,
          0.9149536477226924,
          0.9133953864832053,
          0.920589439214081,
          0.9134975369458129,
          0.9134975369458129
         ],
         "yaxis": "y2"
        },
        {
         "hoverinfo": "skip",
         "legendgroup": "alert",
         "marker": {
          "color": "#DD4040",
          "size": 8,
          "symbol": "diamond"
         },
         "mode": "markers",
         "name": "Alert",
         "showlegend": false,
         "type": "scatter",
         "x": [
          "2019-04-15T06:18:00",
          "2019-05-15T12:54:00",
          "2019-06-14T19:30:00",
          "2019-07-15T02:06:00",
          "2019-08-14T08:37:38.424000"
         ],
         "xaxis": "x2",
         "y": [
          0.9136850616535274,
          0.9149536477226924,
          0.9133953864832053,
          0.920589439214081,
          0.9134975369458129
         ],
         "yaxis": "y2"
        },
        {
         "hoverinfo": "skip",
         "legendgroup": "thresh",
         "line": {
          "color": "#DD4040",
          "dash": "dash",
          "width": 2
         },
         "mode": "lines",
         "name": "Threshold",
         "showlegend": false,
         "type": "scatter",
         "x": [
          "2018-01-01T00:00:00",
          "2018-01-31T06:36:00",
          "2018-03-02T13:12:00",
          "2018-04-01T19:48:00",
          "2018-05-02T02:24:00",
          "2018-06-01T09:00:00",
          "2018-07-01T15:36:00",
          "2018-07-31T22:12:00",
          "2018-08-31T04:48:00",
          "2018-09-30T11:24:00",
          "2018-10-30T17:51:16.848000"
         ],
         "xaxis": "x2",
         "y": [
          0.9508500418298859,
          0.9508500418298859,
          0.9508500418298859,
          0.9508500418298859,
          0.9508500418298859,
          0.9508500418298859,
          0.9508500418298859,
          0.9508500418298859,
          0.9508500418298859,
          0.9508500418298859,
          0.9508500418298859
         ],
         "yaxis": "y2"
        },
        {
         "hoverinfo": "skip",
         "legendgroup": "thresh",
         "line": {
          "color": "#DD4040",
          "dash": "dash",
          "width": 2
         },
         "mode": "lines",
         "name": "Threshold",
         "showlegend": false,
         "type": "scatter",
         "x": [
          "2018-01-01T00:00:00",
          "2018-01-31T06:36:00",
          "2018-03-02T13:12:00",
          "2018-04-01T19:48:00",
          "2018-05-02T02:24:00",
          "2018-06-01T09:00:00",
          "2018-07-01T15:36:00",
          "2018-07-31T22:12:00",
          "2018-08-31T04:48:00",
          "2018-09-30T11:24:00",
          "2018-10-30T17:51:16.848000"
         ],
         "xaxis": "x2",
         "y": [
          0.9346600731176969,
          0.9346600731176969,
          0.9346600731176969,
          0.9346600731176969,
          0.9346600731176969,
          0.9346600731176969,
          0.9346600731176969,
          0.9346600731176969,
          0.9346600731176969,
          0.9346600731176969,
          0.9346600731176969
         ],
         "yaxis": "y2"
        },
        {
         "hoverinfo": "skip",
         "legendgroup": "thresh",
         "line": {
          "color": "#DD4040",
          "dash": "dash",
          "width": 2
         },
         "mode": "lines",
         "name": "Threshold",
         "showlegend": false,
         "type": "scatter",
         "x": [
          "2018-10-30T18:00:00",
          "2018-11-30T00:36:00",
          "2018-12-30T07:12:00",
          "2019-01-29T13:48:00",
          "2019-02-28T20:24:00",
          "2019-03-31T03:00:00",
          "2019-04-30T09:36:00",
          "2019-05-30T16:12:00",
          "2019-06-29T22:48:00",
          "2019-07-30T05:24:00",
          "2019-08-29T11:51:16.848000"
         ],
         "xaxis": "x2",
         "y": [
          0.9508500418298859,
          0.9508500418298859,
          0.9508500418298859,
          0.9508500418298859,
          0.9508500418298859,
          0.9508500418298859,
          0.9508500418298859,
          0.9508500418298859,
          0.9508500418298859,
          0.9508500418298859,
          0.9508500418298859
         ],
         "yaxis": "y2"
        },
        {
         "hoverinfo": "skip",
         "legendgroup": "thresh",
         "line": {
          "color": "#DD4040",
          "dash": "dash",
          "width": 2
         },
         "mode": "lines",
         "name": "Threshold",
         "showlegend": false,
         "type": "scatter",
         "x": [
          "2018-10-30T18:00:00",
          "2018-11-30T00:36:00",
          "2018-12-30T07:12:00",
          "2019-01-29T13:48:00",
          "2019-02-28T20:24:00",
          "2019-03-31T03:00:00",
          "2019-04-30T09:36:00",
          "2019-05-30T16:12:00",
          "2019-06-29T22:48:00",
          "2019-07-30T05:24:00",
          "2019-08-29T11:51:16.848000"
         ],
         "xaxis": "x2",
         "y": [
          0.9346600731176969,
          0.9346600731176969,
          0.9346600731176969,
          0.9346600731176969,
          0.9346600731176969,
          0.9346600731176969,
          0.9346600731176969,
          0.9346600731176969,
          0.9346600731176969,
          0.9346600731176969,
          0.9346600731176969
         ],
         "yaxis": "y2"
        },
        {
         "hoverinfo": "skip",
         "legendgroup": "metric_reference",
         "line": {
          "color": "#00c8e5",
          "shape": "hv",
          "width": 2
         },
         "mode": "lines",
         "name": "Metric (reference)",
         "showlegend": false,
         "type": "scatter",
         "x": [
          "2018-01-01T00:00:00",
          "2018-01-31T06:36:00",
          "2018-03-02T13:12:00",
          "2018-04-01T19:48:00",
          "2018-05-02T02:24:00",
          "2018-06-01T09:00:00",
          "2018-07-01T15:36:00",
          "2018-07-31T22:12:00",
          "2018-08-31T04:48:00",
          "2018-09-30T11:24:00",
          "2018-10-30T17:51:16.848000"
         ],
         "xaxis": "x3",
         "y": [
          0.976253421229159,
          0.969045372893087,
          0.9717424542454245,
          0.9716415018505611,
          0.9690851895048956,
          0.9673635705396104,
          0.9686915198502908,
          0.9702049135212074,
          0.9740964496449644,
          0.9717569573200742,
          0.9717569573200742
         ],
         "yaxis": "y3"
        },
        {
         "customdata": [
          [
           "Realized <b>roc_auc</b>",
           "<b style=\"color:#00c8e5;line-height:60px\">Reference</b>",
           "",
           "[0:4999]",
           "From <b>Jan-01-2018</b> to <b>Jan-31-2018</b>",
           0.9763,
           0.0054
          ],
          [
           "Realized <b>roc_auc</b>",
           "<b style=\"color:#00c8e5;line-height:60px\">Reference</b>",
           "",
           "[5000:9999]",
           "From <b>Jan-31-2018</b> to <b>Mar-02-2018</b>",
           0.969,
           0.0054
          ],
          [
           "Realized <b>roc_auc</b>",
           "<b style=\"color:#00c8e5;line-height:60px\">Reference</b>",
           "",
           "[10000:14999]",
           "From <b>Mar-02-2018</b> to <b>Apr-01-2018</b>",
           0.9717,
           0.0054
          ],
          [
           "Realized <b>roc_auc</b>",
           "<b style=\"color:#00c8e5;line-height:60px\">Reference</b>",
           "",
           "[15000:19999]",
           "From <b>Apr-01-2018</b> to <b>May-02-2018</b>",
           0.9716,
           0.0054
          ],
          [
           "Realized <b>roc_auc</b>",
           "<b style=\"color:#00c8e5;line-height:60px\">Reference</b>",
           "",
           "[20000:24999]",
           "From <b>May-02-2018</b> to <b>Jun-01-2018</b>",
           0.9691,
           0.0054
          ],
          [
           "Realized <b>roc_auc</b>",
           "<b style=\"color:#00c8e5;line-height:60px\">Reference</b>",
           "",
           "[25000:29999]",
           "From <b>Jun-01-2018</b> to <b>Jul-01-2018</b>",
           0.9674,
           0.0054
          ],
          [
           "Realized <b>roc_auc</b>",
           "<b style=\"color:#00c8e5;line-height:60px\">Reference</b>",
           "",
           "[30000:34999]",
           "From <b>Jul-01-2018</b> to <b>Jul-31-2018</b>",
           0.9687,
           0.0054
          ],
          [
           "Realized <b>roc_auc</b>",
           "<b style=\"color:#00c8e5;line-height:60px\">Reference</b>",
           "",
           "[35000:39999]",
           "From <b>Jul-31-2018</b> to <b>Aug-31-2018</b>",
           0.9702,
           0.0054
          ],
          [
           "Realized <b>roc_auc</b>",
           "<b style=\"color:#00c8e5;line-height:60px\">Reference</b>",
           "",
           "[40000:44999]",
           "From <b>Aug-31-2018</b> to <b>Sep-30-2018</b>",
           0.9741,
           0.0054
          ],
          [
           "Realized <b>roc_auc</b>",
           "<b style=\"color:#00c8e5;line-height:60px\">Reference</b>",
           "",
           "[45000:49999]",
           "From <b>Sep-30-2018</b> to <b>Oct-30-2018</b>",
           0.9718,
           0.0054
          ]
         ],
         "hovertemplate": "%{customdata[1]} &nbsp; &nbsp; %{customdata[2]} <br />Chunk: <b>%{customdata[3]}</b> &nbsp; &nbsp; %{customdata[4]} <br />%{customdata[0]}: <b>%{customdata[5]}</b><br />Confidence band: +/- <b>%{customdata[6]}</b><br /><extra></extra>",
         "legendgroup": "metric_reference",
         "marker": {
          "color": "#00c8e5",
          "size": 5,
          "symbol": "circle"
         },
         "mode": "markers",
         "name": "Metric (reference)",
         "showlegend": false,
         "type": "scatter",
         "x": [
          "2018-01-16T03:18:00",
          "2018-02-15T09:54:00",
          "2018-03-17T16:30:00",
          "2018-04-16T23:06:00",
          "2018-05-17T05:42:00",
          "2018-06-16T12:18:00",
          "2018-07-16T18:54:00",
          "2018-08-16T01:30:00",
          "2018-09-15T08:06:00",
          "2018-10-15T14:37:38.424000"
         ],
         "xaxis": "x3",
         "y": [
          0.976253421229159,
          0.969045372893087,
          0.9717424542454245,
          0.9716415018505611,
          0.9690851895048956,
          0.9673635705396104,
          0.9686915198502908,
          0.9702049135212074,
          0.9740964496449644,
          0.9717569573200742,
          0.9717569573200742
         ],
         "yaxis": "y3"
        },
        {
         "hoverinfo": "skip",
         "legendgroup": "metric_analysis",
         "line": {
          "color": "#3b0280",
          "shape": "hv",
          "width": 2
         },
         "mode": "lines",
         "name": "Metric (analysis)",
         "showlegend": false,
         "type": "scatter",
         "x": [
          "2018-10-30T18:00:00",
          "2018-11-30T00:36:00",
          "2018-12-30T07:12:00",
          "2019-01-29T13:48:00",
          "2019-02-28T20:24:00",
          "2019-03-31T03:00:00",
          "2019-04-30T09:36:00",
          "2019-05-30T16:12:00",
          "2019-06-29T22:48:00",
          "2019-07-30T05:24:00",
          "2019-08-29T11:51:16.848000"
         ],
         "xaxis": "x3",
         "y": [
          0.9709624381107628,
          0.9702476827059668,
          0.9762819900018559,
          0.9677208066466165,
          0.9698859857170538,
          0.9600497824716867,
          0.9585296929692968,
          0.9590407410186671,
          0.9630940067933121,
          0.9575559603676863,
          0.9575559603676863
         ],
         "yaxis": "y3"
        },
        {
         "customdata": [
          [
           "Realized <b>roc_auc</b>",
           "<b style=\"color:#3b0280;line-height:60px\">Analysis</b>",
           "",
           "[0:4999]",
           "From <b>Oct-30-2018</b> to <b>Nov-30-2018</b>",
           0.971,
           0.0054
          ],
          [
           "Realized <b>roc_auc</b>",
           "<b style=\"color:#3b0280;line-height:60px\">Analysis</b>",
           "",
           "[5000:9999]",
           "From <b>Nov-30-2018</b> to <b>Dec-30-2018</b>",
           0.9702,
           0.0054
          ],
          [
           "Realized <b>roc_auc</b>",
           "<b style=\"color:#3b0280;line-height:60px\">Analysis</b>",
           "",
           "[10000:14999]",
           "From <b>Dec-30-2018</b> to <b>Jan-29-2019</b>",
           0.9763,
           0.0054
          ],
          [
           "Realized <b>roc_auc</b>",
           "<b style=\"color:#3b0280;line-height:60px\">Analysis</b>",
           "",
           "[15000:19999]",
           "From <b>Jan-29-2019</b> to <b>Feb-28-2019</b>",
           0.9677,
           0.0054
          ],
          [
           "Realized <b>roc_auc</b>",
           "<b style=\"color:#3b0280;line-height:60px\">Analysis</b>",
           "",
           "[20000:24999]",
           "From <b>Feb-28-2019</b> to <b>Mar-31-2019</b>",
           0.9699,
           0.0054
          ],
          [
           "Realized <b>roc_auc</b>",
           "<b style=\"color:#3b0280;line-height:60px\">Analysis</b>",
           "<span style=\"color:#AD0000\">⚠ <b>Drift detected</b></span>",
           "[25000:29999]",
           "From <b>Mar-31-2019</b> to <b>Apr-30-2019</b>",
           0.96,
           0.0054
          ],
          [
           "Realized <b>roc_auc</b>",
           "<b style=\"color:#3b0280;line-height:60px\">Analysis</b>",
           "<span style=\"color:#AD0000\">⚠ <b>Drift detected</b></span>",
           "[30000:34999]",
           "From <b>Apr-30-2019</b> to <b>May-30-2019</b>",
           0.9585,
           0.0054
          ],
          [
           "Realized <b>roc_auc</b>",
           "<b style=\"color:#3b0280;line-height:60px\">Analysis</b>",
           "<span style=\"color:#AD0000\">⚠ <b>Drift detected</b></span>",
           "[35000:39999]",
           "From <b>May-30-2019</b> to <b>Jun-29-2019</b>",
           0.959,
           0.0054
          ],
          [
           "Realized <b>roc_auc</b>",
           "<b style=\"color:#3b0280;line-height:60px\">Analysis</b>",
           "<span style=\"color:#AD0000\">⚠ <b>Drift detected</b></span>",
           "[40000:44999]",
           "From <b>Jun-29-2019</b> to <b>Jul-30-2019</b>",
           0.9631,
           0.0054
          ],
          [
           "Realized <b>roc_auc</b>",
           "<b style=\"color:#3b0280;line-height:60px\">Analysis</b>",
           "<span style=\"color:#AD0000\">⚠ <b>Drift detected</b></span>",
           "[45000:49999]",
           "From <b>Jul-30-2019</b> to <b>Aug-29-2019</b>",
           0.9576,
           0.0054
          ]
         ],
         "hovertemplate": "%{customdata[1]} &nbsp; &nbsp; %{customdata[2]} <br />Chunk: <b>%{customdata[3]}</b> &nbsp; &nbsp; %{customdata[4]} <br />%{customdata[0]}: <b>%{customdata[5]}</b><br />Confidence band: +/- <b>%{customdata[6]}</b><br /><extra></extra>",
         "legendgroup": "metric_analysis",
         "marker": {
          "color": "#3b0280",
          "size": 5,
          "symbol": "circle"
         },
         "mode": "markers",
         "name": "Metric (analysis)",
         "showlegend": false,
         "type": "scatter",
         "x": [
          "2018-11-14T21:18:00",
          "2018-12-15T03:54:00",
          "2019-01-14T10:30:00",
          "2019-02-13T17:06:00",
          "2019-03-15T23:42:00",
          "2019-04-15T06:18:00",
          "2019-05-15T12:54:00",
          "2019-06-14T19:30:00",
          "2019-07-15T02:06:00",
          "2019-08-14T08:37:38.424000"
         ],
         "xaxis": "x3",
         "y": [
          0.9709624381107628,
          0.9702476827059668,
          0.9762819900018559,
          0.9677208066466165,
          0.9698859857170538,
          0.9600497824716867,
          0.9585296929692968,
          0.9590407410186671,
          0.9630940067933121,
          0.9575559603676863,
          0.9575559603676863
         ],
         "yaxis": "y3"
        },
        {
         "hoverinfo": "skip",
         "legendgroup": "alert",
         "marker": {
          "color": "#DD4040",
          "size": 8,
          "symbol": "diamond"
         },
         "mode": "markers",
         "name": "Alert",
         "showlegend": false,
         "type": "scatter",
         "x": [
          "2019-04-15T06:18:00",
          "2019-05-15T12:54:00",
          "2019-06-14T19:30:00",
          "2019-07-15T02:06:00",
          "2019-08-14T08:37:38.424000"
         ],
         "xaxis": "x3",
         "y": [
          0.9600497824716867,
          0.9585296929692968,
          0.9590407410186671,
          0.9630940067933121,
          0.9575559603676863
         ],
         "yaxis": "y3"
        },
        {
         "hoverinfo": "skip",
         "legendgroup": "thresh",
         "line": {
          "color": "#DD4040",
          "dash": "dash",
          "width": 2
         },
         "mode": "lines",
         "name": "Threshold",
         "showlegend": false,
         "type": "scatter",
         "x": [
          "2018-01-01T00:00:00",
          "2018-01-31T06:36:00",
          "2018-03-02T13:12:00",
          "2018-04-01T19:48:00",
          "2018-05-02T02:24:00",
          "2018-06-01T09:00:00",
          "2018-07-01T15:36:00",
          "2018-07-31T22:12:00",
          "2018-08-31T04:48:00",
          "2018-09-30T11:24:00",
          "2018-10-30T17:51:16.848000"
         ],
         "xaxis": "x3",
         "y": [
          0.9786597341713761,
          0.9786597341713761,
          0.9786597341713761,
          0.9786597341713761,
          0.9786597341713761,
          0.9786597341713761,
          0.9786597341713761,
          0.9786597341713761,
          0.9786597341713761,
          0.9786597341713761,
          0.9786597341713761
         ],
         "yaxis": "y3"
        },
        {
         "hoverinfo": "skip",
         "legendgroup": "thresh",
         "line": {
          "color": "#DD4040",
          "dash": "dash",
          "width": 2
         },
         "mode": "lines",
         "name": "Threshold",
         "showlegend": false,
         "type": "scatter",
         "x": [
          "2018-01-01T00:00:00",
          "2018-01-31T06:36:00",
          "2018-03-02T13:12:00",
          "2018-04-01T19:48:00",
          "2018-05-02T02:24:00",
          "2018-06-01T09:00:00",
          "2018-07-01T15:36:00",
          "2018-07-31T22:12:00",
          "2018-08-31T04:48:00",
          "2018-09-30T11:24:00",
          "2018-10-30T17:51:16.848000"
         ],
         "xaxis": "x3",
         "y": [
          0.963316535948479,
          0.963316535948479,
          0.963316535948479,
          0.963316535948479,
          0.963316535948479,
          0.963316535948479,
          0.963316535948479,
          0.963316535948479,
          0.963316535948479,
          0.963316535948479,
          0.963316535948479
         ],
         "yaxis": "y3"
        },
        {
         "hoverinfo": "skip",
         "legendgroup": "thresh",
         "line": {
          "color": "#DD4040",
          "dash": "dash",
          "width": 2
         },
         "mode": "lines",
         "name": "Threshold",
         "showlegend": false,
         "type": "scatter",
         "x": [
          "2018-10-30T18:00:00",
          "2018-11-30T00:36:00",
          "2018-12-30T07:12:00",
          "2019-01-29T13:48:00",
          "2019-02-28T20:24:00",
          "2019-03-31T03:00:00",
          "2019-04-30T09:36:00",
          "2019-05-30T16:12:00",
          "2019-06-29T22:48:00",
          "2019-07-30T05:24:00",
          "2019-08-29T11:51:16.848000"
         ],
         "xaxis": "x3",
         "y": [
          0.9786597341713761,
          0.9786597341713761,
          0.9786597341713761,
          0.9786597341713761,
          0.9786597341713761,
          0.9786597341713761,
          0.9786597341713761,
          0.9786597341713761,
          0.9786597341713761,
          0.9786597341713761,
          0.9786597341713761
         ],
         "yaxis": "y3"
        },
        {
         "hoverinfo": "skip",
         "legendgroup": "thresh",
         "line": {
          "color": "#DD4040",
          "dash": "dash",
          "width": 2
         },
         "mode": "lines",
         "name": "Threshold",
         "showlegend": false,
         "type": "scatter",
         "x": [
          "2018-10-30T18:00:00",
          "2018-11-30T00:36:00",
          "2018-12-30T07:12:00",
          "2019-01-29T13:48:00",
          "2019-02-28T20:24:00",
          "2019-03-31T03:00:00",
          "2019-04-30T09:36:00",
          "2019-05-30T16:12:00",
          "2019-06-29T22:48:00",
          "2019-07-30T05:24:00",
          "2019-08-29T11:51:16.848000"
         ],
         "xaxis": "x3",
         "y": [
          0.963316535948479,
          0.963316535948479,
          0.963316535948479,
          0.963316535948479,
          0.963316535948479,
          0.963316535948479,
          0.963316535948479,
          0.963316535948479,
          0.963316535948479,
          0.963316535948479,
          0.963316535948479
         ],
         "yaxis": "y3"
        }
       ],
       "layout": {
        "annotations": [
         {
          "font": {
           "size": 16
          },
          "showarrow": false,
          "text": "Realized <b>business_value</b>",
          "x": 0.5,
          "xanchor": "center",
          "xref": "paper",
          "y": 1,
          "yanchor": "bottom",
          "yref": "paper"
         },
         {
          "font": {
           "size": 16
          },
          "showarrow": false,
          "text": "Realized <b>f1</b>",
          "x": 0.5,
          "xanchor": "center",
          "xref": "paper",
          "y": 0.6111111111111112,
          "yanchor": "bottom",
          "yref": "paper"
         },
         {
          "font": {
           "size": 16
          },
          "showarrow": false,
          "text": "Realized <b>roc_auc</b>",
          "x": 0.5,
          "xanchor": "center",
          "xref": "paper",
          "y": 0.22222222222222224,
          "yanchor": "bottom",
          "yref": "paper"
         }
        ],
        "height": 1500,
        "hoverlabel": {
         "bgcolor": "white",
         "font": {
          "size": 14
         }
        },
        "legend": {
         "itemclick": false,
         "itemdoubleclick": false,
         "traceorder": "grouped"
        },
        "paper_bgcolor": "rgba(255,255,255,1)",
        "plot_bgcolor": "rgba(255,255,255,1)",
        "shapes": [
         {
          "layer": "below",
          "line": {
           "color": "#666666",
           "width": 1
          },
          "type": "line",
          "x0": "2018-10-30T18:00:00",
          "x1": "2018-10-30T18:00:00",
          "xref": "x",
          "y0": 0,
          "y1": 1,
          "yref": "y domain"
         },
         {
          "layer": "below",
          "line": {
           "color": "#666666",
           "width": 1
          },
          "type": "line",
          "x0": "2018-10-30T18:00:00",
          "x1": "2018-10-30T18:00:00",
          "xref": "x2",
          "y0": 0,
          "y1": 1,
          "yref": "y2 domain"
         },
         {
          "layer": "below",
          "line": {
           "color": "#666666",
           "width": 1
          },
          "type": "line",
          "x0": "2018-10-30T18:00:00",
          "x1": "2018-10-30T18:00:00",
          "xref": "x3",
          "y0": 0,
          "y1": 1,
          "yref": "y3 domain"
         }
        ],
        "template": {
         "data": {
          "bar": [
           {
            "error_x": {
             "color": "#2a3f5f"
            },
            "error_y": {
             "color": "#2a3f5f"
            },
            "marker": {
             "line": {
              "color": "#E5ECF6",
              "width": 0.5
             },
             "pattern": {
              "fillmode": "overlay",
              "size": 10,
              "solidity": 0.2
             }
            },
            "type": "bar"
           }
          ],
          "barpolar": [
           {
            "marker": {
             "line": {
              "color": "#E5ECF6",
              "width": 0.5
             },
             "pattern": {
              "fillmode": "overlay",
              "size": 10,
              "solidity": 0.2
             }
            },
            "type": "barpolar"
           }
          ],
          "carpet": [
           {
            "aaxis": {
             "endlinecolor": "#2a3f5f",
             "gridcolor": "white",
             "linecolor": "white",
             "minorgridcolor": "white",
             "startlinecolor": "#2a3f5f"
            },
            "baxis": {
             "endlinecolor": "#2a3f5f",
             "gridcolor": "white",
             "linecolor": "white",
             "minorgridcolor": "white",
             "startlinecolor": "#2a3f5f"
            },
            "type": "carpet"
           }
          ],
          "choropleth": [
           {
            "colorbar": {
             "outlinewidth": 0,
             "ticks": ""
            },
            "type": "choropleth"
           }
          ],
          "contour": [
           {
            "colorbar": {
             "outlinewidth": 0,
             "ticks": ""
            },
            "colorscale": [
             [
              0,
              "#0d0887"
             ],
             [
              0.1111111111111111,
              "#46039f"
             ],
             [
              0.2222222222222222,
              "#7201a8"
             ],
             [
              0.3333333333333333,
              "#9c179e"
             ],
             [
              0.4444444444444444,
              "#bd3786"
             ],
             [
              0.5555555555555556,
              "#d8576b"
             ],
             [
              0.6666666666666666,
              "#ed7953"
             ],
             [
              0.7777777777777778,
              "#fb9f3a"
             ],
             [
              0.8888888888888888,
              "#fdca26"
             ],
             [
              1,
              "#f0f921"
             ]
            ],
            "type": "contour"
           }
          ],
          "contourcarpet": [
           {
            "colorbar": {
             "outlinewidth": 0,
             "ticks": ""
            },
            "type": "contourcarpet"
           }
          ],
          "heatmap": [
           {
            "colorbar": {
             "outlinewidth": 0,
             "ticks": ""
            },
            "colorscale": [
             [
              0,
              "#0d0887"
             ],
             [
              0.1111111111111111,
              "#46039f"
             ],
             [
              0.2222222222222222,
              "#7201a8"
             ],
             [
              0.3333333333333333,
              "#9c179e"
             ],
             [
              0.4444444444444444,
              "#bd3786"
             ],
             [
              0.5555555555555556,
              "#d8576b"
             ],
             [
              0.6666666666666666,
              "#ed7953"
             ],
             [
              0.7777777777777778,
              "#fb9f3a"
             ],
             [
              0.8888888888888888,
              "#fdca26"
             ],
             [
              1,
              "#f0f921"
             ]
            ],
            "type": "heatmap"
           }
          ],
          "heatmapgl": [
           {
            "colorbar": {
             "outlinewidth": 0,
             "ticks": ""
            },
            "colorscale": [
             [
              0,
              "#0d0887"
             ],
             [
              0.1111111111111111,
              "#46039f"
             ],
             [
              0.2222222222222222,
              "#7201a8"
             ],
             [
              0.3333333333333333,
              "#9c179e"
             ],
             [
              0.4444444444444444,
              "#bd3786"
             ],
             [
              0.5555555555555556,
              "#d8576b"
             ],
             [
              0.6666666666666666,
              "#ed7953"
             ],
             [
              0.7777777777777778,
              "#fb9f3a"
             ],
             [
              0.8888888888888888,
              "#fdca26"
             ],
             [
              1,
              "#f0f921"
             ]
            ],
            "type": "heatmapgl"
           }
          ],
          "histogram": [
           {
            "marker": {
             "pattern": {
              "fillmode": "overlay",
              "size": 10,
              "solidity": 0.2
             }
            },
            "type": "histogram"
           }
          ],
          "histogram2d": [
           {
            "colorbar": {
             "outlinewidth": 0,
             "ticks": ""
            },
            "colorscale": [
             [
              0,
              "#0d0887"
             ],
             [
              0.1111111111111111,
              "#46039f"
             ],
             [
              0.2222222222222222,
              "#7201a8"
             ],
             [
              0.3333333333333333,
              "#9c179e"
             ],
             [
              0.4444444444444444,
              "#bd3786"
             ],
             [
              0.5555555555555556,
              "#d8576b"
             ],
             [
              0.6666666666666666,
              "#ed7953"
             ],
             [
              0.7777777777777778,
              "#fb9f3a"
             ],
             [
              0.8888888888888888,
              "#fdca26"
             ],
             [
              1,
              "#f0f921"
             ]
            ],
            "type": "histogram2d"
           }
          ],
          "histogram2dcontour": [
           {
            "colorbar": {
             "outlinewidth": 0,
             "ticks": ""
            },
            "colorscale": [
             [
              0,
              "#0d0887"
             ],
             [
              0.1111111111111111,
              "#46039f"
             ],
             [
              0.2222222222222222,
              "#7201a8"
             ],
             [
              0.3333333333333333,
              "#9c179e"
             ],
             [
              0.4444444444444444,
              "#bd3786"
             ],
             [
              0.5555555555555556,
              "#d8576b"
             ],
             [
              0.6666666666666666,
              "#ed7953"
             ],
             [
              0.7777777777777778,
              "#fb9f3a"
             ],
             [
              0.8888888888888888,
              "#fdca26"
             ],
             [
              1,
              "#f0f921"
             ]
            ],
            "type": "histogram2dcontour"
           }
          ],
          "mesh3d": [
           {
            "colorbar": {
             "outlinewidth": 0,
             "ticks": ""
            },
            "type": "mesh3d"
           }
          ],
          "parcoords": [
           {
            "line": {
             "colorbar": {
              "outlinewidth": 0,
              "ticks": ""
             }
            },
            "type": "parcoords"
           }
          ],
          "pie": [
           {
            "automargin": true,
            "type": "pie"
           }
          ],
          "scatter": [
           {
            "fillpattern": {
             "fillmode": "overlay",
             "size": 10,
             "solidity": 0.2
            },
            "type": "scatter"
           }
          ],
          "scatter3d": [
           {
            "line": {
             "colorbar": {
              "outlinewidth": 0,
              "ticks": ""
             }
            },
            "marker": {
             "colorbar": {
              "outlinewidth": 0,
              "ticks": ""
             }
            },
            "type": "scatter3d"
           }
          ],
          "scattercarpet": [
           {
            "marker": {
             "colorbar": {
              "outlinewidth": 0,
              "ticks": ""
             }
            },
            "type": "scattercarpet"
           }
          ],
          "scattergeo": [
           {
            "marker": {
             "colorbar": {
              "outlinewidth": 0,
              "ticks": ""
             }
            },
            "type": "scattergeo"
           }
          ],
          "scattergl": [
           {
            "marker": {
             "colorbar": {
              "outlinewidth": 0,
              "ticks": ""
             }
            },
            "type": "scattergl"
           }
          ],
          "scattermapbox": [
           {
            "marker": {
             "colorbar": {
              "outlinewidth": 0,
              "ticks": ""
             }
            },
            "type": "scattermapbox"
           }
          ],
          "scatterpolar": [
           {
            "marker": {
             "colorbar": {
              "outlinewidth": 0,
              "ticks": ""
             }
            },
            "type": "scatterpolar"
           }
          ],
          "scatterpolargl": [
           {
            "marker": {
             "colorbar": {
              "outlinewidth": 0,
              "ticks": ""
             }
            },
            "type": "scatterpolargl"
           }
          ],
          "scatterternary": [
           {
            "marker": {
             "colorbar": {
              "outlinewidth": 0,
              "ticks": ""
             }
            },
            "type": "scatterternary"
           }
          ],
          "surface": [
           {
            "colorbar": {
             "outlinewidth": 0,
             "ticks": ""
            },
            "colorscale": [
             [
              0,
              "#0d0887"
             ],
             [
              0.1111111111111111,
              "#46039f"
             ],
             [
              0.2222222222222222,
              "#7201a8"
             ],
             [
              0.3333333333333333,
              "#9c179e"
             ],
             [
              0.4444444444444444,
              "#bd3786"
             ],
             [
              0.5555555555555556,
              "#d8576b"
             ],
             [
              0.6666666666666666,
              "#ed7953"
             ],
             [
              0.7777777777777778,
              "#fb9f3a"
             ],
             [
              0.8888888888888888,
              "#fdca26"
             ],
             [
              1,
              "#f0f921"
             ]
            ],
            "type": "surface"
           }
          ],
          "table": [
           {
            "cells": {
             "fill": {
              "color": "#EBF0F8"
             },
             "line": {
              "color": "white"
             }
            },
            "header": {
             "fill": {
              "color": "#C8D4E3"
             },
             "line": {
              "color": "white"
             }
            },
            "type": "table"
           }
          ]
         },
         "layout": {
          "annotationdefaults": {
           "arrowcolor": "#2a3f5f",
           "arrowhead": 0,
           "arrowwidth": 1
          },
          "autotypenumbers": "strict",
          "coloraxis": {
           "colorbar": {
            "outlinewidth": 0,
            "ticks": ""
           }
          },
          "colorscale": {
           "diverging": [
            [
             0,
             "#8e0152"
            ],
            [
             0.1,
             "#c51b7d"
            ],
            [
             0.2,
             "#de77ae"
            ],
            [
             0.3,
             "#f1b6da"
            ],
            [
             0.4,
             "#fde0ef"
            ],
            [
             0.5,
             "#f7f7f7"
            ],
            [
             0.6,
             "#e6f5d0"
            ],
            [
             0.7,
             "#b8e186"
            ],
            [
             0.8,
             "#7fbc41"
            ],
            [
             0.9,
             "#4d9221"
            ],
            [
             1,
             "#276419"
            ]
           ],
           "sequential": [
            [
             0,
             "#0d0887"
            ],
            [
             0.1111111111111111,
             "#46039f"
            ],
            [
             0.2222222222222222,
             "#7201a8"
            ],
            [
             0.3333333333333333,
             "#9c179e"
            ],
            [
             0.4444444444444444,
             "#bd3786"
            ],
            [
             0.5555555555555556,
             "#d8576b"
            ],
            [
             0.6666666666666666,
             "#ed7953"
            ],
            [
             0.7777777777777778,
             "#fb9f3a"
            ],
            [
             0.8888888888888888,
             "#fdca26"
            ],
            [
             1,
             "#f0f921"
            ]
           ],
           "sequentialminus": [
            [
             0,
             "#0d0887"
            ],
            [
             0.1111111111111111,
             "#46039f"
            ],
            [
             0.2222222222222222,
             "#7201a8"
            ],
            [
             0.3333333333333333,
             "#9c179e"
            ],
            [
             0.4444444444444444,
             "#bd3786"
            ],
            [
             0.5555555555555556,
             "#d8576b"
            ],
            [
             0.6666666666666666,
             "#ed7953"
            ],
            [
             0.7777777777777778,
             "#fb9f3a"
            ],
            [
             0.8888888888888888,
             "#fdca26"
            ],
            [
             1,
             "#f0f921"
            ]
           ]
          },
          "colorway": [
           "#636efa",
           "#EF553B",
           "#00cc96",
           "#ab63fa",
           "#FFA15A",
           "#19d3f3",
           "#FF6692",
           "#B6E880",
           "#FF97FF",
           "#FECB52"
          ],
          "font": {
           "color": "#2a3f5f"
          },
          "geo": {
           "bgcolor": "white",
           "lakecolor": "white",
           "landcolor": "#E5ECF6",
           "showlakes": true,
           "showland": true,
           "subunitcolor": "white"
          },
          "hoverlabel": {
           "align": "left"
          },
          "hovermode": "closest",
          "mapbox": {
           "style": "light"
          },
          "paper_bgcolor": "white",
          "plot_bgcolor": "#E5ECF6",
          "polar": {
           "angularaxis": {
            "gridcolor": "white",
            "linecolor": "white",
            "ticks": ""
           },
           "bgcolor": "#E5ECF6",
           "radialaxis": {
            "gridcolor": "white",
            "linecolor": "white",
            "ticks": ""
           }
          },
          "scene": {
           "xaxis": {
            "backgroundcolor": "#E5ECF6",
            "gridcolor": "white",
            "gridwidth": 2,
            "linecolor": "white",
            "showbackground": true,
            "ticks": "",
            "zerolinecolor": "white"
           },
           "yaxis": {
            "backgroundcolor": "#E5ECF6",
            "gridcolor": "white",
            "gridwidth": 2,
            "linecolor": "white",
            "showbackground": true,
            "ticks": "",
            "zerolinecolor": "white"
           },
           "zaxis": {
            "backgroundcolor": "#E5ECF6",
            "gridcolor": "white",
            "gridwidth": 2,
            "linecolor": "white",
            "showbackground": true,
            "ticks": "",
            "zerolinecolor": "white"
           }
          },
          "shapedefaults": {
           "line": {
            "color": "#2a3f5f"
           }
          },
          "ternary": {
           "aaxis": {
            "gridcolor": "white",
            "linecolor": "white",
            "ticks": ""
           },
           "baxis": {
            "gridcolor": "white",
            "linecolor": "white",
            "ticks": ""
           },
           "bgcolor": "#E5ECF6",
           "caxis": {
            "gridcolor": "white",
            "linecolor": "white",
            "ticks": ""
           }
          },
          "title": {
           "x": 0.05
          },
          "xaxis": {
           "automargin": true,
           "gridcolor": "white",
           "linecolor": "white",
           "ticks": "",
           "title": {
            "standoff": 15
           },
           "zerolinecolor": "white",
           "zerolinewidth": 2
          },
          "yaxis": {
           "automargin": true,
           "gridcolor": "white",
           "linecolor": "white",
           "ticks": "",
           "title": {
            "standoff": 15
           },
           "zerolinecolor": "white",
           "zerolinewidth": 2
          }
         }
        },
        "title": {
         "text": "Realized performance"
        },
        "xaxis": {
         "anchor": "y",
         "domain": [
          0,
          1
         ],
         "linecolor": "#3b0280",
         "matches": "x",
         "mirror": true,
         "showgrid": false,
         "showticklabels": true,
         "title": {
          "text": "Time"
         },
         "zeroline": false
        },
        "xaxis2": {
         "anchor": "y2",
         "domain": [
          0,
          1
         ],
         "linecolor": "#3b0280",
         "matches": "x",
         "mirror": true,
         "showgrid": false,
         "showticklabels": true,
         "title": {
          "text": "Time"
         },
         "zeroline": false
        },
        "xaxis3": {
         "anchor": "y3",
         "domain": [
          0,
          1
         ],
         "linecolor": "#3b0280",
         "matches": "x",
         "mirror": true,
         "showgrid": false,
         "showticklabels": true,
         "title": {
          "text": "Time"
         },
         "zeroline": false
        },
        "yaxis": {
         "anchor": "x",
         "domain": [
          0.7777777777777778,
          1
         ],
         "linecolor": "#3b0280",
         "mirror": true,
         "showgrid": false,
         "title": {
          "text": "business_value"
         },
         "zeroline": false
        },
        "yaxis2": {
         "anchor": "x2",
         "domain": [
          0.3888888888888889,
          0.6111111111111112
         ],
         "linecolor": "#3b0280",
         "mirror": true,
         "showgrid": false,
         "title": {
          "text": "f1"
         },
         "zeroline": false
        },
        "yaxis3": {
         "anchor": "x3",
         "domain": [
          0,
          0.22222222222222224
         ],
         "linecolor": "#3b0280",
         "mirror": true,
         "showgrid": false,
         "title": {
          "text": "roc_auc"
         },
         "zeroline": false
        }
       }
      }
     },
     "metadata": {},
     "output_type": "display_data"
    }
   ],
   "source": [
    "figure = results.plot()\n",
    "figure.show()"
   ]
  },
  {
   "cell_type": "code",
   "execution_count": 22,
   "metadata": {},
   "outputs": [
    {
     "data": {
      "text/html": [
       "<div>\n",
       "<style scoped>\n",
       "    .dataframe tbody tr th:only-of-type {\n",
       "        vertical-align: middle;\n",
       "    }\n",
       "\n",
       "    .dataframe tbody tr th {\n",
       "        vertical-align: top;\n",
       "    }\n",
       "\n",
       "    .dataframe thead tr th {\n",
       "        text-align: left;\n",
       "    }\n",
       "</style>\n",
       "<table border=\"1\" class=\"dataframe\">\n",
       "  <thead>\n",
       "    <tr>\n",
       "      <th></th>\n",
       "      <th colspan=\"8\" halign=\"left\">chunk</th>\n",
       "      <th colspan=\"2\" halign=\"left\">Business Value</th>\n",
       "      <th>...</th>\n",
       "      <th colspan=\"5\" halign=\"left\">F1</th>\n",
       "      <th colspan=\"5\" halign=\"left\">ROC AUC</th>\n",
       "    </tr>\n",
       "    <tr>\n",
       "      <th></th>\n",
       "      <th>key</th>\n",
       "      <th>chunk_index</th>\n",
       "      <th>start_index</th>\n",
       "      <th>end_index</th>\n",
       "      <th>start_date</th>\n",
       "      <th>end_date</th>\n",
       "      <th>period</th>\n",
       "      <th>targets_missing_rate</th>\n",
       "      <th>sampling_error</th>\n",
       "      <th>value</th>\n",
       "      <th>...</th>\n",
       "      <th>sampling_error</th>\n",
       "      <th>value</th>\n",
       "      <th>upper_threshold</th>\n",
       "      <th>lower_threshold</th>\n",
       "      <th>alert</th>\n",
       "      <th>sampling_error</th>\n",
       "      <th>value</th>\n",
       "      <th>upper_threshold</th>\n",
       "      <th>lower_threshold</th>\n",
       "      <th>alert</th>\n",
       "    </tr>\n",
       "  </thead>\n",
       "  <tbody>\n",
       "    <tr>\n",
       "      <th>0</th>\n",
       "      <td>[0:4999]</td>\n",
       "      <td>0</td>\n",
       "      <td>0</td>\n",
       "      <td>4999</td>\n",
       "      <td>2018-10-30 18:00:00</td>\n",
       "      <td>2018-11-30 00:27:16.848</td>\n",
       "      <td>analysis</td>\n",
       "      <td>0.0</td>\n",
       "      <td>0.0715</td>\n",
       "      <td>5.2868</td>\n",
       "      <td>...</td>\n",
       "      <td>0.00644</td>\n",
       "      <td>0.943344</td>\n",
       "      <td>0.95085</td>\n",
       "      <td>0.93466</td>\n",
       "      <td>False</td>\n",
       "      <td>0.001811</td>\n",
       "      <td>0.970962</td>\n",
       "      <td>0.97866</td>\n",
       "      <td>0.963317</td>\n",
       "      <td>False</td>\n",
       "    </tr>\n",
       "    <tr>\n",
       "      <th>1</th>\n",
       "      <td>[5000:9999]</td>\n",
       "      <td>1</td>\n",
       "      <td>5000</td>\n",
       "      <td>9999</td>\n",
       "      <td>2018-11-30 00:36:00</td>\n",
       "      <td>2018-12-30 07:03:16.848</td>\n",
       "      <td>analysis</td>\n",
       "      <td>0.0</td>\n",
       "      <td>0.0715</td>\n",
       "      <td>5.0624</td>\n",
       "      <td>...</td>\n",
       "      <td>0.00644</td>\n",
       "      <td>0.940178</td>\n",
       "      <td>0.95085</td>\n",
       "      <td>0.93466</td>\n",
       "      <td>False</td>\n",
       "      <td>0.001811</td>\n",
       "      <td>0.970248</td>\n",
       "      <td>0.97866</td>\n",
       "      <td>0.963317</td>\n",
       "      <td>False</td>\n",
       "    </tr>\n",
       "    <tr>\n",
       "      <th>2</th>\n",
       "      <td>[10000:14999]</td>\n",
       "      <td>2</td>\n",
       "      <td>10000</td>\n",
       "      <td>14999</td>\n",
       "      <td>2018-12-30 07:12:00</td>\n",
       "      <td>2019-01-29 13:39:16.848</td>\n",
       "      <td>analysis</td>\n",
       "      <td>0.0</td>\n",
       "      <td>0.0715</td>\n",
       "      <td>5.1676</td>\n",
       "      <td>...</td>\n",
       "      <td>0.00644</td>\n",
       "      <td>0.948201</td>\n",
       "      <td>0.95085</td>\n",
       "      <td>0.93466</td>\n",
       "      <td>False</td>\n",
       "      <td>0.001811</td>\n",
       "      <td>0.976282</td>\n",
       "      <td>0.97866</td>\n",
       "      <td>0.963317</td>\n",
       "      <td>False</td>\n",
       "    </tr>\n",
       "    <tr>\n",
       "      <th>3</th>\n",
       "      <td>[15000:19999]</td>\n",
       "      <td>3</td>\n",
       "      <td>15000</td>\n",
       "      <td>19999</td>\n",
       "      <td>2019-01-29 13:48:00</td>\n",
       "      <td>2019-02-28 20:15:16.848</td>\n",
       "      <td>analysis</td>\n",
       "      <td>0.0</td>\n",
       "      <td>0.0715</td>\n",
       "      <td>5.1120</td>\n",
       "      <td>...</td>\n",
       "      <td>0.00644</td>\n",
       "      <td>0.942142</td>\n",
       "      <td>0.95085</td>\n",
       "      <td>0.93466</td>\n",
       "      <td>False</td>\n",
       "      <td>0.001811</td>\n",
       "      <td>0.967721</td>\n",
       "      <td>0.97866</td>\n",
       "      <td>0.963317</td>\n",
       "      <td>False</td>\n",
       "    </tr>\n",
       "    <tr>\n",
       "      <th>4</th>\n",
       "      <td>[20000:24999]</td>\n",
       "      <td>4</td>\n",
       "      <td>20000</td>\n",
       "      <td>24999</td>\n",
       "      <td>2019-02-28 20:24:00</td>\n",
       "      <td>2019-03-31 02:51:16.848</td>\n",
       "      <td>analysis</td>\n",
       "      <td>0.0</td>\n",
       "      <td>0.0715</td>\n",
       "      <td>5.1572</td>\n",
       "      <td>...</td>\n",
       "      <td>0.00644</td>\n",
       "      <td>0.940488</td>\n",
       "      <td>0.95085</td>\n",
       "      <td>0.93466</td>\n",
       "      <td>False</td>\n",
       "      <td>0.001811</td>\n",
       "      <td>0.969886</td>\n",
       "      <td>0.97866</td>\n",
       "      <td>0.963317</td>\n",
       "      <td>False</td>\n",
       "    </tr>\n",
       "    <tr>\n",
       "      <th>5</th>\n",
       "      <td>[25000:29999]</td>\n",
       "      <td>5</td>\n",
       "      <td>25000</td>\n",
       "      <td>29999</td>\n",
       "      <td>2019-03-31 03:00:00</td>\n",
       "      <td>2019-04-30 09:27:16.848</td>\n",
       "      <td>analysis</td>\n",
       "      <td>0.0</td>\n",
       "      <td>0.0715</td>\n",
       "      <td>4.8192</td>\n",
       "      <td>...</td>\n",
       "      <td>0.00644</td>\n",
       "      <td>0.913685</td>\n",
       "      <td>0.95085</td>\n",
       "      <td>0.93466</td>\n",
       "      <td>True</td>\n",
       "      <td>0.001811</td>\n",
       "      <td>0.960050</td>\n",
       "      <td>0.97866</td>\n",
       "      <td>0.963317</td>\n",
       "      <td>True</td>\n",
       "    </tr>\n",
       "    <tr>\n",
       "      <th>6</th>\n",
       "      <td>[30000:34999]</td>\n",
       "      <td>6</td>\n",
       "      <td>30000</td>\n",
       "      <td>34999</td>\n",
       "      <td>2019-04-30 09:36:00</td>\n",
       "      <td>2019-05-30 16:03:16.848</td>\n",
       "      <td>analysis</td>\n",
       "      <td>0.0</td>\n",
       "      <td>0.0715</td>\n",
       "      <td>4.8196</td>\n",
       "      <td>...</td>\n",
       "      <td>0.00644</td>\n",
       "      <td>0.914954</td>\n",
       "      <td>0.95085</td>\n",
       "      <td>0.93466</td>\n",
       "      <td>True</td>\n",
       "      <td>0.001811</td>\n",
       "      <td>0.958530</td>\n",
       "      <td>0.97866</td>\n",
       "      <td>0.963317</td>\n",
       "      <td>True</td>\n",
       "    </tr>\n",
       "    <tr>\n",
       "      <th>7</th>\n",
       "      <td>[35000:39999]</td>\n",
       "      <td>7</td>\n",
       "      <td>35000</td>\n",
       "      <td>39999</td>\n",
       "      <td>2019-05-30 16:12:00</td>\n",
       "      <td>2019-06-29 22:39:16.848</td>\n",
       "      <td>analysis</td>\n",
       "      <td>0.0</td>\n",
       "      <td>0.0715</td>\n",
       "      <td>4.8024</td>\n",
       "      <td>...</td>\n",
       "      <td>0.00644</td>\n",
       "      <td>0.913395</td>\n",
       "      <td>0.95085</td>\n",
       "      <td>0.93466</td>\n",
       "      <td>True</td>\n",
       "      <td>0.001811</td>\n",
       "      <td>0.959041</td>\n",
       "      <td>0.97866</td>\n",
       "      <td>0.963317</td>\n",
       "      <td>True</td>\n",
       "    </tr>\n",
       "    <tr>\n",
       "      <th>8</th>\n",
       "      <td>[40000:44999]</td>\n",
       "      <td>8</td>\n",
       "      <td>40000</td>\n",
       "      <td>44999</td>\n",
       "      <td>2019-06-29 22:48:00</td>\n",
       "      <td>2019-07-30 05:15:16.848</td>\n",
       "      <td>analysis</td>\n",
       "      <td>0.0</td>\n",
       "      <td>0.0715</td>\n",
       "      <td>4.8532</td>\n",
       "      <td>...</td>\n",
       "      <td>0.00644</td>\n",
       "      <td>0.920589</td>\n",
       "      <td>0.95085</td>\n",
       "      <td>0.93466</td>\n",
       "      <td>True</td>\n",
       "      <td>0.001811</td>\n",
       "      <td>0.963094</td>\n",
       "      <td>0.97866</td>\n",
       "      <td>0.963317</td>\n",
       "      <td>True</td>\n",
       "    </tr>\n",
       "    <tr>\n",
       "      <th>9</th>\n",
       "      <td>[45000:49999]</td>\n",
       "      <td>9</td>\n",
       "      <td>45000</td>\n",
       "      <td>49999</td>\n",
       "      <td>2019-07-30 05:24:00</td>\n",
       "      <td>2019-08-29 11:51:16.848</td>\n",
       "      <td>analysis</td>\n",
       "      <td>0.0</td>\n",
       "      <td>0.0715</td>\n",
       "      <td>4.8928</td>\n",
       "      <td>...</td>\n",
       "      <td>0.00644</td>\n",
       "      <td>0.913498</td>\n",
       "      <td>0.95085</td>\n",
       "      <td>0.93466</td>\n",
       "      <td>True</td>\n",
       "      <td>0.001811</td>\n",
       "      <td>0.957556</td>\n",
       "      <td>0.97866</td>\n",
       "      <td>0.963317</td>\n",
       "      <td>True</td>\n",
       "    </tr>\n",
       "  </tbody>\n",
       "</table>\n",
       "<p>10 rows × 23 columns</p>\n",
       "</div>"
      ],
      "text/plain": [
       "           chunk                                                        \\\n",
       "             key chunk_index start_index end_index          start_date   \n",
       "0       [0:4999]           0           0      4999 2018-10-30 18:00:00   \n",
       "1    [5000:9999]           1        5000      9999 2018-11-30 00:36:00   \n",
       "2  [10000:14999]           2       10000     14999 2018-12-30 07:12:00   \n",
       "3  [15000:19999]           3       15000     19999 2019-01-29 13:48:00   \n",
       "4  [20000:24999]           4       20000     24999 2019-02-28 20:24:00   \n",
       "5  [25000:29999]           5       25000     29999 2019-03-31 03:00:00   \n",
       "6  [30000:34999]           6       30000     34999 2019-04-30 09:36:00   \n",
       "7  [35000:39999]           7       35000     39999 2019-05-30 16:12:00   \n",
       "8  [40000:44999]           8       40000     44999 2019-06-29 22:48:00   \n",
       "9  [45000:49999]           9       45000     49999 2019-07-30 05:24:00   \n",
       "\n",
       "                                                         Business Value  \\\n",
       "                 end_date    period targets_missing_rate sampling_error   \n",
       "0 2018-11-30 00:27:16.848  analysis                  0.0         0.0715   \n",
       "1 2018-12-30 07:03:16.848  analysis                  0.0         0.0715   \n",
       "2 2019-01-29 13:39:16.848  analysis                  0.0         0.0715   \n",
       "3 2019-02-28 20:15:16.848  analysis                  0.0         0.0715   \n",
       "4 2019-03-31 02:51:16.848  analysis                  0.0         0.0715   \n",
       "5 2019-04-30 09:27:16.848  analysis                  0.0         0.0715   \n",
       "6 2019-05-30 16:03:16.848  analysis                  0.0         0.0715   \n",
       "7 2019-06-29 22:39:16.848  analysis                  0.0         0.0715   \n",
       "8 2019-07-30 05:15:16.848  analysis                  0.0         0.0715   \n",
       "9 2019-08-29 11:51:16.848  analysis                  0.0         0.0715   \n",
       "\n",
       "           ...             F1                                            \\\n",
       "    value  ... sampling_error     value upper_threshold lower_threshold   \n",
       "0  5.2868  ...        0.00644  0.943344         0.95085         0.93466   \n",
       "1  5.0624  ...        0.00644  0.940178         0.95085         0.93466   \n",
       "2  5.1676  ...        0.00644  0.948201         0.95085         0.93466   \n",
       "3  5.1120  ...        0.00644  0.942142         0.95085         0.93466   \n",
       "4  5.1572  ...        0.00644  0.940488         0.95085         0.93466   \n",
       "5  4.8192  ...        0.00644  0.913685         0.95085         0.93466   \n",
       "6  4.8196  ...        0.00644  0.914954         0.95085         0.93466   \n",
       "7  4.8024  ...        0.00644  0.913395         0.95085         0.93466   \n",
       "8  4.8532  ...        0.00644  0.920589         0.95085         0.93466   \n",
       "9  4.8928  ...        0.00644  0.913498         0.95085         0.93466   \n",
       "\n",
       "                ROC AUC                                                   \n",
       "   alert sampling_error     value upper_threshold lower_threshold  alert  \n",
       "0  False       0.001811  0.970962         0.97866        0.963317  False  \n",
       "1  False       0.001811  0.970248         0.97866        0.963317  False  \n",
       "2  False       0.001811  0.976282         0.97866        0.963317  False  \n",
       "3  False       0.001811  0.967721         0.97866        0.963317  False  \n",
       "4  False       0.001811  0.969886         0.97866        0.963317  False  \n",
       "5   True       0.001811  0.960050         0.97866        0.963317   True  \n",
       "6   True       0.001811  0.958530         0.97866        0.963317   True  \n",
       "7   True       0.001811  0.959041         0.97866        0.963317   True  \n",
       "8   True       0.001811  0.963094         0.97866        0.963317   True  \n",
       "9   True       0.001811  0.957556         0.97866        0.963317   True  \n",
       "\n",
       "[10 rows x 23 columns]"
      ]
     },
     "metadata": {},
     "output_type": "display_data"
    }
   ],
   "source": [
    "filtered_results = results.filter(period='analysis')\n",
    "display(filtered_results.to_df())"
   ]
  },
  {
   "cell_type": "code",
   "execution_count": 24,
   "metadata": {},
   "outputs": [
    {
     "data": {
      "text/html": [
       "<div>\n",
       "<style scoped>\n",
       "    .dataframe tbody tr th:only-of-type {\n",
       "        vertical-align: middle;\n",
       "    }\n",
       "\n",
       "    .dataframe tbody tr th {\n",
       "        vertical-align: top;\n",
       "    }\n",
       "\n",
       "    .dataframe thead th {\n",
       "        text-align: right;\n",
       "    }\n",
       "</style>\n",
       "<table border=\"1\" class=\"dataframe\">\n",
       "  <thead>\n",
       "    <tr style=\"text-align: right;\">\n",
       "      <th></th>\n",
       "      <th>car_value</th>\n",
       "      <th>salary_range</th>\n",
       "      <th>debt_to_income_ratio</th>\n",
       "      <th>loan_length</th>\n",
       "      <th>repaid_loan_on_prev_car</th>\n",
       "      <th>size_of_downpayment</th>\n",
       "      <th>driver_tenure</th>\n",
       "      <th>repaid</th>\n",
       "      <th>timestamp</th>\n",
       "      <th>y_pred_proba</th>\n",
       "      <th>y_pred</th>\n",
       "    </tr>\n",
       "  </thead>\n",
       "  <tbody>\n",
       "    <tr>\n",
       "      <th>0</th>\n",
       "      <td>39811.0</td>\n",
       "      <td>40K - 60K €</td>\n",
       "      <td>0.632950</td>\n",
       "      <td>19.0</td>\n",
       "      <td>False</td>\n",
       "      <td>40%</td>\n",
       "      <td>0.212653</td>\n",
       "      <td>1.0</td>\n",
       "      <td>2018-01-01 00:00:00.000</td>\n",
       "      <td>0.99</td>\n",
       "      <td>1</td>\n",
       "    </tr>\n",
       "    <tr>\n",
       "      <th>1</th>\n",
       "      <td>12679.0</td>\n",
       "      <td>40K - 60K €</td>\n",
       "      <td>0.718627</td>\n",
       "      <td>7.0</td>\n",
       "      <td>True</td>\n",
       "      <td>10%</td>\n",
       "      <td>4.927549</td>\n",
       "      <td>0.0</td>\n",
       "      <td>2018-01-01 00:08:43.152</td>\n",
       "      <td>0.07</td>\n",
       "      <td>0</td>\n",
       "    </tr>\n",
       "    <tr>\n",
       "      <th>2</th>\n",
       "      <td>19847.0</td>\n",
       "      <td>40K - 60K €</td>\n",
       "      <td>0.721724</td>\n",
       "      <td>17.0</td>\n",
       "      <td>False</td>\n",
       "      <td>0%</td>\n",
       "      <td>0.520817</td>\n",
       "      <td>1.0</td>\n",
       "      <td>2018-01-01 00:17:26.304</td>\n",
       "      <td>1.00</td>\n",
       "      <td>1</td>\n",
       "    </tr>\n",
       "  </tbody>\n",
       "</table>\n",
       "</div>"
      ],
      "text/plain": [
       "   car_value salary_range  debt_to_income_ratio  loan_length  \\\n",
       "0    39811.0  40K - 60K €              0.632950         19.0   \n",
       "1    12679.0  40K - 60K €              0.718627          7.0   \n",
       "2    19847.0  40K - 60K €              0.721724         17.0   \n",
       "\n",
       "   repaid_loan_on_prev_car size_of_downpayment  driver_tenure  repaid  \\\n",
       "0                    False                 40%       0.212653     1.0   \n",
       "1                     True                 10%       4.927549     0.0   \n",
       "2                    False                  0%       0.520817     1.0   \n",
       "\n",
       "                 timestamp  y_pred_proba  y_pred  \n",
       "0  2018-01-01 00:00:00.000          0.99       1  \n",
       "1  2018-01-01 00:08:43.152          0.07       0  \n",
       "2  2018-01-01 00:17:26.304          1.00       1  "
      ]
     },
     "metadata": {},
     "output_type": "display_data"
    },
    {
     "data": {
      "text/html": [
       "<div>\n",
       "<style scoped>\n",
       "    .dataframe tbody tr th:only-of-type {\n",
       "        vertical-align: middle;\n",
       "    }\n",
       "\n",
       "    .dataframe tbody tr th {\n",
       "        vertical-align: top;\n",
       "    }\n",
       "\n",
       "    .dataframe thead tr th {\n",
       "        text-align: left;\n",
       "    }\n",
       "</style>\n",
       "<table border=\"1\" class=\"dataframe\">\n",
       "  <thead>\n",
       "    <tr>\n",
       "      <th></th>\n",
       "      <th colspan=\"7\" halign=\"left\">chunk</th>\n",
       "      <th colspan=\"3\" halign=\"left\">roc_auc</th>\n",
       "      <th>...</th>\n",
       "      <th colspan=\"2\" halign=\"left\">false_negative_cost</th>\n",
       "      <th colspan=\"8\" halign=\"left\">total_cost</th>\n",
       "    </tr>\n",
       "    <tr>\n",
       "      <th></th>\n",
       "      <th>key</th>\n",
       "      <th>chunk_index</th>\n",
       "      <th>start_index</th>\n",
       "      <th>end_index</th>\n",
       "      <th>start_date</th>\n",
       "      <th>end_date</th>\n",
       "      <th>period</th>\n",
       "      <th>value</th>\n",
       "      <th>sampling_error</th>\n",
       "      <th>realized</th>\n",
       "      <th>...</th>\n",
       "      <th>lower_threshold</th>\n",
       "      <th>alert</th>\n",
       "      <th>value</th>\n",
       "      <th>sampling_error</th>\n",
       "      <th>realized</th>\n",
       "      <th>upper_confidence_boundary</th>\n",
       "      <th>lower_confidence_boundary</th>\n",
       "      <th>upper_threshold</th>\n",
       "      <th>lower_threshold</th>\n",
       "      <th>alert</th>\n",
       "    </tr>\n",
       "  </thead>\n",
       "  <tbody>\n",
       "    <tr>\n",
       "      <th>0</th>\n",
       "      <td>[0:4999]</td>\n",
       "      <td>0</td>\n",
       "      <td>0</td>\n",
       "      <td>4999</td>\n",
       "      <td>2018-10-30 18:00:00</td>\n",
       "      <td>2018-11-30 00:27:16.848</td>\n",
       "      <td>analysis</td>\n",
       "      <td>0.968631</td>\n",
       "      <td>0.001811</td>\n",
       "      <td>NaN</td>\n",
       "      <td>...</td>\n",
       "      <td>291.884722</td>\n",
       "      <td>False</td>\n",
       "      <td>19948.760319</td>\n",
       "      <td>40.618596</td>\n",
       "      <td>NaN</td>\n",
       "      <td>20070.616106</td>\n",
       "      <td>19826.904531</td>\n",
       "      <td>20057.818291</td>\n",
       "      <td>19860.981709</td>\n",
       "      <td>False</td>\n",
       "    </tr>\n",
       "    <tr>\n",
       "      <th>1</th>\n",
       "      <td>[5000:9999]</td>\n",
       "      <td>1</td>\n",
       "      <td>5000</td>\n",
       "      <td>9999</td>\n",
       "      <td>2018-11-30 00:36:00</td>\n",
       "      <td>2018-12-30 07:03:16.848</td>\n",
       "      <td>analysis</td>\n",
       "      <td>0.969044</td>\n",
       "      <td>0.001811</td>\n",
       "      <td>NaN</td>\n",
       "      <td>...</td>\n",
       "      <td>291.884722</td>\n",
       "      <td>False</td>\n",
       "      <td>19932.069461</td>\n",
       "      <td>40.618596</td>\n",
       "      <td>NaN</td>\n",
       "      <td>20053.925249</td>\n",
       "      <td>19810.213674</td>\n",
       "      <td>20057.818291</td>\n",
       "      <td>19860.981709</td>\n",
       "      <td>False</td>\n",
       "    </tr>\n",
       "    <tr>\n",
       "      <th>2</th>\n",
       "      <td>[10000:14999]</td>\n",
       "      <td>2</td>\n",
       "      <td>10000</td>\n",
       "      <td>14999</td>\n",
       "      <td>2018-12-30 07:12:00</td>\n",
       "      <td>2019-01-29 13:39:16.848</td>\n",
       "      <td>analysis</td>\n",
       "      <td>0.969444</td>\n",
       "      <td>0.001811</td>\n",
       "      <td>NaN</td>\n",
       "      <td>...</td>\n",
       "      <td>291.884722</td>\n",
       "      <td>False</td>\n",
       "      <td>19951.020112</td>\n",
       "      <td>40.618596</td>\n",
       "      <td>NaN</td>\n",
       "      <td>20072.875899</td>\n",
       "      <td>19829.164324</td>\n",
       "      <td>20057.818291</td>\n",
       "      <td>19860.981709</td>\n",
       "      <td>False</td>\n",
       "    </tr>\n",
       "    <tr>\n",
       "      <th>3</th>\n",
       "      <td>[15000:19999]</td>\n",
       "      <td>3</td>\n",
       "      <td>15000</td>\n",
       "      <td>19999</td>\n",
       "      <td>2019-01-29 13:48:00</td>\n",
       "      <td>2019-02-28 20:15:16.848</td>\n",
       "      <td>analysis</td>\n",
       "      <td>0.969047</td>\n",
       "      <td>0.001811</td>\n",
       "      <td>NaN</td>\n",
       "      <td>...</td>\n",
       "      <td>291.884722</td>\n",
       "      <td>False</td>\n",
       "      <td>19962.458150</td>\n",
       "      <td>40.618596</td>\n",
       "      <td>NaN</td>\n",
       "      <td>20084.313937</td>\n",
       "      <td>19840.602362</td>\n",
       "      <td>20057.818291</td>\n",
       "      <td>19860.981709</td>\n",
       "      <td>False</td>\n",
       "    </tr>\n",
       "    <tr>\n",
       "      <th>4</th>\n",
       "      <td>[20000:24999]</td>\n",
       "      <td>4</td>\n",
       "      <td>20000</td>\n",
       "      <td>24999</td>\n",
       "      <td>2019-02-28 20:24:00</td>\n",
       "      <td>2019-03-31 02:51:16.848</td>\n",
       "      <td>analysis</td>\n",
       "      <td>0.968873</td>\n",
       "      <td>0.001811</td>\n",
       "      <td>NaN</td>\n",
       "      <td>...</td>\n",
       "      <td>291.884722</td>\n",
       "      <td>False</td>\n",
       "      <td>19957.148891</td>\n",
       "      <td>40.618596</td>\n",
       "      <td>NaN</td>\n",
       "      <td>20079.004678</td>\n",
       "      <td>19835.293103</td>\n",
       "      <td>20057.818291</td>\n",
       "      <td>19860.981709</td>\n",
       "      <td>False</td>\n",
       "    </tr>\n",
       "    <tr>\n",
       "      <th>5</th>\n",
       "      <td>[25000:29999]</td>\n",
       "      <td>5</td>\n",
       "      <td>25000</td>\n",
       "      <td>29999</td>\n",
       "      <td>2019-03-31 03:00:00</td>\n",
       "      <td>2019-04-30 09:27:16.848</td>\n",
       "      <td>analysis</td>\n",
       "      <td>0.960478</td>\n",
       "      <td>0.001811</td>\n",
       "      <td>NaN</td>\n",
       "      <td>...</td>\n",
       "      <td>291.884722</td>\n",
       "      <td>True</td>\n",
       "      <td>19826.001643</td>\n",
       "      <td>40.618596</td>\n",
       "      <td>NaN</td>\n",
       "      <td>19947.857431</td>\n",
       "      <td>19704.145856</td>\n",
       "      <td>20057.818291</td>\n",
       "      <td>19860.981709</td>\n",
       "      <td>True</td>\n",
       "    </tr>\n",
       "    <tr>\n",
       "      <th>6</th>\n",
       "      <td>[30000:34999]</td>\n",
       "      <td>6</td>\n",
       "      <td>30000</td>\n",
       "      <td>34999</td>\n",
       "      <td>2019-04-30 09:36:00</td>\n",
       "      <td>2019-05-30 16:03:16.848</td>\n",
       "      <td>analysis</td>\n",
       "      <td>0.961134</td>\n",
       "      <td>0.001811</td>\n",
       "      <td>NaN</td>\n",
       "      <td>...</td>\n",
       "      <td>291.884722</td>\n",
       "      <td>True</td>\n",
       "      <td>19819.831865</td>\n",
       "      <td>40.618596</td>\n",
       "      <td>NaN</td>\n",
       "      <td>19941.687652</td>\n",
       "      <td>19697.976077</td>\n",
       "      <td>20057.818291</td>\n",
       "      <td>19860.981709</td>\n",
       "      <td>True</td>\n",
       "    </tr>\n",
       "    <tr>\n",
       "      <th>7</th>\n",
       "      <td>[35000:39999]</td>\n",
       "      <td>7</td>\n",
       "      <td>35000</td>\n",
       "      <td>39999</td>\n",
       "      <td>2019-05-30 16:12:00</td>\n",
       "      <td>2019-06-29 22:39:16.848</td>\n",
       "      <td>analysis</td>\n",
       "      <td>0.960536</td>\n",
       "      <td>0.001811</td>\n",
       "      <td>NaN</td>\n",
       "      <td>...</td>\n",
       "      <td>291.884722</td>\n",
       "      <td>True</td>\n",
       "      <td>19850.782647</td>\n",
       "      <td>40.618596</td>\n",
       "      <td>NaN</td>\n",
       "      <td>19972.638435</td>\n",
       "      <td>19728.926860</td>\n",
       "      <td>20057.818291</td>\n",
       "      <td>19860.981709</td>\n",
       "      <td>True</td>\n",
       "    </tr>\n",
       "    <tr>\n",
       "      <th>8</th>\n",
       "      <td>[40000:44999]</td>\n",
       "      <td>8</td>\n",
       "      <td>40000</td>\n",
       "      <td>44999</td>\n",
       "      <td>2019-06-29 22:48:00</td>\n",
       "      <td>2019-07-30 05:15:16.848</td>\n",
       "      <td>analysis</td>\n",
       "      <td>0.961869</td>\n",
       "      <td>0.001811</td>\n",
       "      <td>NaN</td>\n",
       "      <td>...</td>\n",
       "      <td>291.884722</td>\n",
       "      <td>True</td>\n",
       "      <td>19824.863671</td>\n",
       "      <td>40.618596</td>\n",
       "      <td>NaN</td>\n",
       "      <td>19946.719458</td>\n",
       "      <td>19703.007883</td>\n",
       "      <td>20057.818291</td>\n",
       "      <td>19860.981709</td>\n",
       "      <td>True</td>\n",
       "    </tr>\n",
       "    <tr>\n",
       "      <th>9</th>\n",
       "      <td>[45000:49999]</td>\n",
       "      <td>9</td>\n",
       "      <td>45000</td>\n",
       "      <td>49999</td>\n",
       "      <td>2019-07-30 05:24:00</td>\n",
       "      <td>2019-08-29 11:51:16.848</td>\n",
       "      <td>analysis</td>\n",
       "      <td>0.960537</td>\n",
       "      <td>0.001811</td>\n",
       "      <td>NaN</td>\n",
       "      <td>...</td>\n",
       "      <td>291.884722</td>\n",
       "      <td>True</td>\n",
       "      <td>19857.861011</td>\n",
       "      <td>40.618596</td>\n",
       "      <td>NaN</td>\n",
       "      <td>19979.716799</td>\n",
       "      <td>19736.005224</td>\n",
       "      <td>20057.818291</td>\n",
       "      <td>19860.981709</td>\n",
       "      <td>True</td>\n",
       "    </tr>\n",
       "  </tbody>\n",
       "</table>\n",
       "<p>10 rows × 55 columns</p>\n",
       "</div>"
      ],
      "text/plain": [
       "           chunk                                                        \\\n",
       "             key chunk_index start_index end_index          start_date   \n",
       "0       [0:4999]           0           0      4999 2018-10-30 18:00:00   \n",
       "1    [5000:9999]           1        5000      9999 2018-11-30 00:36:00   \n",
       "2  [10000:14999]           2       10000     14999 2018-12-30 07:12:00   \n",
       "3  [15000:19999]           3       15000     19999 2019-01-29 13:48:00   \n",
       "4  [20000:24999]           4       20000     24999 2019-02-28 20:24:00   \n",
       "5  [25000:29999]           5       25000     29999 2019-03-31 03:00:00   \n",
       "6  [30000:34999]           6       30000     34999 2019-04-30 09:36:00   \n",
       "7  [35000:39999]           7       35000     39999 2019-05-30 16:12:00   \n",
       "8  [40000:44999]           8       40000     44999 2019-06-29 22:48:00   \n",
       "9  [45000:49999]           9       45000     49999 2019-07-30 05:24:00   \n",
       "\n",
       "                                      roc_auc                          ...  \\\n",
       "                 end_date    period     value sampling_error realized  ...   \n",
       "0 2018-11-30 00:27:16.848  analysis  0.968631       0.001811      NaN  ...   \n",
       "1 2018-12-30 07:03:16.848  analysis  0.969044       0.001811      NaN  ...   \n",
       "2 2019-01-29 13:39:16.848  analysis  0.969444       0.001811      NaN  ...   \n",
       "3 2019-02-28 20:15:16.848  analysis  0.969047       0.001811      NaN  ...   \n",
       "4 2019-03-31 02:51:16.848  analysis  0.968873       0.001811      NaN  ...   \n",
       "5 2019-04-30 09:27:16.848  analysis  0.960478       0.001811      NaN  ...   \n",
       "6 2019-05-30 16:03:16.848  analysis  0.961134       0.001811      NaN  ...   \n",
       "7 2019-06-29 22:39:16.848  analysis  0.960536       0.001811      NaN  ...   \n",
       "8 2019-07-30 05:15:16.848  analysis  0.961869       0.001811      NaN  ...   \n",
       "9 2019-08-29 11:51:16.848  analysis  0.960537       0.001811      NaN  ...   \n",
       "\n",
       "  false_negative_cost           total_cost                          \\\n",
       "      lower_threshold  alert         value sampling_error realized   \n",
       "0          291.884722  False  19948.760319      40.618596      NaN   \n",
       "1          291.884722  False  19932.069461      40.618596      NaN   \n",
       "2          291.884722  False  19951.020112      40.618596      NaN   \n",
       "3          291.884722  False  19962.458150      40.618596      NaN   \n",
       "4          291.884722  False  19957.148891      40.618596      NaN   \n",
       "5          291.884722   True  19826.001643      40.618596      NaN   \n",
       "6          291.884722   True  19819.831865      40.618596      NaN   \n",
       "7          291.884722   True  19850.782647      40.618596      NaN   \n",
       "8          291.884722   True  19824.863671      40.618596      NaN   \n",
       "9          291.884722   True  19857.861011      40.618596      NaN   \n",
       "\n",
       "                                                                       \\\n",
       "  upper_confidence_boundary lower_confidence_boundary upper_threshold   \n",
       "0              20070.616106              19826.904531    20057.818291   \n",
       "1              20053.925249              19810.213674    20057.818291   \n",
       "2              20072.875899              19829.164324    20057.818291   \n",
       "3              20084.313937              19840.602362    20057.818291   \n",
       "4              20079.004678              19835.293103    20057.818291   \n",
       "5              19947.857431              19704.145856    20057.818291   \n",
       "6              19941.687652              19697.976077    20057.818291   \n",
       "7              19972.638435              19728.926860    20057.818291   \n",
       "8              19946.719458              19703.007883    20057.818291   \n",
       "9              19979.716799              19736.005224    20057.818291   \n",
       "\n",
       "                          \n",
       "  lower_threshold  alert  \n",
       "0    19860.981709  False  \n",
       "1    19860.981709  False  \n",
       "2    19860.981709  False  \n",
       "3    19860.981709  False  \n",
       "4    19860.981709  False  \n",
       "5    19860.981709   True  \n",
       "6    19860.981709   True  \n",
       "7    19860.981709   True  \n",
       "8    19860.981709   True  \n",
       "9    19860.981709   True  \n",
       "\n",
       "[10 rows x 55 columns]"
      ]
     },
     "metadata": {},
     "output_type": "display_data"
    },
    {
     "data": {
      "application/vnd.plotly.v1+json": {
       "config": {
        "plotlyServerURL": "https://plot.ly"
       },
       "data": [
        {
         "hoverinfo": "skip",
         "legendgroup": "metric_analysis",
         "line": {
          "color": "#3b0280",
          "shape": "hv",
          "width": 2
         },
         "mode": "lines",
         "name": "Metric (analysis)",
         "showlegend": true,
         "type": "scatter",
         "x": [
          "2018-10-30T18:00:00",
          "2018-11-30T00:36:00",
          "2018-12-30T07:12:00",
          "2019-01-29T13:48:00",
          "2019-02-28T20:24:00",
          "2019-03-31T03:00:00",
          "2019-04-30T09:36:00",
          "2019-05-30T16:12:00",
          "2019-06-29T22:48:00",
          "2019-07-30T05:24:00",
          "2019-08-29T11:51:16.848000"
         ],
         "xaxis": "x",
         "y": [
          0.9686306166809373,
          0.9690438435474089,
          0.9694438261961335,
          0.9690472634498744,
          0.9688726952274674,
          0.960478016244988,
          0.9611336210051199,
          0.9605358219511105,
          0.9618691204348024,
          0.9605366452565602,
          0.9605366452565602
         ],
         "yaxis": "y"
        },
        {
         "customdata": [
          [
           "Estimated <b>ROC AUC</b>",
           "<b style=\"color:#3b0280;line-height:60px\">Analysis</b>",
           "",
           "[0:4999]",
           "From <b>Oct-30-2018</b> to <b>Nov-30-2018</b>",
           0.9686,
           0.0054
          ],
          [
           "Estimated <b>ROC AUC</b>",
           "<b style=\"color:#3b0280;line-height:60px\">Analysis</b>",
           "",
           "[5000:9999]",
           "From <b>Nov-30-2018</b> to <b>Dec-30-2018</b>",
           0.969,
           0.0054
          ],
          [
           "Estimated <b>ROC AUC</b>",
           "<b style=\"color:#3b0280;line-height:60px\">Analysis</b>",
           "",
           "[10000:14999]",
           "From <b>Dec-30-2018</b> to <b>Jan-29-2019</b>",
           0.9694,
           0.0054
          ],
          [
           "Estimated <b>ROC AUC</b>",
           "<b style=\"color:#3b0280;line-height:60px\">Analysis</b>",
           "",
           "[15000:19999]",
           "From <b>Jan-29-2019</b> to <b>Feb-28-2019</b>",
           0.969,
           0.0054
          ],
          [
           "Estimated <b>ROC AUC</b>",
           "<b style=\"color:#3b0280;line-height:60px\">Analysis</b>",
           "",
           "[20000:24999]",
           "From <b>Feb-28-2019</b> to <b>Mar-31-2019</b>",
           0.9689,
           0.0054
          ],
          [
           "Estimated <b>ROC AUC</b>",
           "<b style=\"color:#3b0280;line-height:60px\">Analysis</b>",
           "<span style=\"color:#AD0000\">⚠ <b>Drift detected</b></span>",
           "[25000:29999]",
           "From <b>Mar-31-2019</b> to <b>Apr-30-2019</b>",
           0.9605,
           0.0054
          ],
          [
           "Estimated <b>ROC AUC</b>",
           "<b style=\"color:#3b0280;line-height:60px\">Analysis</b>",
           "<span style=\"color:#AD0000\">⚠ <b>Drift detected</b></span>",
           "[30000:34999]",
           "From <b>Apr-30-2019</b> to <b>May-30-2019</b>",
           0.9611,
           0.0054
          ],
          [
           "Estimated <b>ROC AUC</b>",
           "<b style=\"color:#3b0280;line-height:60px\">Analysis</b>",
           "<span style=\"color:#AD0000\">⚠ <b>Drift detected</b></span>",
           "[35000:39999]",
           "From <b>May-30-2019</b> to <b>Jun-29-2019</b>",
           0.9605,
           0.0054
          ],
          [
           "Estimated <b>ROC AUC</b>",
           "<b style=\"color:#3b0280;line-height:60px\">Analysis</b>",
           "<span style=\"color:#AD0000\">⚠ <b>Drift detected</b></span>",
           "[40000:44999]",
           "From <b>Jun-29-2019</b> to <b>Jul-30-2019</b>",
           0.9619,
           0.0054
          ],
          [
           "Estimated <b>ROC AUC</b>",
           "<b style=\"color:#3b0280;line-height:60px\">Analysis</b>",
           "<span style=\"color:#AD0000\">⚠ <b>Drift detected</b></span>",
           "[45000:49999]",
           "From <b>Jul-30-2019</b> to <b>Aug-29-2019</b>",
           0.9605,
           0.0054
          ]
         ],
         "hovertemplate": "%{customdata[1]} &nbsp; &nbsp; %{customdata[2]} <br />Chunk: <b>%{customdata[3]}</b> &nbsp; &nbsp; %{customdata[4]} <br />%{customdata[0]}: <b>%{customdata[5]}</b><br />Confidence band: +/- <b>%{customdata[6]}</b><br /><extra></extra>",
         "legendgroup": "metric_analysis",
         "marker": {
          "color": "#3b0280",
          "size": 5,
          "symbol": "circle"
         },
         "mode": "markers",
         "name": "Metric (analysis)",
         "showlegend": false,
         "type": "scatter",
         "x": [
          "2018-11-14T21:18:00",
          "2018-12-15T03:54:00",
          "2019-01-14T10:30:00",
          "2019-02-13T17:06:00",
          "2019-03-15T23:42:00",
          "2019-04-15T06:18:00",
          "2019-05-15T12:54:00",
          "2019-06-14T19:30:00",
          "2019-07-15T02:06:00",
          "2019-08-14T08:37:38.424000"
         ],
         "xaxis": "x",
         "y": [
          0.9686306166809373,
          0.9690438435474089,
          0.9694438261961335,
          0.9690472634498744,
          0.9688726952274674,
          0.960478016244988,
          0.9611336210051199,
          0.9605358219511105,
          0.9618691204348024,
          0.9605366452565602,
          0.9605366452565602
         ],
         "yaxis": "y"
        },
        {
         "hoverinfo": "skip",
         "legendgroup": "alert",
         "marker": {
          "color": "#DD4040",
          "size": 8,
          "symbol": "diamond"
         },
         "mode": "markers",
         "name": "Alert",
         "showlegend": true,
         "type": "scatter",
         "x": [
          "2019-04-15T06:18:00",
          "2019-05-15T12:54:00",
          "2019-06-14T19:30:00",
          "2019-07-15T02:06:00",
          "2019-08-14T08:37:38.424000"
         ],
         "xaxis": "x",
         "y": [
          0.960478016244988,
          0.9611336210051199,
          0.9605358219511105,
          0.9618691204348024,
          0.9605366452565602
         ],
         "yaxis": "y"
        },
        {
         "hoverinfo": "skip",
         "legendgroup": "thresh",
         "line": {
          "color": "#DD4040",
          "dash": "dash",
          "width": 2
         },
         "mode": "lines",
         "name": "Threshold",
         "showlegend": true,
         "type": "scatter",
         "x": [
          "2018-10-30T18:00:00",
          "2018-11-30T00:36:00",
          "2018-12-30T07:12:00",
          "2019-01-29T13:48:00",
          "2019-02-28T20:24:00",
          "2019-03-31T03:00:00",
          "2019-04-30T09:36:00",
          "2019-05-30T16:12:00",
          "2019-06-29T22:48:00",
          "2019-07-30T05:24:00",
          "2019-08-29T11:51:16.848000"
         ],
         "xaxis": "x",
         "y": [
          0.9786597341713761,
          0.9786597341713761,
          0.9786597341713761,
          0.9786597341713761,
          0.9786597341713761,
          0.9786597341713761,
          0.9786597341713761,
          0.9786597341713761,
          0.9786597341713761,
          0.9786597341713761,
          0.9786597341713761
         ],
         "yaxis": "y"
        },
        {
         "hoverinfo": "skip",
         "legendgroup": "thresh",
         "line": {
          "color": "#DD4040",
          "dash": "dash",
          "width": 2
         },
         "mode": "lines",
         "name": "Threshold",
         "showlegend": false,
         "type": "scatter",
         "x": [
          "2018-10-30T18:00:00",
          "2018-11-30T00:36:00",
          "2018-12-30T07:12:00",
          "2019-01-29T13:48:00",
          "2019-02-28T20:24:00",
          "2019-03-31T03:00:00",
          "2019-04-30T09:36:00",
          "2019-05-30T16:12:00",
          "2019-06-29T22:48:00",
          "2019-07-30T05:24:00",
          "2019-08-29T11:51:16.848000"
         ],
         "xaxis": "x",
         "y": [
          0.963316535948479,
          0.963316535948479,
          0.963316535948479,
          0.963316535948479,
          0.963316535948479,
          0.963316535948479,
          0.963316535948479,
          0.963316535948479,
          0.963316535948479,
          0.963316535948479,
          0.963316535948479
         ],
         "yaxis": "y"
        },
        {
         "hoverinfo": "skip",
         "line": {
          "color": "rgba(0,0,0,0)",
          "shape": "hv"
         },
         "mode": "lines",
         "name": "Sampling error (analysis)",
         "showlegend": false,
         "type": "scatter",
         "x": [
          "2018-10-30T18:00:00",
          "2018-11-30T00:36:00",
          "2018-12-30T07:12:00",
          "2019-01-29T13:48:00",
          "2019-02-28T20:24:00",
          "2019-03-31T03:00:00",
          "2019-04-30T09:36:00",
          "2019-05-30T16:12:00",
          "2019-06-29T22:48:00",
          "2019-07-30T05:24:00",
          "2019-08-29T11:51:16.848000"
         ],
         "xaxis": "x",
         "y": [
          0.9740627657487075,
          0.9744759926151791,
          0.9748759752639037,
          0.9744794125176446,
          0.9743048442952377,
          0.9659101653127582,
          0.9665657700728901,
          0.9659679710188808,
          0.9673012695025727,
          0.9659687943243305,
          0.9659687943243305
         ],
         "yaxis": "y"
        },
        {
         "fill": "tonexty",
         "fillcolor": "rgba(0.23137254901960785, 0.00784313725490196, 0.5019607843137255, 0.2)",
         "hoverinfo": "skip",
         "line": {
          "color": "rgba(0,0,0,0)",
          "shape": "hv"
         },
         "mode": "lines",
         "name": "Sampling error (analysis)",
         "showlegend": true,
         "type": "scatter",
         "x": [
          "2018-10-30T18:00:00",
          "2018-11-30T00:36:00",
          "2018-12-30T07:12:00",
          "2019-01-29T13:48:00",
          "2019-02-28T20:24:00",
          "2019-03-31T03:00:00",
          "2019-04-30T09:36:00",
          "2019-05-30T16:12:00",
          "2019-06-29T22:48:00",
          "2019-07-30T05:24:00",
          "2019-08-29T11:51:16.848000"
         ],
         "xaxis": "x",
         "y": [
          0.9631984676131671,
          0.9636116944796387,
          0.9640116771283632,
          0.9636151143821041,
          0.9634405461596972,
          0.9550458671772177,
          0.9557014719373497,
          0.9551036728833403,
          0.9564369713670322,
          0.95510449618879,
          0.95510449618879
         ],
         "yaxis": "y"
        },
        {
         "hoverinfo": "skip",
         "legendgroup": "metric_analysis",
         "line": {
          "color": "#3b0280",
          "shape": "hv",
          "width": 2
         },
         "mode": "lines",
         "name": "Metric (analysis)",
         "showlegend": false,
         "type": "scatter",
         "x": [
          "2018-10-30T18:00:00",
          "2018-11-30T00:36:00",
          "2018-12-30T07:12:00",
          "2019-01-29T13:48:00",
          "2019-02-28T20:24:00",
          "2019-03-31T03:00:00",
          "2019-04-30T09:36:00",
          "2019-05-30T16:12:00",
          "2019-06-29T22:48:00",
          "2019-07-30T05:24:00",
          "2019-08-29T11:51:16.848000"
         ],
         "xaxis": "x2",
         "y": [
          9635.32679757241,
          9092.914081749685,
          9115.11642338079,
          9156.561552488805,
          9367.44085816243,
          9224.911934572312,
          9181.330229197916,
          9164.915714073657,
          9071.223959131683,
          9471.56174222691,
          9471.56174222691
         ],
         "yaxis": "y2"
        },
        {
         "customdata": [
          [
           "Estimated <b>True Positive Cost</b>",
           "<b style=\"color:#3b0280;line-height:60px\">Analysis</b>",
           "<span style=\"color:#AD0000\">⚠ <b>Drift detected</b></span>",
           "[0:4999]",
           "From <b>Oct-30-2018</b> to <b>Nov-30-2018</b>",
           9635.3268,
           423.1715
          ],
          [
           "Estimated <b>True Positive Cost</b>",
           "<b style=\"color:#3b0280;line-height:60px\">Analysis</b>",
           "",
           "[5000:9999]",
           "From <b>Nov-30-2018</b> to <b>Dec-30-2018</b>",
           9092.9141,
           423.1715
          ],
          [
           "Estimated <b>True Positive Cost</b>",
           "<b style=\"color:#3b0280;line-height:60px\">Analysis</b>",
           "",
           "[10000:14999]",
           "From <b>Dec-30-2018</b> to <b>Jan-29-2019</b>",
           9115.1164,
           423.1715
          ],
          [
           "Estimated <b>True Positive Cost</b>",
           "<b style=\"color:#3b0280;line-height:60px\">Analysis</b>",
           "",
           "[15000:19999]",
           "From <b>Jan-29-2019</b> to <b>Feb-28-2019</b>",
           9156.5616,
           423.1715
          ],
          [
           "Estimated <b>True Positive Cost</b>",
           "<b style=\"color:#3b0280;line-height:60px\">Analysis</b>",
           "",
           "[20000:24999]",
           "From <b>Feb-28-2019</b> to <b>Mar-31-2019</b>",
           9367.4409,
           423.1715
          ],
          [
           "Estimated <b>True Positive Cost</b>",
           "<b style=\"color:#3b0280;line-height:60px\">Analysis</b>",
           "",
           "[25000:29999]",
           "From <b>Mar-31-2019</b> to <b>Apr-30-2019</b>",
           9224.9119,
           423.1715
          ],
          [
           "Estimated <b>True Positive Cost</b>",
           "<b style=\"color:#3b0280;line-height:60px\">Analysis</b>",
           "",
           "[30000:34999]",
           "From <b>Apr-30-2019</b> to <b>May-30-2019</b>",
           9181.3302,
           423.1715
          ],
          [
           "Estimated <b>True Positive Cost</b>",
           "<b style=\"color:#3b0280;line-height:60px\">Analysis</b>",
           "",
           "[35000:39999]",
           "From <b>May-30-2019</b> to <b>Jun-29-2019</b>",
           9164.9157,
           423.1715
          ],
          [
           "Estimated <b>True Positive Cost</b>",
           "<b style=\"color:#3b0280;line-height:60px\">Analysis</b>",
           "",
           "[40000:44999]",
           "From <b>Jun-29-2019</b> to <b>Jul-30-2019</b>",
           9071.224,
           423.1715
          ],
          [
           "Estimated <b>True Positive Cost</b>",
           "<b style=\"color:#3b0280;line-height:60px\">Analysis</b>",
           "",
           "[45000:49999]",
           "From <b>Jul-30-2019</b> to <b>Aug-29-2019</b>",
           9471.5617,
           423.1715
          ]
         ],
         "hovertemplate": "%{customdata[1]} &nbsp; &nbsp; %{customdata[2]} <br />Chunk: <b>%{customdata[3]}</b> &nbsp; &nbsp; %{customdata[4]} <br />%{customdata[0]}: <b>%{customdata[5]}</b><br />Confidence band: +/- <b>%{customdata[6]}</b><br /><extra></extra>",
         "legendgroup": "metric_analysis",
         "marker": {
          "color": "#3b0280",
          "size": 5,
          "symbol": "circle"
         },
         "mode": "markers",
         "name": "Metric (analysis)",
         "showlegend": false,
         "type": "scatter",
         "x": [
          "2018-11-14T21:18:00",
          "2018-12-15T03:54:00",
          "2019-01-14T10:30:00",
          "2019-02-13T17:06:00",
          "2019-03-15T23:42:00",
          "2019-04-15T06:18:00",
          "2019-05-15T12:54:00",
          "2019-06-14T19:30:00",
          "2019-07-15T02:06:00",
          "2019-08-14T08:37:38.424000"
         ],
         "xaxis": "x2",
         "y": [
          9635.32679757241,
          9092.914081749685,
          9115.11642338079,
          9156.561552488805,
          9367.44085816243,
          9224.911934572312,
          9181.330229197916,
          9164.915714073657,
          9071.223959131683,
          9471.56174222691,
          9471.56174222691
         ],
         "yaxis": "y2"
        },
        {
         "hoverinfo": "skip",
         "legendgroup": "alert",
         "marker": {
          "color": "#DD4040",
          "size": 8,
          "symbol": "diamond"
         },
         "mode": "markers",
         "name": "Alert",
         "showlegend": false,
         "type": "scatter",
         "x": [
          "2018-11-14T21:18:00"
         ],
         "xaxis": "x2",
         "y": [
          9635.32679757241
         ],
         "yaxis": "y2"
        },
        {
         "hoverinfo": "skip",
         "legendgroup": "thresh",
         "line": {
          "color": "#DD4040",
          "dash": "dash",
          "width": 2
         },
         "mode": "lines",
         "name": "Threshold",
         "showlegend": false,
         "type": "scatter",
         "x": [
          "2018-10-30T18:00:00",
          "2018-11-30T00:36:00",
          "2018-12-30T07:12:00",
          "2019-01-29T13:48:00",
          "2019-02-28T20:24:00",
          "2019-03-31T03:00:00",
          "2019-04-30T09:36:00",
          "2019-05-30T16:12:00",
          "2019-06-29T22:48:00",
          "2019-07-30T05:24:00",
          "2019-08-29T11:51:16.848000"
         ],
         "xaxis": "x2",
         "y": [
          9577.572861708808,
          9577.572861708808,
          9577.572861708808,
          9577.572861708808,
          9577.572861708808,
          9577.572861708808,
          9577.572861708808,
          9577.572861708808,
          9577.572861708808,
          9577.572861708808,
          9577.572861708808
         ],
         "yaxis": "y2"
        },
        {
         "hoverinfo": "skip",
         "legendgroup": "thresh",
         "line": {
          "color": "#DD4040",
          "dash": "dash",
          "width": 2
         },
         "mode": "lines",
         "name": "Threshold",
         "showlegend": false,
         "type": "scatter",
         "x": [
          "2018-10-30T18:00:00",
          "2018-11-30T00:36:00",
          "2018-12-30T07:12:00",
          "2019-01-29T13:48:00",
          "2019-02-28T20:24:00",
          "2019-03-31T03:00:00",
          "2019-04-30T09:36:00",
          "2019-05-30T16:12:00",
          "2019-06-29T22:48:00",
          "2019-07-30T05:24:00",
          "2019-08-29T11:51:16.848000"
         ],
         "xaxis": "x2",
         "y": [
          8988.02713829119,
          8988.02713829119,
          8988.02713829119,
          8988.02713829119,
          8988.02713829119,
          8988.02713829119,
          8988.02713829119,
          8988.02713829119,
          8988.02713829119,
          8988.02713829119,
          8988.02713829119
         ],
         "yaxis": "y2"
        },
        {
         "hoverinfo": "skip",
         "line": {
          "color": "rgba(0,0,0,0)",
          "shape": "hv"
         },
         "mode": "lines",
         "name": "Sampling error (analysis)",
         "showlegend": false,
         "type": "scatter",
         "x": [
          "2018-10-30T18:00:00",
          "2018-11-30T00:36:00",
          "2018-12-30T07:12:00",
          "2019-01-29T13:48:00",
          "2019-02-28T20:24:00",
          "2019-03-31T03:00:00",
          "2019-04-30T09:36:00",
          "2019-05-30T16:12:00",
          "2019-06-29T22:48:00",
          "2019-07-30T05:24:00",
          "2019-08-29T11:51:16.848000"
         ],
         "xaxis": "x2",
         "y": [
          10058.498303569682,
          9516.085587746958,
          9538.287929378064,
          9579.73305848608,
          9790.612364159704,
          9648.083440569586,
          9604.50173519519,
          9588.087220070931,
          9494.395465128957,
          9894.733248224184,
          9894.733248224184
         ],
         "yaxis": "y2"
        },
        {
         "fill": "tonexty",
         "fillcolor": "rgba(0.23137254901960785, 0.00784313725490196, 0.5019607843137255, 0.2)",
         "hoverinfo": "skip",
         "line": {
          "color": "rgba(0,0,0,0)",
          "shape": "hv"
         },
         "mode": "lines",
         "name": "Sampling error (analysis)",
         "showlegend": false,
         "type": "scatter",
         "x": [
          "2018-10-30T18:00:00",
          "2018-11-30T00:36:00",
          "2018-12-30T07:12:00",
          "2019-01-29T13:48:00",
          "2019-02-28T20:24:00",
          "2019-03-31T03:00:00",
          "2019-04-30T09:36:00",
          "2019-05-30T16:12:00",
          "2019-06-29T22:48:00",
          "2019-07-30T05:24:00",
          "2019-08-29T11:51:16.848000"
         ],
         "xaxis": "x2",
         "y": [
          9212.155291575138,
          8669.74257575241,
          8691.944917383516,
          8733.390046491531,
          8944.269352165156,
          8801.740428575038,
          8758.158723200642,
          8741.744208076383,
          8648.052453134409,
          9048.390236229636,
          9048.390236229636
         ],
         "yaxis": "y2"
        },
        {
         "hoverinfo": "skip",
         "legendgroup": "metric_analysis",
         "line": {
          "color": "#3b0280",
          "shape": "hv",
          "width": 2
         },
         "mode": "lines",
         "name": "Metric (analysis)",
         "showlegend": false,
         "type": "scatter",
         "x": [
          "2018-10-30T18:00:00",
          "2018-11-30T00:36:00",
          "2018-12-30T07:12:00",
          "2019-01-29T13:48:00",
          "2019-02-28T20:24:00",
          "2019-03-31T03:00:00",
          "2019-04-30T09:36:00",
          "2019-05-30T16:12:00",
          "2019-06-29T22:48:00",
          "2019-07-30T05:24:00",
          "2019-08-29T11:51:16.848000"
         ],
         "xaxis": "x3",
         "y": [
          9200.510833791313,
          9773.510044778659,
          9794.71485866063,
          9739.758628666063,
          9525.459068353739,
          8989.371188030818,
          9041.659073072908,
          9058.93886607069,
          9216.563279917538,
          8763.064635974359,
          8763.064635974359
         ],
         "yaxis": "y3"
        },
        {
         "customdata": [
          [
           "Estimated <b>True Negative Cost</b>",
           "<b style=\"color:#3b0280;line-height:60px\">Analysis</b>",
           "<span style=\"color:#AD0000\">⚠ <b>Drift detected</b></span>",
           "[0:4999]",
           "From <b>Oct-30-2018</b> to <b>Nov-30-2018</b>",
           9200.5108,
           423.9073
          ],
          [
           "Estimated <b>True Negative Cost</b>",
           "<b style=\"color:#3b0280;line-height:60px\">Analysis</b>",
           "",
           "[5000:9999]",
           "From <b>Nov-30-2018</b> to <b>Dec-30-2018</b>",
           9773.51,
           423.9073
          ],
          [
           "Estimated <b>True Negative Cost</b>",
           "<b style=\"color:#3b0280;line-height:60px\">Analysis</b>",
           "",
           "[10000:14999]",
           "From <b>Dec-30-2018</b> to <b>Jan-29-2019</b>",
           9794.7149,
           423.9073
          ],
          [
           "Estimated <b>True Negative Cost</b>",
           "<b style=\"color:#3b0280;line-height:60px\">Analysis</b>",
           "",
           "[15000:19999]",
           "From <b>Jan-29-2019</b> to <b>Feb-28-2019</b>",
           9739.7586,
           423.9073
          ],
          [
           "Estimated <b>True Negative Cost</b>",
           "<b style=\"color:#3b0280;line-height:60px\">Analysis</b>",
           "",
           "[20000:24999]",
           "From <b>Feb-28-2019</b> to <b>Mar-31-2019</b>",
           9525.4591,
           423.9073
          ],
          [
           "Estimated <b>True Negative Cost</b>",
           "<b style=\"color:#3b0280;line-height:60px\">Analysis</b>",
           "<span style=\"color:#AD0000\">⚠ <b>Drift detected</b></span>",
           "[25000:29999]",
           "From <b>Mar-31-2019</b> to <b>Apr-30-2019</b>",
           8989.3712,
           423.9073
          ],
          [
           "Estimated <b>True Negative Cost</b>",
           "<b style=\"color:#3b0280;line-height:60px\">Analysis</b>",
           "<span style=\"color:#AD0000\">⚠ <b>Drift detected</b></span>",
           "[30000:34999]",
           "From <b>Apr-30-2019</b> to <b>May-30-2019</b>",
           9041.6591,
           423.9073
          ],
          [
           "Estimated <b>True Negative Cost</b>",
           "<b style=\"color:#3b0280;line-height:60px\">Analysis</b>",
           "<span style=\"color:#AD0000\">⚠ <b>Drift detected</b></span>",
           "[35000:39999]",
           "From <b>May-30-2019</b> to <b>Jun-29-2019</b>",
           9058.9389,
           423.9073
          ],
          [
           "Estimated <b>True Negative Cost</b>",
           "<b style=\"color:#3b0280;line-height:60px\">Analysis</b>",
           "<span style=\"color:#AD0000\">⚠ <b>Drift detected</b></span>",
           "[40000:44999]",
           "From <b>Jun-29-2019</b> to <b>Jul-30-2019</b>",
           9216.5633,
           423.9073
          ],
          [
           "Estimated <b>True Negative Cost</b>",
           "<b style=\"color:#3b0280;line-height:60px\">Analysis</b>",
           "<span style=\"color:#AD0000\">⚠ <b>Drift detected</b></span>",
           "[45000:49999]",
           "From <b>Jul-30-2019</b> to <b>Aug-29-2019</b>",
           8763.0646,
           423.9073
          ]
         ],
         "hovertemplate": "%{customdata[1]} &nbsp; &nbsp; %{customdata[2]} <br />Chunk: <b>%{customdata[3]}</b> &nbsp; &nbsp; %{customdata[4]} <br />%{customdata[0]}: <b>%{customdata[5]}</b><br />Confidence band: +/- <b>%{customdata[6]}</b><br /><extra></extra>",
         "legendgroup": "metric_analysis",
         "marker": {
          "color": "#3b0280",
          "size": 5,
          "symbol": "circle"
         },
         "mode": "markers",
         "name": "Metric (analysis)",
         "showlegend": false,
         "type": "scatter",
         "x": [
          "2018-11-14T21:18:00",
          "2018-12-15T03:54:00",
          "2019-01-14T10:30:00",
          "2019-02-13T17:06:00",
          "2019-03-15T23:42:00",
          "2019-04-15T06:18:00",
          "2019-05-15T12:54:00",
          "2019-06-14T19:30:00",
          "2019-07-15T02:06:00",
          "2019-08-14T08:37:38.424000"
         ],
         "xaxis": "x3",
         "y": [
          9200.510833791313,
          9773.510044778659,
          9794.71485866063,
          9739.758628666063,
          9525.459068353739,
          8989.371188030818,
          9041.659073072908,
          9058.93886607069,
          9216.563279917538,
          8763.064635974359,
          8763.064635974359
         ],
         "yaxis": "y3"
        },
        {
         "hoverinfo": "skip",
         "legendgroup": "alert",
         "marker": {
          "color": "#DD4040",
          "size": 8,
          "symbol": "diamond"
         },
         "mode": "markers",
         "name": "Alert",
         "showlegend": false,
         "type": "scatter",
         "x": [
          "2018-11-14T21:18:00",
          "2019-04-15T06:18:00",
          "2019-05-15T12:54:00",
          "2019-06-14T19:30:00",
          "2019-07-15T02:06:00",
          "2019-08-14T08:37:38.424000"
         ],
         "xaxis": "x3",
         "y": [
          9200.510833791313,
          8989.371188030818,
          9041.659073072908,
          9058.93886607069,
          9216.563279917538,
          8763.064635974359
         ],
         "yaxis": "y3"
        },
        {
         "hoverinfo": "skip",
         "legendgroup": "thresh",
         "line": {
          "color": "#DD4040",
          "dash": "dash",
          "width": 2
         },
         "mode": "lines",
         "name": "Threshold",
         "showlegend": false,
         "type": "scatter",
         "x": [
          "2018-10-30T18:00:00",
          "2018-11-30T00:36:00",
          "2018-12-30T07:12:00",
          "2019-01-29T13:48:00",
          "2019-02-28T20:24:00",
          "2019-03-31T03:00:00",
          "2019-04-30T09:36:00",
          "2019-05-30T16:12:00",
          "2019-06-29T22:48:00",
          "2019-07-30T05:24:00",
          "2019-08-29T11:51:16.848000"
         ],
         "xaxis": "x3",
         "y": [
          9882.379205826954,
          9882.379205826954,
          9882.379205826954,
          9882.379205826954,
          9882.379205826954,
          9882.379205826954,
          9882.379205826954,
          9882.379205826954,
          9882.379205826954,
          9882.379205826954,
          9882.379205826954
         ],
         "yaxis": "y3"
        },
        {
         "hoverinfo": "skip",
         "legendgroup": "thresh",
         "line": {
          "color": "#DD4040",
          "dash": "dash",
          "width": 2
         },
         "mode": "lines",
         "name": "Threshold",
         "showlegend": false,
         "type": "scatter",
         "x": [
          "2018-10-30T18:00:00",
          "2018-11-30T00:36:00",
          "2018-12-30T07:12:00",
          "2019-01-29T13:48:00",
          "2019-02-28T20:24:00",
          "2019-03-31T03:00:00",
          "2019-04-30T09:36:00",
          "2019-05-30T16:12:00",
          "2019-06-29T22:48:00",
          "2019-07-30T05:24:00",
          "2019-08-29T11:51:16.848000"
         ],
         "xaxis": "x3",
         "y": [
          9297.620794173046,
          9297.620794173046,
          9297.620794173046,
          9297.620794173046,
          9297.620794173046,
          9297.620794173046,
          9297.620794173046,
          9297.620794173046,
          9297.620794173046,
          9297.620794173046,
          9297.620794173046
         ],
         "yaxis": "y3"
        },
        {
         "hoverinfo": "skip",
         "line": {
          "color": "rgba(0,0,0,0)",
          "shape": "hv"
         },
         "mode": "lines",
         "name": "Sampling error (analysis)",
         "showlegend": false,
         "type": "scatter",
         "x": [
          "2018-10-30T18:00:00",
          "2018-11-30T00:36:00",
          "2018-12-30T07:12:00",
          "2019-01-29T13:48:00",
          "2019-02-28T20:24:00",
          "2019-03-31T03:00:00",
          "2019-04-30T09:36:00",
          "2019-05-30T16:12:00",
          "2019-06-29T22:48:00",
          "2019-07-30T05:24:00",
          "2019-08-29T11:51:16.848000"
         ],
         "xaxis": "x3",
         "y": [
          9624.418158568793,
          10197.417369556139,
          10218.62218343811,
          10163.665953443542,
          9949.366393131219,
          9413.278512808298,
          9465.566397850387,
          9482.84619084817,
          9640.470604695018,
          9186.971960751838,
          9186.971960751838
         ],
         "yaxis": "y3"
        },
        {
         "fill": "tonexty",
         "fillcolor": "rgba(0.23137254901960785, 0.00784313725490196, 0.5019607843137255, 0.2)",
         "hoverinfo": "skip",
         "line": {
          "color": "rgba(0,0,0,0)",
          "shape": "hv"
         },
         "mode": "lines",
         "name": "Sampling error (analysis)",
         "showlegend": false,
         "type": "scatter",
         "x": [
          "2018-10-30T18:00:00",
          "2018-11-30T00:36:00",
          "2018-12-30T07:12:00",
          "2019-01-29T13:48:00",
          "2019-02-28T20:24:00",
          "2019-03-31T03:00:00",
          "2019-04-30T09:36:00",
          "2019-05-30T16:12:00",
          "2019-06-29T22:48:00",
          "2019-07-30T05:24:00",
          "2019-08-29T11:51:16.848000"
         ],
         "xaxis": "x3",
         "y": [
          8776.603509013834,
          9349.60272000118,
          9370.807533883151,
          9315.851303888583,
          9101.55174357626,
          8565.463863253339,
          8617.751748295428,
          8635.03154129321,
          8792.655955140059,
          8339.15731119688,
          8339.15731119688
         ],
         "yaxis": "y3"
        },
        {
         "hoverinfo": "skip",
         "legendgroup": "metric_analysis",
         "line": {
          "color": "#3b0280",
          "shape": "hv",
          "width": 2
         },
         "mode": "lines",
         "name": "Metric (analysis)",
         "showlegend": false,
         "type": "scatter",
         "x": [
          "2018-10-30T18:00:00",
          "2018-11-30T00:36:00",
          "2018-12-30T07:12:00",
          "2019-01-29T13:48:00",
          "2019-02-28T20:24:00",
          "2019-03-31T03:00:00",
          "2019-04-30T09:36:00",
          "2019-05-30T16:12:00",
          "2019-06-29T22:48:00",
          "2019-07-30T05:24:00",
          "2019-08-29T11:51:16.848000"
         ],
         "xaxis": "x4",
         "y": [
          743.1781042482813,
          698.4003569380528,
          694.5462590836149,
          720.0172831445906,
          714.9784982157463,
          1006.4041144984552,
          991.6720989036476,
          1034.397500371099,
          953.358071519554,
          1036.7669511029062,
          1036.7669511029062
         ],
         "yaxis": "y4"
        },
        {
         "customdata": [
          [
           "Estimated <b>False Positive Cost</b>",
           "<b style=\"color:#3b0280;line-height:60px\">Analysis</b>",
           "",
           "[0:4999]",
           "From <b>Oct-30-2018</b> to <b>Nov-30-2018</b>",
           743.1781,
           212.5173
          ],
          [
           "Estimated <b>False Positive Cost</b>",
           "<b style=\"color:#3b0280;line-height:60px\">Analysis</b>",
           "",
           "[5000:9999]",
           "From <b>Nov-30-2018</b> to <b>Dec-30-2018</b>",
           698.4004,
           212.5173
          ],
          [
           "Estimated <b>False Positive Cost</b>",
           "<b style=\"color:#3b0280;line-height:60px\">Analysis</b>",
           "",
           "[10000:14999]",
           "From <b>Dec-30-2018</b> to <b>Jan-29-2019</b>",
           694.5463,
           212.5173
          ],
          [
           "Estimated <b>False Positive Cost</b>",
           "<b style=\"color:#3b0280;line-height:60px\">Analysis</b>",
           "",
           "[15000:19999]",
           "From <b>Jan-29-2019</b> to <b>Feb-28-2019</b>",
           720.0173,
           212.5173
          ],
          [
           "Estimated <b>False Positive Cost</b>",
           "<b style=\"color:#3b0280;line-height:60px\">Analysis</b>",
           "",
           "[20000:24999]",
           "From <b>Feb-28-2019</b> to <b>Mar-31-2019</b>",
           714.9785,
           212.5173
          ],
          [
           "Estimated <b>False Positive Cost</b>",
           "<b style=\"color:#3b0280;line-height:60px\">Analysis</b>",
           "<span style=\"color:#AD0000\">⚠ <b>Drift detected</b></span>",
           "[25000:29999]",
           "From <b>Mar-31-2019</b> to <b>Apr-30-2019</b>",
           1006.4041,
           212.5173
          ],
          [
           "Estimated <b>False Positive Cost</b>",
           "<b style=\"color:#3b0280;line-height:60px\">Analysis</b>",
           "<span style=\"color:#AD0000\">⚠ <b>Drift detected</b></span>",
           "[30000:34999]",
           "From <b>Apr-30-2019</b> to <b>May-30-2019</b>",
           991.6721,
           212.5173
          ],
          [
           "Estimated <b>False Positive Cost</b>",
           "<b style=\"color:#3b0280;line-height:60px\">Analysis</b>",
           "<span style=\"color:#AD0000\">⚠ <b>Drift detected</b></span>",
           "[35000:39999]",
           "From <b>May-30-2019</b> to <b>Jun-29-2019</b>",
           1034.3975,
           212.5173
          ],
          [
           "Estimated <b>False Positive Cost</b>",
           "<b style=\"color:#3b0280;line-height:60px\">Analysis</b>",
           "<span style=\"color:#AD0000\">⚠ <b>Drift detected</b></span>",
           "[40000:44999]",
           "From <b>Jun-29-2019</b> to <b>Jul-30-2019</b>",
           953.3581,
           212.5173
          ],
          [
           "Estimated <b>False Positive Cost</b>",
           "<b style=\"color:#3b0280;line-height:60px\">Analysis</b>",
           "<span style=\"color:#AD0000\">⚠ <b>Drift detected</b></span>",
           "[45000:49999]",
           "From <b>Jul-30-2019</b> to <b>Aug-29-2019</b>",
           1036.767,
           212.5173
          ]
         ],
         "hovertemplate": "%{customdata[1]} &nbsp; &nbsp; %{customdata[2]} <br />Chunk: <b>%{customdata[3]}</b> &nbsp; &nbsp; %{customdata[4]} <br />%{customdata[0]}: <b>%{customdata[5]}</b><br />Confidence band: +/- <b>%{customdata[6]}</b><br /><extra></extra>",
         "legendgroup": "metric_analysis",
         "marker": {
          "color": "#3b0280",
          "size": 5,
          "symbol": "circle"
         },
         "mode": "markers",
         "name": "Metric (analysis)",
         "showlegend": false,
         "type": "scatter",
         "x": [
          "2018-11-14T21:18:00",
          "2018-12-15T03:54:00",
          "2019-01-14T10:30:00",
          "2019-02-13T17:06:00",
          "2019-03-15T23:42:00",
          "2019-04-15T06:18:00",
          "2019-05-15T12:54:00",
          "2019-06-14T19:30:00",
          "2019-07-15T02:06:00",
          "2019-08-14T08:37:38.424000"
         ],
         "xaxis": "x4",
         "y": [
          743.1781042482813,
          698.4003569380528,
          694.5462590836149,
          720.0172831445906,
          714.9784982157463,
          1006.4041144984552,
          991.6720989036476,
          1034.397500371099,
          953.358071519554,
          1036.7669511029062,
          1036.7669511029062
         ],
         "yaxis": "y4"
        },
        {
         "hoverinfo": "skip",
         "legendgroup": "alert",
         "marker": {
          "color": "#DD4040",
          "size": 8,
          "symbol": "diamond"
         },
         "mode": "markers",
         "name": "Alert",
         "showlegend": false,
         "type": "scatter",
         "x": [
          "2019-04-15T06:18:00",
          "2019-05-15T12:54:00",
          "2019-06-14T19:30:00",
          "2019-07-15T02:06:00",
          "2019-08-14T08:37:38.424000"
         ],
         "xaxis": "x4",
         "y": [
          1006.4041144984552,
          991.6720989036476,
          1034.397500371099,
          953.358071519554,
          1036.7669511029062
         ],
         "yaxis": "y4"
        },
        {
         "hoverinfo": "skip",
         "legendgroup": "thresh",
         "line": {
          "color": "#DD4040",
          "dash": "dash",
          "width": 2
         },
         "mode": "lines",
         "name": "Threshold",
         "showlegend": false,
         "type": "scatter",
         "x": [
          "2018-10-30T18:00:00",
          "2018-11-30T00:36:00",
          "2018-12-30T07:12:00",
          "2019-01-29T13:48:00",
          "2019-02-28T20:24:00",
          "2019-03-31T03:00:00",
          "2019-04-30T09:36:00",
          "2019-05-30T16:12:00",
          "2019-06-29T22:48:00",
          "2019-07-30T05:24:00",
          "2019-08-29T11:51:16.848000"
         ],
         "xaxis": "x4",
         "y": [
          903.6299857084518,
          903.6299857084518,
          903.6299857084518,
          903.6299857084518,
          903.6299857084518,
          903.6299857084518,
          903.6299857084518,
          903.6299857084518,
          903.6299857084518,
          903.6299857084518,
          903.6299857084518
         ],
         "yaxis": "y4"
        },
        {
         "hoverinfo": "skip",
         "legendgroup": "thresh",
         "line": {
          "color": "#DD4040",
          "dash": "dash",
          "width": 2
         },
         "mode": "lines",
         "name": "Threshold",
         "showlegend": false,
         "type": "scatter",
         "x": [
          "2018-10-30T18:00:00",
          "2018-11-30T00:36:00",
          "2018-12-30T07:12:00",
          "2019-01-29T13:48:00",
          "2019-02-28T20:24:00",
          "2019-03-31T03:00:00",
          "2019-04-30T09:36:00",
          "2019-05-30T16:12:00",
          "2019-06-29T22:48:00",
          "2019-07-30T05:24:00",
          "2019-08-29T11:51:16.848000"
         ],
         "xaxis": "x4",
         "y": [
          560.7700142915483,
          560.7700142915483,
          560.7700142915483,
          560.7700142915483,
          560.7700142915483,
          560.7700142915483,
          560.7700142915483,
          560.7700142915483,
          560.7700142915483,
          560.7700142915483,
          560.7700142915483
         ],
         "yaxis": "y4"
        },
        {
         "hoverinfo": "skip",
         "line": {
          "color": "rgba(0,0,0,0)",
          "shape": "hv"
         },
         "mode": "lines",
         "name": "Sampling error (analysis)",
         "showlegend": false,
         "type": "scatter",
         "x": [
          "2018-10-30T18:00:00",
          "2018-11-30T00:36:00",
          "2018-12-30T07:12:00",
          "2019-01-29T13:48:00",
          "2019-02-28T20:24:00",
          "2019-03-31T03:00:00",
          "2019-04-30T09:36:00",
          "2019-05-30T16:12:00",
          "2019-06-29T22:48:00",
          "2019-07-30T05:24:00",
          "2019-08-29T11:51:16.848000"
         ],
         "xaxis": "x4",
         "y": [
          955.6953734006963,
          910.9176260904678,
          907.0635282360299,
          932.5345522970056,
          927.4957673681613,
          1218.9213836508702,
          1204.1893680560624,
          1246.9147695235142,
          1165.8753406719688,
          1249.284220255321,
          1249.284220255321
         ],
         "yaxis": "y4"
        },
        {
         "fill": "tonexty",
         "fillcolor": "rgba(0.23137254901960785, 0.00784313725490196, 0.5019607843137255, 0.2)",
         "hoverinfo": "skip",
         "line": {
          "color": "rgba(0,0,0,0)",
          "shape": "hv"
         },
         "mode": "lines",
         "name": "Sampling error (analysis)",
         "showlegend": false,
         "type": "scatter",
         "x": [
          "2018-10-30T18:00:00",
          "2018-11-30T00:36:00",
          "2018-12-30T07:12:00",
          "2019-01-29T13:48:00",
          "2019-02-28T20:24:00",
          "2019-03-31T03:00:00",
          "2019-04-30T09:36:00",
          "2019-05-30T16:12:00",
          "2019-06-29T22:48:00",
          "2019-07-30T05:24:00",
          "2019-08-29T11:51:16.848000"
         ],
         "xaxis": "x4",
         "y": [
          530.6608350958663,
          485.8830877856378,
          482.02898993119993,
          507.5000139921756,
          502.4612290633313,
          793.8868453460402,
          779.1548297512326,
          821.8802312186841,
          740.840802367139,
          824.2496819504912,
          824.2496819504912
         ],
         "yaxis": "y4"
        },
        {
         "hoverinfo": "skip",
         "legendgroup": "metric_analysis",
         "line": {
          "color": "#3b0280",
          "shape": "hv",
          "width": 2
         },
         "mode": "lines",
         "name": "Metric (analysis)",
         "showlegend": false,
         "type": "scatter",
         "x": [
          "2018-10-30T18:00:00",
          "2018-11-30T00:36:00",
          "2018-12-30T07:12:00",
          "2019-01-29T13:48:00",
          "2019-02-28T20:24:00",
          "2019-03-31T03:00:00",
          "2019-04-30T09:36:00",
          "2019-05-30T16:12:00",
          "2019-06-29T22:48:00",
          "2019-07-30T05:24:00",
          "2019-08-29T11:51:16.848000"
         ],
         "xaxis": "x5",
         "y": [
          369.74458310434306,
          367.24497761067084,
          346.64257066968554,
          346.1206856669686,
          349.27046582313056,
          605.3144059845915,
          605.170463463546,
          592.5305669646548,
          583.7183600412309,
          586.4676820128202,
          586.4676820128202
         ],
         "yaxis": "y5"
        },
        {
         "customdata": [
          [
           "Estimated <b>False Negative Cost</b>",
           "<b style=\"color:#3b0280;line-height:60px\">Analysis</b>",
           "",
           "[0:4999]",
           "From <b>Oct-30-2018</b> to <b>Nov-30-2018</b>",
           369.7446,
           78.4418
          ],
          [
           "Estimated <b>False Negative Cost</b>",
           "<b style=\"color:#3b0280;line-height:60px\">Analysis</b>",
           "",
           "[5000:9999]",
           "From <b>Nov-30-2018</b> to <b>Dec-30-2018</b>",
           367.245,
           78.4418
          ],
          [
           "Estimated <b>False Negative Cost</b>",
           "<b style=\"color:#3b0280;line-height:60px\">Analysis</b>",
           "",
           "[10000:14999]",
           "From <b>Dec-30-2018</b> to <b>Jan-29-2019</b>",
           346.6426,
           78.4418
          ],
          [
           "Estimated <b>False Negative Cost</b>",
           "<b style=\"color:#3b0280;line-height:60px\">Analysis</b>",
           "",
           "[15000:19999]",
           "From <b>Jan-29-2019</b> to <b>Feb-28-2019</b>",
           346.1207,
           78.4418
          ],
          [
           "Estimated <b>False Negative Cost</b>",
           "<b style=\"color:#3b0280;line-height:60px\">Analysis</b>",
           "",
           "[20000:24999]",
           "From <b>Feb-28-2019</b> to <b>Mar-31-2019</b>",
           349.2705,
           78.4418
          ],
          [
           "Estimated <b>False Negative Cost</b>",
           "<b style=\"color:#3b0280;line-height:60px\">Analysis</b>",
           "<span style=\"color:#AD0000\">⚠ <b>Drift detected</b></span>",
           "[25000:29999]",
           "From <b>Mar-31-2019</b> to <b>Apr-30-2019</b>",
           605.3144,
           78.4418
          ],
          [
           "Estimated <b>False Negative Cost</b>",
           "<b style=\"color:#3b0280;line-height:60px\">Analysis</b>",
           "<span style=\"color:#AD0000\">⚠ <b>Drift detected</b></span>",
           "[30000:34999]",
           "From <b>Apr-30-2019</b> to <b>May-30-2019</b>",
           605.1705,
           78.4418
          ],
          [
           "Estimated <b>False Negative Cost</b>",
           "<b style=\"color:#3b0280;line-height:60px\">Analysis</b>",
           "<span style=\"color:#AD0000\">⚠ <b>Drift detected</b></span>",
           "[35000:39999]",
           "From <b>May-30-2019</b> to <b>Jun-29-2019</b>",
           592.5306,
           78.4418
          ],
          [
           "Estimated <b>False Negative Cost</b>",
           "<b style=\"color:#3b0280;line-height:60px\">Analysis</b>",
           "<span style=\"color:#AD0000\">⚠ <b>Drift detected</b></span>",
           "[40000:44999]",
           "From <b>Jun-29-2019</b> to <b>Jul-30-2019</b>",
           583.7184,
           78.4418
          ],
          [
           "Estimated <b>False Negative Cost</b>",
           "<b style=\"color:#3b0280;line-height:60px\">Analysis</b>",
           "<span style=\"color:#AD0000\">⚠ <b>Drift detected</b></span>",
           "[45000:49999]",
           "From <b>Jul-30-2019</b> to <b>Aug-29-2019</b>",
           586.4677,
           78.4418
          ]
         ],
         "hovertemplate": "%{customdata[1]} &nbsp; &nbsp; %{customdata[2]} <br />Chunk: <b>%{customdata[3]}</b> &nbsp; &nbsp; %{customdata[4]} <br />%{customdata[0]}: <b>%{customdata[5]}</b><br />Confidence band: +/- <b>%{customdata[6]}</b><br /><extra></extra>",
         "legendgroup": "metric_analysis",
         "marker": {
          "color": "#3b0280",
          "size": 5,
          "symbol": "circle"
         },
         "mode": "markers",
         "name": "Metric (analysis)",
         "showlegend": false,
         "type": "scatter",
         "x": [
          "2018-11-14T21:18:00",
          "2018-12-15T03:54:00",
          "2019-01-14T10:30:00",
          "2019-02-13T17:06:00",
          "2019-03-15T23:42:00",
          "2019-04-15T06:18:00",
          "2019-05-15T12:54:00",
          "2019-06-14T19:30:00",
          "2019-07-15T02:06:00",
          "2019-08-14T08:37:38.424000"
         ],
         "xaxis": "x5",
         "y": [
          369.74458310434306,
          367.24497761067084,
          346.64257066968554,
          346.1206856669686,
          349.27046582313056,
          605.3144059845915,
          605.170463463546,
          592.5305669646548,
          583.7183600412309,
          586.4676820128202,
          586.4676820128202
         ],
         "yaxis": "y5"
        },
        {
         "hoverinfo": "skip",
         "legendgroup": "alert",
         "marker": {
          "color": "#DD4040",
          "size": 8,
          "symbol": "diamond"
         },
         "mode": "markers",
         "name": "Alert",
         "showlegend": false,
         "type": "scatter",
         "x": [
          "2019-04-15T06:18:00",
          "2019-05-15T12:54:00",
          "2019-06-14T19:30:00",
          "2019-07-15T02:06:00",
          "2019-08-14T08:37:38.424000"
         ],
         "xaxis": "x5",
         "y": [
          605.3144059845915,
          605.170463463546,
          592.5305669646548,
          583.7183600412309,
          586.4676820128202
         ],
         "yaxis": "y5"
        },
        {
         "hoverinfo": "skip",
         "legendgroup": "thresh",
         "line": {
          "color": "#DD4040",
          "dash": "dash",
          "width": 2
         },
         "mode": "lines",
         "name": "Threshold",
         "showlegend": false,
         "type": "scatter",
         "x": [
          "2018-10-30T18:00:00",
          "2018-11-30T00:36:00",
          "2018-12-30T07:12:00",
          "2019-01-29T13:48:00",
          "2019-02-28T20:24:00",
          "2019-03-31T03:00:00",
          "2019-04-30T09:36:00",
          "2019-05-30T16:12:00",
          "2019-06-29T22:48:00",
          "2019-07-30T05:24:00",
          "2019-08-29T11:51:16.848000"
         ],
         "xaxis": "x5",
         "y": [
          416.9152781326293,
          416.9152781326293,
          416.9152781326293,
          416.9152781326293,
          416.9152781326293,
          416.9152781326293,
          416.9152781326293,
          416.9152781326293,
          416.9152781326293,
          416.9152781326293,
          416.9152781326293
         ],
         "yaxis": "y5"
        },
        {
         "hoverinfo": "skip",
         "legendgroup": "thresh",
         "line": {
          "color": "#DD4040",
          "dash": "dash",
          "width": 2
         },
         "mode": "lines",
         "name": "Threshold",
         "showlegend": false,
         "type": "scatter",
         "x": [
          "2018-10-30T18:00:00",
          "2018-11-30T00:36:00",
          "2018-12-30T07:12:00",
          "2019-01-29T13:48:00",
          "2019-02-28T20:24:00",
          "2019-03-31T03:00:00",
          "2019-04-30T09:36:00",
          "2019-05-30T16:12:00",
          "2019-06-29T22:48:00",
          "2019-07-30T05:24:00",
          "2019-08-29T11:51:16.848000"
         ],
         "xaxis": "x5",
         "y": [
          291.8847218673707,
          291.8847218673707,
          291.8847218673707,
          291.8847218673707,
          291.8847218673707,
          291.8847218673707,
          291.8847218673707,
          291.8847218673707,
          291.8847218673707,
          291.8847218673707,
          291.8847218673707
         ],
         "yaxis": "y5"
        },
        {
         "hoverinfo": "skip",
         "line": {
          "color": "rgba(0,0,0,0)",
          "shape": "hv"
         },
         "mode": "lines",
         "name": "Sampling error (analysis)",
         "showlegend": false,
         "type": "scatter",
         "x": [
          "2018-10-30T18:00:00",
          "2018-11-30T00:36:00",
          "2018-12-30T07:12:00",
          "2019-01-29T13:48:00",
          "2019-02-28T20:24:00",
          "2019-03-31T03:00:00",
          "2019-04-30T09:36:00",
          "2019-05-30T16:12:00",
          "2019-06-29T22:48:00",
          "2019-07-30T05:24:00",
          "2019-08-29T11:51:16.848000"
         ],
         "xaxis": "x5",
         "y": [
          448.1864160253043,
          445.6868105316321,
          425.0844035906468,
          424.56251858792984,
          427.7122987440918,
          683.7562389055528,
          683.6122963845072,
          670.972399885616,
          662.1601929621921,
          664.9095149337815,
          664.9095149337815
         ],
         "yaxis": "y5"
        },
        {
         "fill": "tonexty",
         "fillcolor": "rgba(0.23137254901960785, 0.00784313725490196, 0.5019607843137255, 0.2)",
         "hoverinfo": "skip",
         "line": {
          "color": "rgba(0,0,0,0)",
          "shape": "hv"
         },
         "mode": "lines",
         "name": "Sampling error (analysis)",
         "showlegend": false,
         "type": "scatter",
         "x": [
          "2018-10-30T18:00:00",
          "2018-11-30T00:36:00",
          "2018-12-30T07:12:00",
          "2019-01-29T13:48:00",
          "2019-02-28T20:24:00",
          "2019-03-31T03:00:00",
          "2019-04-30T09:36:00",
          "2019-05-30T16:12:00",
          "2019-06-29T22:48:00",
          "2019-07-30T05:24:00",
          "2019-08-29T11:51:16.848000"
         ],
         "xaxis": "x5",
         "y": [
          291.3027501833818,
          288.8031446897096,
          268.2007377487243,
          267.67885274600735,
          270.8286329021693,
          526.8725730636303,
          526.7286305425847,
          514.0887340436935,
          505.27652712026963,
          508.02584909185896,
          508.02584909185896
         ],
         "yaxis": "y5"
        },
        {
         "hoverinfo": "skip",
         "legendgroup": "metric_analysis",
         "line": {
          "color": "#3b0280",
          "shape": "hv",
          "width": 2
         },
         "mode": "lines",
         "name": "Metric (analysis)",
         "showlegend": false,
         "type": "scatter",
         "x": [
          "2018-10-30T18:00:00",
          "2018-11-30T00:36:00",
          "2018-12-30T07:12:00",
          "2019-01-29T13:48:00",
          "2019-02-28T20:24:00",
          "2019-03-31T03:00:00",
          "2019-04-30T09:36:00",
          "2019-05-30T16:12:00",
          "2019-06-29T22:48:00",
          "2019-07-30T05:24:00",
          "2019-08-29T11:51:16.848000"
         ],
         "xaxis": "x6",
         "y": [
          19948.760318716348,
          19932.069461077062,
          19951.02011179472,
          19962.458149966424,
          19957.148890555047,
          19826.001643086176,
          19819.831864638018,
          19850.7826474801,
          19824.863670610004,
          19857.861011316993,
          19857.861011316993
         ],
         "yaxis": "y6"
        },
        {
         "customdata": [
          [
           "Estimated <b>Total Cost</b>",
           "<b style=\"color:#3b0280;line-height:60px\">Analysis</b>",
           "",
           "[0:4999]",
           "From <b>Oct-30-2018</b> to <b>Nov-30-2018</b>",
           19948.7603,
           121.8558
          ],
          [
           "Estimated <b>Total Cost</b>",
           "<b style=\"color:#3b0280;line-height:60px\">Analysis</b>",
           "",
           "[5000:9999]",
           "From <b>Nov-30-2018</b> to <b>Dec-30-2018</b>",
           19932.0695,
           121.8558
          ],
          [
           "Estimated <b>Total Cost</b>",
           "<b style=\"color:#3b0280;line-height:60px\">Analysis</b>",
           "",
           "[10000:14999]",
           "From <b>Dec-30-2018</b> to <b>Jan-29-2019</b>",
           19951.0201,
           121.8558
          ],
          [
           "Estimated <b>Total Cost</b>",
           "<b style=\"color:#3b0280;line-height:60px\">Analysis</b>",
           "",
           "[15000:19999]",
           "From <b>Jan-29-2019</b> to <b>Feb-28-2019</b>",
           19962.4581,
           121.8558
          ],
          [
           "Estimated <b>Total Cost</b>",
           "<b style=\"color:#3b0280;line-height:60px\">Analysis</b>",
           "",
           "[20000:24999]",
           "From <b>Feb-28-2019</b> to <b>Mar-31-2019</b>",
           19957.1489,
           121.8558
          ],
          [
           "Estimated <b>Total Cost</b>",
           "<b style=\"color:#3b0280;line-height:60px\">Analysis</b>",
           "<span style=\"color:#AD0000\">⚠ <b>Drift detected</b></span>",
           "[25000:29999]",
           "From <b>Mar-31-2019</b> to <b>Apr-30-2019</b>",
           19826.0016,
           121.8558
          ],
          [
           "Estimated <b>Total Cost</b>",
           "<b style=\"color:#3b0280;line-height:60px\">Analysis</b>",
           "<span style=\"color:#AD0000\">⚠ <b>Drift detected</b></span>",
           "[30000:34999]",
           "From <b>Apr-30-2019</b> to <b>May-30-2019</b>",
           19819.8319,
           121.8558
          ],
          [
           "Estimated <b>Total Cost</b>",
           "<b style=\"color:#3b0280;line-height:60px\">Analysis</b>",
           "<span style=\"color:#AD0000\">⚠ <b>Drift detected</b></span>",
           "[35000:39999]",
           "From <b>May-30-2019</b> to <b>Jun-29-2019</b>",
           19850.7826,
           121.8558
          ],
          [
           "Estimated <b>Total Cost</b>",
           "<b style=\"color:#3b0280;line-height:60px\">Analysis</b>",
           "<span style=\"color:#AD0000\">⚠ <b>Drift detected</b></span>",
           "[40000:44999]",
           "From <b>Jun-29-2019</b> to <b>Jul-30-2019</b>",
           19824.8637,
           121.8558
          ],
          [
           "Estimated <b>Total Cost</b>",
           "<b style=\"color:#3b0280;line-height:60px\">Analysis</b>",
           "<span style=\"color:#AD0000\">⚠ <b>Drift detected</b></span>",
           "[45000:49999]",
           "From <b>Jul-30-2019</b> to <b>Aug-29-2019</b>",
           19857.861,
           121.8558
          ]
         ],
         "hovertemplate": "%{customdata[1]} &nbsp; &nbsp; %{customdata[2]} <br />Chunk: <b>%{customdata[3]}</b> &nbsp; &nbsp; %{customdata[4]} <br />%{customdata[0]}: <b>%{customdata[5]}</b><br />Confidence band: +/- <b>%{customdata[6]}</b><br /><extra></extra>",
         "legendgroup": "metric_analysis",
         "marker": {
          "color": "#3b0280",
          "size": 5,
          "symbol": "circle"
         },
         "mode": "markers",
         "name": "Metric (analysis)",
         "showlegend": false,
         "type": "scatter",
         "x": [
          "2018-11-14T21:18:00",
          "2018-12-15T03:54:00",
          "2019-01-14T10:30:00",
          "2019-02-13T17:06:00",
          "2019-03-15T23:42:00",
          "2019-04-15T06:18:00",
          "2019-05-15T12:54:00",
          "2019-06-14T19:30:00",
          "2019-07-15T02:06:00",
          "2019-08-14T08:37:38.424000"
         ],
         "xaxis": "x6",
         "y": [
          19948.760318716348,
          19932.069461077062,
          19951.02011179472,
          19962.458149966424,
          19957.148890555047,
          19826.001643086176,
          19819.831864638018,
          19850.7826474801,
          19824.863670610004,
          19857.861011316993,
          19857.861011316993
         ],
         "yaxis": "y6"
        },
        {
         "hoverinfo": "skip",
         "legendgroup": "alert",
         "marker": {
          "color": "#DD4040",
          "size": 8,
          "symbol": "diamond"
         },
         "mode": "markers",
         "name": "Alert",
         "showlegend": false,
         "type": "scatter",
         "x": [
          "2019-04-15T06:18:00",
          "2019-05-15T12:54:00",
          "2019-06-14T19:30:00",
          "2019-07-15T02:06:00",
          "2019-08-14T08:37:38.424000"
         ],
         "xaxis": "x6",
         "y": [
          19826.001643086176,
          19819.831864638018,
          19850.7826474801,
          19824.863670610004,
          19857.861011316993
         ],
         "yaxis": "y6"
        },
        {
         "hoverinfo": "skip",
         "legendgroup": "thresh",
         "line": {
          "color": "#DD4040",
          "dash": "dash",
          "width": 2
         },
         "mode": "lines",
         "name": "Threshold",
         "showlegend": false,
         "type": "scatter",
         "x": [
          "2018-10-30T18:00:00",
          "2018-11-30T00:36:00",
          "2018-12-30T07:12:00",
          "2019-01-29T13:48:00",
          "2019-02-28T20:24:00",
          "2019-03-31T03:00:00",
          "2019-04-30T09:36:00",
          "2019-05-30T16:12:00",
          "2019-06-29T22:48:00",
          "2019-07-30T05:24:00",
          "2019-08-29T11:51:16.848000"
         ],
         "xaxis": "x6",
         "y": [
          20057.818290982927,
          20057.818290982927,
          20057.818290982927,
          20057.818290982927,
          20057.818290982927,
          20057.818290982927,
          20057.818290982927,
          20057.818290982927,
          20057.818290982927,
          20057.818290982927,
          20057.818290982927
         ],
         "yaxis": "y6"
        },
        {
         "hoverinfo": "skip",
         "legendgroup": "thresh",
         "line": {
          "color": "#DD4040",
          "dash": "dash",
          "width": 2
         },
         "mode": "lines",
         "name": "Threshold",
         "showlegend": false,
         "type": "scatter",
         "x": [
          "2018-10-30T18:00:00",
          "2018-11-30T00:36:00",
          "2018-12-30T07:12:00",
          "2019-01-29T13:48:00",
          "2019-02-28T20:24:00",
          "2019-03-31T03:00:00",
          "2019-04-30T09:36:00",
          "2019-05-30T16:12:00",
          "2019-06-29T22:48:00",
          "2019-07-30T05:24:00",
          "2019-08-29T11:51:16.848000"
         ],
         "xaxis": "x6",
         "y": [
          19860.981709017076,
          19860.981709017076,
          19860.981709017076,
          19860.981709017076,
          19860.981709017076,
          19860.981709017076,
          19860.981709017076,
          19860.981709017076,
          19860.981709017076,
          19860.981709017076,
          19860.981709017076
         ],
         "yaxis": "y6"
        },
        {
         "hoverinfo": "skip",
         "line": {
          "color": "rgba(0,0,0,0)",
          "shape": "hv"
         },
         "mode": "lines",
         "name": "Sampling error (analysis)",
         "showlegend": false,
         "type": "scatter",
         "x": [
          "2018-10-30T18:00:00",
          "2018-11-30T00:36:00",
          "2018-12-30T07:12:00",
          "2019-01-29T13:48:00",
          "2019-02-28T20:24:00",
          "2019-03-31T03:00:00",
          "2019-04-30T09:36:00",
          "2019-05-30T16:12:00",
          "2019-06-29T22:48:00",
          "2019-07-30T05:24:00",
          "2019-08-29T11:51:16.848000"
         ],
         "xaxis": "x6",
         "y": [
          20070.61610623586,
          20053.925248596574,
          20072.875899314233,
          20084.313937485935,
          20079.004678074558,
          19947.857430605687,
          19941.68765215753,
          19972.63843499961,
          19946.719458129515,
          19979.716798836504,
          19979.716798836504
         ],
         "yaxis": "y6"
        },
        {
         "fill": "tonexty",
         "fillcolor": "rgba(0.23137254901960785, 0.00784313725490196, 0.5019607843137255, 0.2)",
         "hoverinfo": "skip",
         "line": {
          "color": "rgba(0,0,0,0)",
          "shape": "hv"
         },
         "mode": "lines",
         "name": "Sampling error (analysis)",
         "showlegend": false,
         "type": "scatter",
         "x": [
          "2018-10-30T18:00:00",
          "2018-11-30T00:36:00",
          "2018-12-30T07:12:00",
          "2019-01-29T13:48:00",
          "2019-02-28T20:24:00",
          "2019-03-31T03:00:00",
          "2019-04-30T09:36:00",
          "2019-05-30T16:12:00",
          "2019-06-29T22:48:00",
          "2019-07-30T05:24:00",
          "2019-08-29T11:51:16.848000"
         ],
         "xaxis": "x6",
         "y": [
          19826.904531196837,
          19810.21367355755,
          19829.16432427521,
          19840.602362446913,
          19835.293103035536,
          19704.145855566665,
          19697.976077118507,
          19728.92685996059,
          19703.007883090493,
          19736.00522379748,
          19736.00522379748
         ],
         "yaxis": "y6"
        }
       ],
       "layout": {
        "annotations": [
         {
          "font": {
           "size": 16
          },
          "showarrow": false,
          "text": "Estimated <b>ROC AUC</b>",
          "x": 0.5,
          "xanchor": "center",
          "xref": "paper",
          "y": 0.9999999999999999,
          "yanchor": "bottom",
          "yref": "paper"
         },
         {
          "font": {
           "size": 16
          },
          "showarrow": false,
          "text": "Estimated <b>True Positive Cost</b>",
          "x": 0.5,
          "xanchor": "center",
          "xref": "paper",
          "y": 0.8194444444444444,
          "yanchor": "bottom",
          "yref": "paper"
         },
         {
          "font": {
           "size": 16
          },
          "showarrow": false,
          "text": "Estimated <b>True Negative Cost</b>",
          "x": 0.5,
          "xanchor": "center",
          "xref": "paper",
          "y": 0.638888888888889,
          "yanchor": "bottom",
          "yref": "paper"
         },
         {
          "font": {
           "size": 16
          },
          "showarrow": false,
          "text": "Estimated <b>False Positive Cost</b>",
          "x": 0.5,
          "xanchor": "center",
          "xref": "paper",
          "y": 0.4583333333333333,
          "yanchor": "bottom",
          "yref": "paper"
         },
         {
          "font": {
           "size": 16
          },
          "showarrow": false,
          "text": "Estimated <b>False Negative Cost</b>",
          "x": 0.5,
          "xanchor": "center",
          "xref": "paper",
          "y": 0.2777777777777778,
          "yanchor": "bottom",
          "yref": "paper"
         },
         {
          "font": {
           "size": 16
          },
          "showarrow": false,
          "text": "Estimated <b>Total Cost</b>",
          "x": 0.5,
          "xanchor": "center",
          "xref": "paper",
          "y": 0.09722222222222222,
          "yanchor": "bottom",
          "yref": "paper"
         }
        ],
        "height": 3000,
        "hoverlabel": {
         "bgcolor": "white",
         "font": {
          "size": 14
         }
        },
        "legend": {
         "itemclick": false,
         "itemdoubleclick": false,
         "traceorder": "grouped"
        },
        "paper_bgcolor": "rgba(255,255,255,1)",
        "plot_bgcolor": "rgba(255,255,255,1)",
        "template": {
         "data": {
          "bar": [
           {
            "error_x": {
             "color": "#2a3f5f"
            },
            "error_y": {
             "color": "#2a3f5f"
            },
            "marker": {
             "line": {
              "color": "#E5ECF6",
              "width": 0.5
             },
             "pattern": {
              "fillmode": "overlay",
              "size": 10,
              "solidity": 0.2
             }
            },
            "type": "bar"
           }
          ],
          "barpolar": [
           {
            "marker": {
             "line": {
              "color": "#E5ECF6",
              "width": 0.5
             },
             "pattern": {
              "fillmode": "overlay",
              "size": 10,
              "solidity": 0.2
             }
            },
            "type": "barpolar"
           }
          ],
          "carpet": [
           {
            "aaxis": {
             "endlinecolor": "#2a3f5f",
             "gridcolor": "white",
             "linecolor": "white",
             "minorgridcolor": "white",
             "startlinecolor": "#2a3f5f"
            },
            "baxis": {
             "endlinecolor": "#2a3f5f",
             "gridcolor": "white",
             "linecolor": "white",
             "minorgridcolor": "white",
             "startlinecolor": "#2a3f5f"
            },
            "type": "carpet"
           }
          ],
          "choropleth": [
           {
            "colorbar": {
             "outlinewidth": 0,
             "ticks": ""
            },
            "type": "choropleth"
           }
          ],
          "contour": [
           {
            "colorbar": {
             "outlinewidth": 0,
             "ticks": ""
            },
            "colorscale": [
             [
              0,
              "#0d0887"
             ],
             [
              0.1111111111111111,
              "#46039f"
             ],
             [
              0.2222222222222222,
              "#7201a8"
             ],
             [
              0.3333333333333333,
              "#9c179e"
             ],
             [
              0.4444444444444444,
              "#bd3786"
             ],
             [
              0.5555555555555556,
              "#d8576b"
             ],
             [
              0.6666666666666666,
              "#ed7953"
             ],
             [
              0.7777777777777778,
              "#fb9f3a"
             ],
             [
              0.8888888888888888,
              "#fdca26"
             ],
             [
              1,
              "#f0f921"
             ]
            ],
            "type": "contour"
           }
          ],
          "contourcarpet": [
           {
            "colorbar": {
             "outlinewidth": 0,
             "ticks": ""
            },
            "type": "contourcarpet"
           }
          ],
          "heatmap": [
           {
            "colorbar": {
             "outlinewidth": 0,
             "ticks": ""
            },
            "colorscale": [
             [
              0,
              "#0d0887"
             ],
             [
              0.1111111111111111,
              "#46039f"
             ],
             [
              0.2222222222222222,
              "#7201a8"
             ],
             [
              0.3333333333333333,
              "#9c179e"
             ],
             [
              0.4444444444444444,
              "#bd3786"
             ],
             [
              0.5555555555555556,
              "#d8576b"
             ],
             [
              0.6666666666666666,
              "#ed7953"
             ],
             [
              0.7777777777777778,
              "#fb9f3a"
             ],
             [
              0.8888888888888888,
              "#fdca26"
             ],
             [
              1,
              "#f0f921"
             ]
            ],
            "type": "heatmap"
           }
          ],
          "heatmapgl": [
           {
            "colorbar": {
             "outlinewidth": 0,
             "ticks": ""
            },
            "colorscale": [
             [
              0,
              "#0d0887"
             ],
             [
              0.1111111111111111,
              "#46039f"
             ],
             [
              0.2222222222222222,
              "#7201a8"
             ],
             [
              0.3333333333333333,
              "#9c179e"
             ],
             [
              0.4444444444444444,
              "#bd3786"
             ],
             [
              0.5555555555555556,
              "#d8576b"
             ],
             [
              0.6666666666666666,
              "#ed7953"
             ],
             [
              0.7777777777777778,
              "#fb9f3a"
             ],
             [
              0.8888888888888888,
              "#fdca26"
             ],
             [
              1,
              "#f0f921"
             ]
            ],
            "type": "heatmapgl"
           }
          ],
          "histogram": [
           {
            "marker": {
             "pattern": {
              "fillmode": "overlay",
              "size": 10,
              "solidity": 0.2
             }
            },
            "type": "histogram"
           }
          ],
          "histogram2d": [
           {
            "colorbar": {
             "outlinewidth": 0,
             "ticks": ""
            },
            "colorscale": [
             [
              0,
              "#0d0887"
             ],
             [
              0.1111111111111111,
              "#46039f"
             ],
             [
              0.2222222222222222,
              "#7201a8"
             ],
             [
              0.3333333333333333,
              "#9c179e"
             ],
             [
              0.4444444444444444,
              "#bd3786"
             ],
             [
              0.5555555555555556,
              "#d8576b"
             ],
             [
              0.6666666666666666,
              "#ed7953"
             ],
             [
              0.7777777777777778,
              "#fb9f3a"
             ],
             [
              0.8888888888888888,
              "#fdca26"
             ],
             [
              1,
              "#f0f921"
             ]
            ],
            "type": "histogram2d"
           }
          ],
          "histogram2dcontour": [
           {
            "colorbar": {
             "outlinewidth": 0,
             "ticks": ""
            },
            "colorscale": [
             [
              0,
              "#0d0887"
             ],
             [
              0.1111111111111111,
              "#46039f"
             ],
             [
              0.2222222222222222,
              "#7201a8"
             ],
             [
              0.3333333333333333,
              "#9c179e"
             ],
             [
              0.4444444444444444,
              "#bd3786"
             ],
             [
              0.5555555555555556,
              "#d8576b"
             ],
             [
              0.6666666666666666,
              "#ed7953"
             ],
             [
              0.7777777777777778,
              "#fb9f3a"
             ],
             [
              0.8888888888888888,
              "#fdca26"
             ],
             [
              1,
              "#f0f921"
             ]
            ],
            "type": "histogram2dcontour"
           }
          ],
          "mesh3d": [
           {
            "colorbar": {
             "outlinewidth": 0,
             "ticks": ""
            },
            "type": "mesh3d"
           }
          ],
          "parcoords": [
           {
            "line": {
             "colorbar": {
              "outlinewidth": 0,
              "ticks": ""
             }
            },
            "type": "parcoords"
           }
          ],
          "pie": [
           {
            "automargin": true,
            "type": "pie"
           }
          ],
          "scatter": [
           {
            "fillpattern": {
             "fillmode": "overlay",
             "size": 10,
             "solidity": 0.2
            },
            "type": "scatter"
           }
          ],
          "scatter3d": [
           {
            "line": {
             "colorbar": {
              "outlinewidth": 0,
              "ticks": ""
             }
            },
            "marker": {
             "colorbar": {
              "outlinewidth": 0,
              "ticks": ""
             }
            },
            "type": "scatter3d"
           }
          ],
          "scattercarpet": [
           {
            "marker": {
             "colorbar": {
              "outlinewidth": 0,
              "ticks": ""
             }
            },
            "type": "scattercarpet"
           }
          ],
          "scattergeo": [
           {
            "marker": {
             "colorbar": {
              "outlinewidth": 0,
              "ticks": ""
             }
            },
            "type": "scattergeo"
           }
          ],
          "scattergl": [
           {
            "marker": {
             "colorbar": {
              "outlinewidth": 0,
              "ticks": ""
             }
            },
            "type": "scattergl"
           }
          ],
          "scattermapbox": [
           {
            "marker": {
             "colorbar": {
              "outlinewidth": 0,
              "ticks": ""
             }
            },
            "type": "scattermapbox"
           }
          ],
          "scatterpolar": [
           {
            "marker": {
             "colorbar": {
              "outlinewidth": 0,
              "ticks": ""
             }
            },
            "type": "scatterpolar"
           }
          ],
          "scatterpolargl": [
           {
            "marker": {
             "colorbar": {
              "outlinewidth": 0,
              "ticks": ""
             }
            },
            "type": "scatterpolargl"
           }
          ],
          "scatterternary": [
           {
            "marker": {
             "colorbar": {
              "outlinewidth": 0,
              "ticks": ""
             }
            },
            "type": "scatterternary"
           }
          ],
          "surface": [
           {
            "colorbar": {
             "outlinewidth": 0,
             "ticks": ""
            },
            "colorscale": [
             [
              0,
              "#0d0887"
             ],
             [
              0.1111111111111111,
              "#46039f"
             ],
             [
              0.2222222222222222,
              "#7201a8"
             ],
             [
              0.3333333333333333,
              "#9c179e"
             ],
             [
              0.4444444444444444,
              "#bd3786"
             ],
             [
              0.5555555555555556,
              "#d8576b"
             ],
             [
              0.6666666666666666,
              "#ed7953"
             ],
             [
              0.7777777777777778,
              "#fb9f3a"
             ],
             [
              0.8888888888888888,
              "#fdca26"
             ],
             [
              1,
              "#f0f921"
             ]
            ],
            "type": "surface"
           }
          ],
          "table": [
           {
            "cells": {
             "fill": {
              "color": "#EBF0F8"
             },
             "line": {
              "color": "white"
             }
            },
            "header": {
             "fill": {
              "color": "#C8D4E3"
             },
             "line": {
              "color": "white"
             }
            },
            "type": "table"
           }
          ]
         },
         "layout": {
          "annotationdefaults": {
           "arrowcolor": "#2a3f5f",
           "arrowhead": 0,
           "arrowwidth": 1
          },
          "autotypenumbers": "strict",
          "coloraxis": {
           "colorbar": {
            "outlinewidth": 0,
            "ticks": ""
           }
          },
          "colorscale": {
           "diverging": [
            [
             0,
             "#8e0152"
            ],
            [
             0.1,
             "#c51b7d"
            ],
            [
             0.2,
             "#de77ae"
            ],
            [
             0.3,
             "#f1b6da"
            ],
            [
             0.4,
             "#fde0ef"
            ],
            [
             0.5,
             "#f7f7f7"
            ],
            [
             0.6,
             "#e6f5d0"
            ],
            [
             0.7,
             "#b8e186"
            ],
            [
             0.8,
             "#7fbc41"
            ],
            [
             0.9,
             "#4d9221"
            ],
            [
             1,
             "#276419"
            ]
           ],
           "sequential": [
            [
             0,
             "#0d0887"
            ],
            [
             0.1111111111111111,
             "#46039f"
            ],
            [
             0.2222222222222222,
             "#7201a8"
            ],
            [
             0.3333333333333333,
             "#9c179e"
            ],
            [
             0.4444444444444444,
             "#bd3786"
            ],
            [
             0.5555555555555556,
             "#d8576b"
            ],
            [
             0.6666666666666666,
             "#ed7953"
            ],
            [
             0.7777777777777778,
             "#fb9f3a"
            ],
            [
             0.8888888888888888,
             "#fdca26"
            ],
            [
             1,
             "#f0f921"
            ]
           ],
           "sequentialminus": [
            [
             0,
             "#0d0887"
            ],
            [
             0.1111111111111111,
             "#46039f"
            ],
            [
             0.2222222222222222,
             "#7201a8"
            ],
            [
             0.3333333333333333,
             "#9c179e"
            ],
            [
             0.4444444444444444,
             "#bd3786"
            ],
            [
             0.5555555555555556,
             "#d8576b"
            ],
            [
             0.6666666666666666,
             "#ed7953"
            ],
            [
             0.7777777777777778,
             "#fb9f3a"
            ],
            [
             0.8888888888888888,
             "#fdca26"
            ],
            [
             1,
             "#f0f921"
            ]
           ]
          },
          "colorway": [
           "#636efa",
           "#EF553B",
           "#00cc96",
           "#ab63fa",
           "#FFA15A",
           "#19d3f3",
           "#FF6692",
           "#B6E880",
           "#FF97FF",
           "#FECB52"
          ],
          "font": {
           "color": "#2a3f5f"
          },
          "geo": {
           "bgcolor": "white",
           "lakecolor": "white",
           "landcolor": "#E5ECF6",
           "showlakes": true,
           "showland": true,
           "subunitcolor": "white"
          },
          "hoverlabel": {
           "align": "left"
          },
          "hovermode": "closest",
          "mapbox": {
           "style": "light"
          },
          "paper_bgcolor": "white",
          "plot_bgcolor": "#E5ECF6",
          "polar": {
           "angularaxis": {
            "gridcolor": "white",
            "linecolor": "white",
            "ticks": ""
           },
           "bgcolor": "#E5ECF6",
           "radialaxis": {
            "gridcolor": "white",
            "linecolor": "white",
            "ticks": ""
           }
          },
          "scene": {
           "xaxis": {
            "backgroundcolor": "#E5ECF6",
            "gridcolor": "white",
            "gridwidth": 2,
            "linecolor": "white",
            "showbackground": true,
            "ticks": "",
            "zerolinecolor": "white"
           },
           "yaxis": {
            "backgroundcolor": "#E5ECF6",
            "gridcolor": "white",
            "gridwidth": 2,
            "linecolor": "white",
            "showbackground": true,
            "ticks": "",
            "zerolinecolor": "white"
           },
           "zaxis": {
            "backgroundcolor": "#E5ECF6",
            "gridcolor": "white",
            "gridwidth": 2,
            "linecolor": "white",
            "showbackground": true,
            "ticks": "",
            "zerolinecolor": "white"
           }
          },
          "shapedefaults": {
           "line": {
            "color": "#2a3f5f"
           }
          },
          "ternary": {
           "aaxis": {
            "gridcolor": "white",
            "linecolor": "white",
            "ticks": ""
           },
           "baxis": {
            "gridcolor": "white",
            "linecolor": "white",
            "ticks": ""
           },
           "bgcolor": "#E5ECF6",
           "caxis": {
            "gridcolor": "white",
            "linecolor": "white",
            "ticks": ""
           }
          },
          "title": {
           "x": 0.05
          },
          "xaxis": {
           "automargin": true,
           "gridcolor": "white",
           "linecolor": "white",
           "ticks": "",
           "title": {
            "standoff": 15
           },
           "zerolinecolor": "white",
           "zerolinewidth": 2
          },
          "yaxis": {
           "automargin": true,
           "gridcolor": "white",
           "linecolor": "white",
           "ticks": "",
           "title": {
            "standoff": 15
           },
           "zerolinecolor": "white",
           "zerolinewidth": 2
          }
         }
        },
        "title": {
         "text": "Estimated performance <b>(CBPE)</b>"
        },
        "xaxis": {
         "anchor": "y",
         "domain": [
          0,
          1
         ],
         "linecolor": "#3b0280",
         "matches": "x",
         "mirror": true,
         "showgrid": false,
         "showticklabels": true,
         "title": {
          "text": "Time"
         },
         "zeroline": false
        },
        "xaxis2": {
         "anchor": "y2",
         "domain": [
          0,
          1
         ],
         "linecolor": "#3b0280",
         "matches": "x",
         "mirror": true,
         "showgrid": false,
         "showticklabels": true,
         "title": {
          "text": "Time"
         },
         "zeroline": false
        },
        "xaxis3": {
         "anchor": "y3",
         "domain": [
          0,
          1
         ],
         "linecolor": "#3b0280",
         "matches": "x",
         "mirror": true,
         "showgrid": false,
         "showticklabels": true,
         "title": {
          "text": "Time"
         },
         "zeroline": false
        },
        "xaxis4": {
         "anchor": "y4",
         "domain": [
          0,
          1
         ],
         "linecolor": "#3b0280",
         "matches": "x",
         "mirror": true,
         "showgrid": false,
         "showticklabels": true,
         "title": {
          "text": "Time"
         },
         "zeroline": false
        },
        "xaxis5": {
         "anchor": "y5",
         "domain": [
          0,
          1
         ],
         "linecolor": "#3b0280",
         "matches": "x",
         "mirror": true,
         "showgrid": false,
         "showticklabels": true,
         "title": {
          "text": "Time"
         },
         "zeroline": false
        },
        "xaxis6": {
         "anchor": "y6",
         "domain": [
          0,
          1
         ],
         "linecolor": "#3b0280",
         "matches": "x",
         "mirror": true,
         "showgrid": false,
         "showticklabels": true,
         "title": {
          "text": "Time"
         },
         "zeroline": false
        },
        "yaxis": {
         "anchor": "x",
         "domain": [
          0.9027777777777777,
          0.9999999999999999
         ],
         "linecolor": "#3b0280",
         "mirror": true,
         "showgrid": false,
         "title": {
          "text": "ROC AUC"
         },
         "zeroline": false
        },
        "yaxis2": {
         "anchor": "x2",
         "domain": [
          0.7222222222222222,
          0.8194444444444444
         ],
         "linecolor": "#3b0280",
         "mirror": true,
         "showgrid": false,
         "title": {
          "text": "True Positive Cost"
         },
         "zeroline": false
        },
        "yaxis3": {
         "anchor": "x3",
         "domain": [
          0.5416666666666667,
          0.638888888888889
         ],
         "linecolor": "#3b0280",
         "mirror": true,
         "showgrid": false,
         "title": {
          "text": "True Negative Cost"
         },
         "zeroline": false
        },
        "yaxis4": {
         "anchor": "x4",
         "domain": [
          0.3611111111111111,
          0.4583333333333333
         ],
         "linecolor": "#3b0280",
         "mirror": true,
         "showgrid": false,
         "title": {
          "text": "False Positive Cost"
         },
         "zeroline": false
        },
        "yaxis5": {
         "anchor": "x5",
         "domain": [
          0.18055555555555555,
          0.2777777777777778
         ],
         "linecolor": "#3b0280",
         "mirror": true,
         "showgrid": false,
         "title": {
          "text": "False Negative Cost"
         },
         "zeroline": false
        },
        "yaxis6": {
         "anchor": "x6",
         "domain": [
          0,
          0.09722222222222222
         ],
         "linecolor": "#3b0280",
         "mirror": true,
         "showgrid": false,
         "title": {
          "text": "Total Cost"
         },
         "zeroline": false
        }
       }
      }
     },
     "metadata": {},
     "output_type": "display_data"
    },
    {
     "data": {
      "application/vnd.plotly.v1+json": {
       "config": {
        "plotlyServerURL": "https://plot.ly"
       },
       "data": [
        {
         "hoverinfo": "skip",
         "legendgroup": "metric_reference",
         "line": {
          "color": "#00c8e5",
          "shape": "hv",
          "width": 2
         },
         "mode": "lines",
         "name": "Metric (reference)",
         "showlegend": true,
         "type": "scatter",
         "x": [
          "2018-01-01T00:00:00",
          "2018-01-31T06:36:00",
          "2018-03-02T13:12:00",
          "2018-04-01T19:48:00",
          "2018-05-02T02:24:00",
          "2018-06-01T09:00:00",
          "2018-07-01T15:36:00",
          "2018-07-31T22:12:00",
          "2018-08-31T04:48:00",
          "2018-09-30T11:24:00",
          "2018-10-30T17:51:16.848000"
         ],
         "xaxis": "x",
         "y": [
          0.9690510295451034,
          0.9689088665073878,
          0.9686572891296596,
          0.9689725102114568,
          0.9689619041596962,
          0.9690786767455462,
          0.9687245154996407,
          0.9688847678048902,
          0.9692270388235971,
          0.9690017342355207,
          0.9690017342355207
         ],
         "yaxis": "y"
        },
        {
         "customdata": [
          [
           "Estimated <b>ROC AUC</b>",
           "<b style=\"color:#00c8e5;line-height:60px\">Reference</b>",
           "",
           "[0:4999]",
           "From <b>Jan-01-2018</b> to <b>Jan-31-2018</b>",
           0.9691,
           0.0054
          ],
          [
           "Estimated <b>ROC AUC</b>",
           "<b style=\"color:#00c8e5;line-height:60px\">Reference</b>",
           "",
           "[5000:9999]",
           "From <b>Jan-31-2018</b> to <b>Mar-02-2018</b>",
           0.9689,
           0.0054
          ],
          [
           "Estimated <b>ROC AUC</b>",
           "<b style=\"color:#00c8e5;line-height:60px\">Reference</b>",
           "",
           "[10000:14999]",
           "From <b>Mar-02-2018</b> to <b>Apr-01-2018</b>",
           0.9687,
           0.0054
          ],
          [
           "Estimated <b>ROC AUC</b>",
           "<b style=\"color:#00c8e5;line-height:60px\">Reference</b>",
           "",
           "[15000:19999]",
           "From <b>Apr-01-2018</b> to <b>May-02-2018</b>",
           0.969,
           0.0054
          ],
          [
           "Estimated <b>ROC AUC</b>",
           "<b style=\"color:#00c8e5;line-height:60px\">Reference</b>",
           "",
           "[20000:24999]",
           "From <b>May-02-2018</b> to <b>Jun-01-2018</b>",
           0.969,
           0.0054
          ],
          [
           "Estimated <b>ROC AUC</b>",
           "<b style=\"color:#00c8e5;line-height:60px\">Reference</b>",
           "",
           "[25000:29999]",
           "From <b>Jun-01-2018</b> to <b>Jul-01-2018</b>",
           0.9691,
           0.0054
          ],
          [
           "Estimated <b>ROC AUC</b>",
           "<b style=\"color:#00c8e5;line-height:60px\">Reference</b>",
           "",
           "[30000:34999]",
           "From <b>Jul-01-2018</b> to <b>Jul-31-2018</b>",
           0.9687,
           0.0054
          ],
          [
           "Estimated <b>ROC AUC</b>",
           "<b style=\"color:#00c8e5;line-height:60px\">Reference</b>",
           "",
           "[35000:39999]",
           "From <b>Jul-31-2018</b> to <b>Aug-31-2018</b>",
           0.9689,
           0.0054
          ],
          [
           "Estimated <b>ROC AUC</b>",
           "<b style=\"color:#00c8e5;line-height:60px\">Reference</b>",
           "",
           "[40000:44999]",
           "From <b>Aug-31-2018</b> to <b>Sep-30-2018</b>",
           0.9692,
           0.0054
          ],
          [
           "Estimated <b>ROC AUC</b>",
           "<b style=\"color:#00c8e5;line-height:60px\">Reference</b>",
           "",
           "[45000:49999]",
           "From <b>Sep-30-2018</b> to <b>Oct-30-2018</b>",
           0.969,
           0.0054
          ]
         ],
         "hovertemplate": "%{customdata[1]} &nbsp; &nbsp; %{customdata[2]} <br />Chunk: <b>%{customdata[3]}</b> &nbsp; &nbsp; %{customdata[4]} <br />%{customdata[0]}: <b>%{customdata[5]}</b><br />Confidence band: +/- <b>%{customdata[6]}</b><br /><extra></extra>",
         "legendgroup": "metric_reference",
         "marker": {
          "color": "#00c8e5",
          "size": 5,
          "symbol": "circle"
         },
         "mode": "markers",
         "name": "Metric (reference)",
         "showlegend": false,
         "type": "scatter",
         "x": [
          "2018-01-16T03:18:00",
          "2018-02-15T09:54:00",
          "2018-03-17T16:30:00",
          "2018-04-16T23:06:00",
          "2018-05-17T05:42:00",
          "2018-06-16T12:18:00",
          "2018-07-16T18:54:00",
          "2018-08-16T01:30:00",
          "2018-09-15T08:06:00",
          "2018-10-15T14:37:38.424000"
         ],
         "xaxis": "x",
         "y": [
          0.9690510295451034,
          0.9689088665073878,
          0.9686572891296596,
          0.9689725102114568,
          0.9689619041596962,
          0.9690786767455462,
          0.9687245154996407,
          0.9688847678048902,
          0.9692270388235971,
          0.9690017342355207,
          0.9690017342355207
         ],
         "yaxis": "y"
        },
        {
         "hoverinfo": "skip",
         "legendgroup": "metric_analysis",
         "line": {
          "color": "#3b0280",
          "shape": "hv",
          "width": 2
         },
         "mode": "lines",
         "name": "Metric (analysis)",
         "showlegend": true,
         "type": "scatter",
         "x": [
          "2018-10-30T18:00:00",
          "2018-11-30T00:36:00",
          "2018-12-30T07:12:00",
          "2019-01-29T13:48:00",
          "2019-02-28T20:24:00",
          "2019-03-31T03:00:00",
          "2019-04-30T09:36:00",
          "2019-05-30T16:12:00",
          "2019-06-29T22:48:00",
          "2019-07-30T05:24:00",
          "2019-08-29T11:51:16.848000"
         ],
         "xaxis": "x",
         "y": [
          0.9686306166809373,
          0.9690438435474089,
          0.9694438261961335,
          0.9690472634498744,
          0.9688726952274674,
          0.960478016244988,
          0.9611336210051199,
          0.9605358219511105,
          0.9618691204348024,
          0.9605366452565602,
          0.9605366452565602
         ],
         "yaxis": "y"
        },
        {
         "customdata": [
          [
           "Estimated <b>ROC AUC</b>",
           "<b style=\"color:#3b0280;line-height:60px\">Analysis</b>",
           "",
           "[0:4999]",
           "From <b>Oct-30-2018</b> to <b>Nov-30-2018</b>",
           0.9686,
           0.0054
          ],
          [
           "Estimated <b>ROC AUC</b>",
           "<b style=\"color:#3b0280;line-height:60px\">Analysis</b>",
           "",
           "[5000:9999]",
           "From <b>Nov-30-2018</b> to <b>Dec-30-2018</b>",
           0.969,
           0.0054
          ],
          [
           "Estimated <b>ROC AUC</b>",
           "<b style=\"color:#3b0280;line-height:60px\">Analysis</b>",
           "",
           "[10000:14999]",
           "From <b>Dec-30-2018</b> to <b>Jan-29-2019</b>",
           0.9694,
           0.0054
          ],
          [
           "Estimated <b>ROC AUC</b>",
           "<b style=\"color:#3b0280;line-height:60px\">Analysis</b>",
           "",
           "[15000:19999]",
           "From <b>Jan-29-2019</b> to <b>Feb-28-2019</b>",
           0.969,
           0.0054
          ],
          [
           "Estimated <b>ROC AUC</b>",
           "<b style=\"color:#3b0280;line-height:60px\">Analysis</b>",
           "",
           "[20000:24999]",
           "From <b>Feb-28-2019</b> to <b>Mar-31-2019</b>",
           0.9689,
           0.0054
          ],
          [
           "Estimated <b>ROC AUC</b>",
           "<b style=\"color:#3b0280;line-height:60px\">Analysis</b>",
           "<span style=\"color:#AD0000\">⚠ <b>Drift detected</b></span>",
           "[25000:29999]",
           "From <b>Mar-31-2019</b> to <b>Apr-30-2019</b>",
           0.9605,
           0.0054
          ],
          [
           "Estimated <b>ROC AUC</b>",
           "<b style=\"color:#3b0280;line-height:60px\">Analysis</b>",
           "<span style=\"color:#AD0000\">⚠ <b>Drift detected</b></span>",
           "[30000:34999]",
           "From <b>Apr-30-2019</b> to <b>May-30-2019</b>",
           0.9611,
           0.0054
          ],
          [
           "Estimated <b>ROC AUC</b>",
           "<b style=\"color:#3b0280;line-height:60px\">Analysis</b>",
           "<span style=\"color:#AD0000\">⚠ <b>Drift detected</b></span>",
           "[35000:39999]",
           "From <b>May-30-2019</b> to <b>Jun-29-2019</b>",
           0.9605,
           0.0054
          ],
          [
           "Estimated <b>ROC AUC</b>",
           "<b style=\"color:#3b0280;line-height:60px\">Analysis</b>",
           "<span style=\"color:#AD0000\">⚠ <b>Drift detected</b></span>",
           "[40000:44999]",
           "From <b>Jun-29-2019</b> to <b>Jul-30-2019</b>",
           0.9619,
           0.0054
          ],
          [
           "Estimated <b>ROC AUC</b>",
           "<b style=\"color:#3b0280;line-height:60px\">Analysis</b>",
           "<span style=\"color:#AD0000\">⚠ <b>Drift detected</b></span>",
           "[45000:49999]",
           "From <b>Jul-30-2019</b> to <b>Aug-29-2019</b>",
           0.9605,
           0.0054
          ]
         ],
         "hovertemplate": "%{customdata[1]} &nbsp; &nbsp; %{customdata[2]} <br />Chunk: <b>%{customdata[3]}</b> &nbsp; &nbsp; %{customdata[4]} <br />%{customdata[0]}: <b>%{customdata[5]}</b><br />Confidence band: +/- <b>%{customdata[6]}</b><br /><extra></extra>",
         "legendgroup": "metric_analysis",
         "marker": {
          "color": "#3b0280",
          "size": 5,
          "symbol": "circle"
         },
         "mode": "markers",
         "name": "Metric (analysis)",
         "showlegend": false,
         "type": "scatter",
         "x": [
          "2018-11-14T21:18:00",
          "2018-12-15T03:54:00",
          "2019-01-14T10:30:00",
          "2019-02-13T17:06:00",
          "2019-03-15T23:42:00",
          "2019-04-15T06:18:00",
          "2019-05-15T12:54:00",
          "2019-06-14T19:30:00",
          "2019-07-15T02:06:00",
          "2019-08-14T08:37:38.424000"
         ],
         "xaxis": "x",
         "y": [
          0.9686306166809373,
          0.9690438435474089,
          0.9694438261961335,
          0.9690472634498744,
          0.9688726952274674,
          0.960478016244988,
          0.9611336210051199,
          0.9605358219511105,
          0.9618691204348024,
          0.9605366452565602,
          0.9605366452565602
         ],
         "yaxis": "y"
        },
        {
         "hoverinfo": "skip",
         "legendgroup": "alert",
         "marker": {
          "color": "#DD4040",
          "size": 8,
          "symbol": "diamond"
         },
         "mode": "markers",
         "name": "Alert",
         "showlegend": true,
         "type": "scatter",
         "x": [
          "2019-04-15T06:18:00",
          "2019-05-15T12:54:00",
          "2019-06-14T19:30:00",
          "2019-07-15T02:06:00",
          "2019-08-14T08:37:38.424000"
         ],
         "xaxis": "x",
         "y": [
          0.960478016244988,
          0.9611336210051199,
          0.9605358219511105,
          0.9618691204348024,
          0.9605366452565602
         ],
         "yaxis": "y"
        },
        {
         "hoverinfo": "skip",
         "legendgroup": "thresh",
         "line": {
          "color": "#DD4040",
          "dash": "dash",
          "width": 2
         },
         "mode": "lines",
         "name": "Threshold",
         "showlegend": true,
         "type": "scatter",
         "x": [
          "2018-01-01T00:00:00",
          "2018-01-31T06:36:00",
          "2018-03-02T13:12:00",
          "2018-04-01T19:48:00",
          "2018-05-02T02:24:00",
          "2018-06-01T09:00:00",
          "2018-07-01T15:36:00",
          "2018-07-31T22:12:00",
          "2018-08-31T04:48:00",
          "2018-09-30T11:24:00",
          "2018-10-30T17:51:16.848000"
         ],
         "xaxis": "x",
         "y": [
          0.9786597341713761,
          0.9786597341713761,
          0.9786597341713761,
          0.9786597341713761,
          0.9786597341713761,
          0.9786597341713761,
          0.9786597341713761,
          0.9786597341713761,
          0.9786597341713761,
          0.9786597341713761,
          0.9786597341713761
         ],
         "yaxis": "y"
        },
        {
         "hoverinfo": "skip",
         "legendgroup": "thresh",
         "line": {
          "color": "#DD4040",
          "dash": "dash",
          "width": 2
         },
         "mode": "lines",
         "name": "Threshold",
         "showlegend": false,
         "type": "scatter",
         "x": [
          "2018-01-01T00:00:00",
          "2018-01-31T06:36:00",
          "2018-03-02T13:12:00",
          "2018-04-01T19:48:00",
          "2018-05-02T02:24:00",
          "2018-06-01T09:00:00",
          "2018-07-01T15:36:00",
          "2018-07-31T22:12:00",
          "2018-08-31T04:48:00",
          "2018-09-30T11:24:00",
          "2018-10-30T17:51:16.848000"
         ],
         "xaxis": "x",
         "y": [
          0.963316535948479,
          0.963316535948479,
          0.963316535948479,
          0.963316535948479,
          0.963316535948479,
          0.963316535948479,
          0.963316535948479,
          0.963316535948479,
          0.963316535948479,
          0.963316535948479,
          0.963316535948479
         ],
         "yaxis": "y"
        },
        {
         "hoverinfo": "skip",
         "legendgroup": "thresh",
         "line": {
          "color": "#DD4040",
          "dash": "dash",
          "width": 2
         },
         "mode": "lines",
         "name": "Threshold",
         "showlegend": false,
         "type": "scatter",
         "x": [
          "2018-10-30T18:00:00",
          "2018-11-30T00:36:00",
          "2018-12-30T07:12:00",
          "2019-01-29T13:48:00",
          "2019-02-28T20:24:00",
          "2019-03-31T03:00:00",
          "2019-04-30T09:36:00",
          "2019-05-30T16:12:00",
          "2019-06-29T22:48:00",
          "2019-07-30T05:24:00",
          "2019-08-29T11:51:16.848000"
         ],
         "xaxis": "x",
         "y": [
          0.9786597341713761,
          0.9786597341713761,
          0.9786597341713761,
          0.9786597341713761,
          0.9786597341713761,
          0.9786597341713761,
          0.9786597341713761,
          0.9786597341713761,
          0.9786597341713761,
          0.9786597341713761,
          0.9786597341713761
         ],
         "yaxis": "y"
        },
        {
         "hoverinfo": "skip",
         "legendgroup": "thresh",
         "line": {
          "color": "#DD4040",
          "dash": "dash",
          "width": 2
         },
         "mode": "lines",
         "name": "Threshold",
         "showlegend": false,
         "type": "scatter",
         "x": [
          "2018-10-30T18:00:00",
          "2018-11-30T00:36:00",
          "2018-12-30T07:12:00",
          "2019-01-29T13:48:00",
          "2019-02-28T20:24:00",
          "2019-03-31T03:00:00",
          "2019-04-30T09:36:00",
          "2019-05-30T16:12:00",
          "2019-06-29T22:48:00",
          "2019-07-30T05:24:00",
          "2019-08-29T11:51:16.848000"
         ],
         "xaxis": "x",
         "y": [
          0.963316535948479,
          0.963316535948479,
          0.963316535948479,
          0.963316535948479,
          0.963316535948479,
          0.963316535948479,
          0.963316535948479,
          0.963316535948479,
          0.963316535948479,
          0.963316535948479,
          0.963316535948479
         ],
         "yaxis": "y"
        },
        {
         "hoverinfo": "skip",
         "line": {
          "color": "rgba(0,0,0,0)",
          "shape": "hv"
         },
         "mode": "lines",
         "name": "Sampling error (reference)",
         "showlegend": false,
         "type": "scatter",
         "x": [
          "2018-01-01T00:00:00",
          "2018-01-31T06:36:00",
          "2018-03-02T13:12:00",
          "2018-04-01T19:48:00",
          "2018-05-02T02:24:00",
          "2018-06-01T09:00:00",
          "2018-07-01T15:36:00",
          "2018-07-31T22:12:00",
          "2018-08-31T04:48:00",
          "2018-09-30T11:24:00",
          "2018-10-30T17:51:16.848000"
         ],
         "xaxis": "x",
         "y": [
          0.9744831786128736,
          0.9743410155751581,
          0.9740894381974299,
          0.974404659279227,
          0.9743940532274664,
          0.9745108258133164,
          0.9741566645674109,
          0.9743169168726604,
          0.9746591878913673,
          0.974433883303291,
          0.974433883303291
         ],
         "yaxis": "y"
        },
        {
         "fill": "tonexty",
         "fillcolor": "rgba(0.0, 0.7843137254901961, 0.8980392156862745, 0.2)",
         "hoverinfo": "skip",
         "line": {
          "color": "rgba(0,0,0,0)",
          "shape": "hv"
         },
         "mode": "lines",
         "name": "Sampling error (reference)",
         "showlegend": true,
         "type": "scatter",
         "x": [
          "2018-01-01T00:00:00",
          "2018-01-31T06:36:00",
          "2018-03-02T13:12:00",
          "2018-04-01T19:48:00",
          "2018-05-02T02:24:00",
          "2018-06-01T09:00:00",
          "2018-07-01T15:36:00",
          "2018-07-31T22:12:00",
          "2018-08-31T04:48:00",
          "2018-09-30T11:24:00",
          "2018-10-30T17:51:16.848000"
         ],
         "xaxis": "x",
         "y": [
          0.9636188804773331,
          0.9634767174396176,
          0.9632251400618894,
          0.9635403611436866,
          0.963529755091926,
          0.9636465276777759,
          0.9632923664318704,
          0.96345261873712,
          0.9637948897558268,
          0.9635695851677505,
          0.9635695851677505
         ],
         "yaxis": "y"
        },
        {
         "hoverinfo": "skip",
         "line": {
          "color": "rgba(0,0,0,0)",
          "shape": "hv"
         },
         "mode": "lines",
         "name": "Sampling error (analysis)",
         "showlegend": false,
         "type": "scatter",
         "x": [
          "2018-10-30T18:00:00",
          "2018-11-30T00:36:00",
          "2018-12-30T07:12:00",
          "2019-01-29T13:48:00",
          "2019-02-28T20:24:00",
          "2019-03-31T03:00:00",
          "2019-04-30T09:36:00",
          "2019-05-30T16:12:00",
          "2019-06-29T22:48:00",
          "2019-07-30T05:24:00",
          "2019-08-29T11:51:16.848000"
         ],
         "xaxis": "x",
         "y": [
          0.9740627657487075,
          0.9744759926151791,
          0.9748759752639037,
          0.9744794125176446,
          0.9743048442952377,
          0.9659101653127582,
          0.9665657700728901,
          0.9659679710188808,
          0.9673012695025727,
          0.9659687943243305,
          0.9659687943243305
         ],
         "yaxis": "y"
        },
        {
         "fill": "tonexty",
         "fillcolor": "rgba(0.23137254901960785, 0.00784313725490196, 0.5019607843137255, 0.2)",
         "hoverinfo": "skip",
         "line": {
          "color": "rgba(0,0,0,0)",
          "shape": "hv"
         },
         "mode": "lines",
         "name": "Sampling error (analysis)",
         "showlegend": true,
         "type": "scatter",
         "x": [
          "2018-10-30T18:00:00",
          "2018-11-30T00:36:00",
          "2018-12-30T07:12:00",
          "2019-01-29T13:48:00",
          "2019-02-28T20:24:00",
          "2019-03-31T03:00:00",
          "2019-04-30T09:36:00",
          "2019-05-30T16:12:00",
          "2019-06-29T22:48:00",
          "2019-07-30T05:24:00",
          "2019-08-29T11:51:16.848000"
         ],
         "xaxis": "x",
         "y": [
          0.9631984676131671,
          0.9636116944796387,
          0.9640116771283632,
          0.9636151143821041,
          0.9634405461596972,
          0.9550458671772177,
          0.9557014719373497,
          0.9551036728833403,
          0.9564369713670322,
          0.95510449618879,
          0.95510449618879
         ],
         "yaxis": "y"
        },
        {
         "hoverinfo": "skip",
         "legendgroup": "metric_reference",
         "line": {
          "color": "#00c8e5",
          "shape": "hv",
          "width": 2
         },
         "mode": "lines",
         "name": "Metric (reference)",
         "showlegend": false,
         "type": "scatter",
         "x": [
          "2018-01-01T00:00:00",
          "2018-01-31T06:36:00",
          "2018-03-02T13:12:00",
          "2018-04-01T19:48:00",
          "2018-05-02T02:24:00",
          "2018-06-01T09:00:00",
          "2018-07-01T15:36:00",
          "2018-07-31T22:12:00",
          "2018-08-31T04:48:00",
          "2018-09-30T11:24:00",
          "2018-10-30T17:51:16.848000"
         ],
         "xaxis": "x2",
         "y": [
          9163.691669936114,
          9137.09478175018,
          9399.257245174673,
          9245.208164812602,
          9368.610394112347,
          9194.538002910165,
          9305.081905663668,
          9391.4185107037,
          9313.637850002411,
          9335.236755833019,
          9335.236755833019
         ],
         "yaxis": "y2"
        },
        {
         "customdata": [
          [
           "Estimated <b>True Positive Cost</b>",
           "<b style=\"color:#00c8e5;line-height:60px\">Reference</b>",
           "",
           "[0:4999]",
           "From <b>Jan-01-2018</b> to <b>Jan-31-2018</b>",
           9163.6917,
           423.1715
          ],
          [
           "Estimated <b>True Positive Cost</b>",
           "<b style=\"color:#00c8e5;line-height:60px\">Reference</b>",
           "",
           "[5000:9999]",
           "From <b>Jan-31-2018</b> to <b>Mar-02-2018</b>",
           9137.0948,
           423.1715
          ],
          [
           "Estimated <b>True Positive Cost</b>",
           "<b style=\"color:#00c8e5;line-height:60px\">Reference</b>",
           "",
           "[10000:14999]",
           "From <b>Mar-02-2018</b> to <b>Apr-01-2018</b>",
           9399.2572,
           423.1715
          ],
          [
           "Estimated <b>True Positive Cost</b>",
           "<b style=\"color:#00c8e5;line-height:60px\">Reference</b>",
           "",
           "[15000:19999]",
           "From <b>Apr-01-2018</b> to <b>May-02-2018</b>",
           9245.2082,
           423.1715
          ],
          [
           "Estimated <b>True Positive Cost</b>",
           "<b style=\"color:#00c8e5;line-height:60px\">Reference</b>",
           "",
           "[20000:24999]",
           "From <b>May-02-2018</b> to <b>Jun-01-2018</b>",
           9368.6104,
           423.1715
          ],
          [
           "Estimated <b>True Positive Cost</b>",
           "<b style=\"color:#00c8e5;line-height:60px\">Reference</b>",
           "",
           "[25000:29999]",
           "From <b>Jun-01-2018</b> to <b>Jul-01-2018</b>",
           9194.538,
           423.1715
          ],
          [
           "Estimated <b>True Positive Cost</b>",
           "<b style=\"color:#00c8e5;line-height:60px\">Reference</b>",
           "",
           "[30000:34999]",
           "From <b>Jul-01-2018</b> to <b>Jul-31-2018</b>",
           9305.0819,
           423.1715
          ],
          [
           "Estimated <b>True Positive Cost</b>",
           "<b style=\"color:#00c8e5;line-height:60px\">Reference</b>",
           "",
           "[35000:39999]",
           "From <b>Jul-31-2018</b> to <b>Aug-31-2018</b>",
           9391.4185,
           423.1715
          ],
          [
           "Estimated <b>True Positive Cost</b>",
           "<b style=\"color:#00c8e5;line-height:60px\">Reference</b>",
           "",
           "[40000:44999]",
           "From <b>Aug-31-2018</b> to <b>Sep-30-2018</b>",
           9313.6379,
           423.1715
          ],
          [
           "Estimated <b>True Positive Cost</b>",
           "<b style=\"color:#00c8e5;line-height:60px\">Reference</b>",
           "",
           "[45000:49999]",
           "From <b>Sep-30-2018</b> to <b>Oct-30-2018</b>",
           9335.2368,
           423.1715
          ]
         ],
         "hovertemplate": "%{customdata[1]} &nbsp; &nbsp; %{customdata[2]} <br />Chunk: <b>%{customdata[3]}</b> &nbsp; &nbsp; %{customdata[4]} <br />%{customdata[0]}: <b>%{customdata[5]}</b><br />Confidence band: +/- <b>%{customdata[6]}</b><br /><extra></extra>",
         "legendgroup": "metric_reference",
         "marker": {
          "color": "#00c8e5",
          "size": 5,
          "symbol": "circle"
         },
         "mode": "markers",
         "name": "Metric (reference)",
         "showlegend": false,
         "type": "scatter",
         "x": [
          "2018-01-16T03:18:00",
          "2018-02-15T09:54:00",
          "2018-03-17T16:30:00",
          "2018-04-16T23:06:00",
          "2018-05-17T05:42:00",
          "2018-06-16T12:18:00",
          "2018-07-16T18:54:00",
          "2018-08-16T01:30:00",
          "2018-09-15T08:06:00",
          "2018-10-15T14:37:38.424000"
         ],
         "xaxis": "x2",
         "y": [
          9163.691669936114,
          9137.09478175018,
          9399.257245174673,
          9245.208164812602,
          9368.610394112347,
          9194.538002910165,
          9305.081905663668,
          9391.4185107037,
          9313.637850002411,
          9335.236755833019,
          9335.236755833019
         ],
         "yaxis": "y2"
        },
        {
         "hoverinfo": "skip",
         "legendgroup": "metric_analysis",
         "line": {
          "color": "#3b0280",
          "shape": "hv",
          "width": 2
         },
         "mode": "lines",
         "name": "Metric (analysis)",
         "showlegend": false,
         "type": "scatter",
         "x": [
          "2018-10-30T18:00:00",
          "2018-11-30T00:36:00",
          "2018-12-30T07:12:00",
          "2019-01-29T13:48:00",
          "2019-02-28T20:24:00",
          "2019-03-31T03:00:00",
          "2019-04-30T09:36:00",
          "2019-05-30T16:12:00",
          "2019-06-29T22:48:00",
          "2019-07-30T05:24:00",
          "2019-08-29T11:51:16.848000"
         ],
         "xaxis": "x2",
         "y": [
          9635.32679757241,
          9092.914081749685,
          9115.11642338079,
          9156.561552488805,
          9367.44085816243,
          9224.911934572312,
          9181.330229197916,
          9164.915714073657,
          9071.223959131683,
          9471.56174222691,
          9471.56174222691
         ],
         "yaxis": "y2"
        },
        {
         "customdata": [
          [
           "Estimated <b>True Positive Cost</b>",
           "<b style=\"color:#3b0280;line-height:60px\">Analysis</b>",
           "<span style=\"color:#AD0000\">⚠ <b>Drift detected</b></span>",
           "[0:4999]",
           "From <b>Oct-30-2018</b> to <b>Nov-30-2018</b>",
           9635.3268,
           423.1715
          ],
          [
           "Estimated <b>True Positive Cost</b>",
           "<b style=\"color:#3b0280;line-height:60px\">Analysis</b>",
           "",
           "[5000:9999]",
           "From <b>Nov-30-2018</b> to <b>Dec-30-2018</b>",
           9092.9141,
           423.1715
          ],
          [
           "Estimated <b>True Positive Cost</b>",
           "<b style=\"color:#3b0280;line-height:60px\">Analysis</b>",
           "",
           "[10000:14999]",
           "From <b>Dec-30-2018</b> to <b>Jan-29-2019</b>",
           9115.1164,
           423.1715
          ],
          [
           "Estimated <b>True Positive Cost</b>",
           "<b style=\"color:#3b0280;line-height:60px\">Analysis</b>",
           "",
           "[15000:19999]",
           "From <b>Jan-29-2019</b> to <b>Feb-28-2019</b>",
           9156.5616,
           423.1715
          ],
          [
           "Estimated <b>True Positive Cost</b>",
           "<b style=\"color:#3b0280;line-height:60px\">Analysis</b>",
           "",
           "[20000:24999]",
           "From <b>Feb-28-2019</b> to <b>Mar-31-2019</b>",
           9367.4409,
           423.1715
          ],
          [
           "Estimated <b>True Positive Cost</b>",
           "<b style=\"color:#3b0280;line-height:60px\">Analysis</b>",
           "",
           "[25000:29999]",
           "From <b>Mar-31-2019</b> to <b>Apr-30-2019</b>",
           9224.9119,
           423.1715
          ],
          [
           "Estimated <b>True Positive Cost</b>",
           "<b style=\"color:#3b0280;line-height:60px\">Analysis</b>",
           "",
           "[30000:34999]",
           "From <b>Apr-30-2019</b> to <b>May-30-2019</b>",
           9181.3302,
           423.1715
          ],
          [
           "Estimated <b>True Positive Cost</b>",
           "<b style=\"color:#3b0280;line-height:60px\">Analysis</b>",
           "",
           "[35000:39999]",
           "From <b>May-30-2019</b> to <b>Jun-29-2019</b>",
           9164.9157,
           423.1715
          ],
          [
           "Estimated <b>True Positive Cost</b>",
           "<b style=\"color:#3b0280;line-height:60px\">Analysis</b>",
           "",
           "[40000:44999]",
           "From <b>Jun-29-2019</b> to <b>Jul-30-2019</b>",
           9071.224,
           423.1715
          ],
          [
           "Estimated <b>True Positive Cost</b>",
           "<b style=\"color:#3b0280;line-height:60px\">Analysis</b>",
           "",
           "[45000:49999]",
           "From <b>Jul-30-2019</b> to <b>Aug-29-2019</b>",
           9471.5617,
           423.1715
          ]
         ],
         "hovertemplate": "%{customdata[1]} &nbsp; &nbsp; %{customdata[2]} <br />Chunk: <b>%{customdata[3]}</b> &nbsp; &nbsp; %{customdata[4]} <br />%{customdata[0]}: <b>%{customdata[5]}</b><br />Confidence band: +/- <b>%{customdata[6]}</b><br /><extra></extra>",
         "legendgroup": "metric_analysis",
         "marker": {
          "color": "#3b0280",
          "size": 5,
          "symbol": "circle"
         },
         "mode": "markers",
         "name": "Metric (analysis)",
         "showlegend": false,
         "type": "scatter",
         "x": [
          "2018-11-14T21:18:00",
          "2018-12-15T03:54:00",
          "2019-01-14T10:30:00",
          "2019-02-13T17:06:00",
          "2019-03-15T23:42:00",
          "2019-04-15T06:18:00",
          "2019-05-15T12:54:00",
          "2019-06-14T19:30:00",
          "2019-07-15T02:06:00",
          "2019-08-14T08:37:38.424000"
         ],
         "xaxis": "x2",
         "y": [
          9635.32679757241,
          9092.914081749685,
          9115.11642338079,
          9156.561552488805,
          9367.44085816243,
          9224.911934572312,
          9181.330229197916,
          9164.915714073657,
          9071.223959131683,
          9471.56174222691,
          9471.56174222691
         ],
         "yaxis": "y2"
        },
        {
         "hoverinfo": "skip",
         "legendgroup": "alert",
         "marker": {
          "color": "#DD4040",
          "size": 8,
          "symbol": "diamond"
         },
         "mode": "markers",
         "name": "Alert",
         "showlegend": false,
         "type": "scatter",
         "x": [
          "2018-11-14T21:18:00"
         ],
         "xaxis": "x2",
         "y": [
          9635.32679757241
         ],
         "yaxis": "y2"
        },
        {
         "hoverinfo": "skip",
         "legendgroup": "thresh",
         "line": {
          "color": "#DD4040",
          "dash": "dash",
          "width": 2
         },
         "mode": "lines",
         "name": "Threshold",
         "showlegend": false,
         "type": "scatter",
         "x": [
          "2018-01-01T00:00:00",
          "2018-01-31T06:36:00",
          "2018-03-02T13:12:00",
          "2018-04-01T19:48:00",
          "2018-05-02T02:24:00",
          "2018-06-01T09:00:00",
          "2018-07-01T15:36:00",
          "2018-07-31T22:12:00",
          "2018-08-31T04:48:00",
          "2018-09-30T11:24:00",
          "2018-10-30T17:51:16.848000"
         ],
         "xaxis": "x2",
         "y": [
          9577.572861708808,
          9577.572861708808,
          9577.572861708808,
          9577.572861708808,
          9577.572861708808,
          9577.572861708808,
          9577.572861708808,
          9577.572861708808,
          9577.572861708808,
          9577.572861708808,
          9577.572861708808
         ],
         "yaxis": "y2"
        },
        {
         "hoverinfo": "skip",
         "legendgroup": "thresh",
         "line": {
          "color": "#DD4040",
          "dash": "dash",
          "width": 2
         },
         "mode": "lines",
         "name": "Threshold",
         "showlegend": false,
         "type": "scatter",
         "x": [
          "2018-01-01T00:00:00",
          "2018-01-31T06:36:00",
          "2018-03-02T13:12:00",
          "2018-04-01T19:48:00",
          "2018-05-02T02:24:00",
          "2018-06-01T09:00:00",
          "2018-07-01T15:36:00",
          "2018-07-31T22:12:00",
          "2018-08-31T04:48:00",
          "2018-09-30T11:24:00",
          "2018-10-30T17:51:16.848000"
         ],
         "xaxis": "x2",
         "y": [
          8988.02713829119,
          8988.02713829119,
          8988.02713829119,
          8988.02713829119,
          8988.02713829119,
          8988.02713829119,
          8988.02713829119,
          8988.02713829119,
          8988.02713829119,
          8988.02713829119,
          8988.02713829119
         ],
         "yaxis": "y2"
        },
        {
         "hoverinfo": "skip",
         "legendgroup": "thresh",
         "line": {
          "color": "#DD4040",
          "dash": "dash",
          "width": 2
         },
         "mode": "lines",
         "name": "Threshold",
         "showlegend": false,
         "type": "scatter",
         "x": [
          "2018-10-30T18:00:00",
          "2018-11-30T00:36:00",
          "2018-12-30T07:12:00",
          "2019-01-29T13:48:00",
          "2019-02-28T20:24:00",
          "2019-03-31T03:00:00",
          "2019-04-30T09:36:00",
          "2019-05-30T16:12:00",
          "2019-06-29T22:48:00",
          "2019-07-30T05:24:00",
          "2019-08-29T11:51:16.848000"
         ],
         "xaxis": "x2",
         "y": [
          9577.572861708808,
          9577.572861708808,
          9577.572861708808,
          9577.572861708808,
          9577.572861708808,
          9577.572861708808,
          9577.572861708808,
          9577.572861708808,
          9577.572861708808,
          9577.572861708808,
          9577.572861708808
         ],
         "yaxis": "y2"
        },
        {
         "hoverinfo": "skip",
         "legendgroup": "thresh",
         "line": {
          "color": "#DD4040",
          "dash": "dash",
          "width": 2
         },
         "mode": "lines",
         "name": "Threshold",
         "showlegend": false,
         "type": "scatter",
         "x": [
          "2018-10-30T18:00:00",
          "2018-11-30T00:36:00",
          "2018-12-30T07:12:00",
          "2019-01-29T13:48:00",
          "2019-02-28T20:24:00",
          "2019-03-31T03:00:00",
          "2019-04-30T09:36:00",
          "2019-05-30T16:12:00",
          "2019-06-29T22:48:00",
          "2019-07-30T05:24:00",
          "2019-08-29T11:51:16.848000"
         ],
         "xaxis": "x2",
         "y": [
          8988.02713829119,
          8988.02713829119,
          8988.02713829119,
          8988.02713829119,
          8988.02713829119,
          8988.02713829119,
          8988.02713829119,
          8988.02713829119,
          8988.02713829119,
          8988.02713829119,
          8988.02713829119
         ],
         "yaxis": "y2"
        },
        {
         "hoverinfo": "skip",
         "line": {
          "color": "rgba(0,0,0,0)",
          "shape": "hv"
         },
         "mode": "lines",
         "name": "Sampling error (reference)",
         "showlegend": false,
         "type": "scatter",
         "x": [
          "2018-01-01T00:00:00",
          "2018-01-31T06:36:00",
          "2018-03-02T13:12:00",
          "2018-04-01T19:48:00",
          "2018-05-02T02:24:00",
          "2018-06-01T09:00:00",
          "2018-07-01T15:36:00",
          "2018-07-31T22:12:00",
          "2018-08-31T04:48:00",
          "2018-09-30T11:24:00",
          "2018-10-30T17:51:16.848000"
         ],
         "xaxis": "x2",
         "y": [
          9586.863175933388,
          9560.266287747454,
          9822.428751171945,
          9668.379670809874,
          9791.781900109621,
          9617.70950890744,
          9728.253411660942,
          9814.590016700971,
          9736.809355999685,
          9758.408261830293,
          9758.408261830293
         ],
         "yaxis": "y2"
        },
        {
         "fill": "tonexty",
         "fillcolor": "rgba(0.0, 0.7843137254901961, 0.8980392156862745, 0.2)",
         "hoverinfo": "skip",
         "line": {
          "color": "rgba(0,0,0,0)",
          "shape": "hv"
         },
         "mode": "lines",
         "name": "Sampling error (reference)",
         "showlegend": false,
         "type": "scatter",
         "x": [
          "2018-01-01T00:00:00",
          "2018-01-31T06:36:00",
          "2018-03-02T13:12:00",
          "2018-04-01T19:48:00",
          "2018-05-02T02:24:00",
          "2018-06-01T09:00:00",
          "2018-07-01T15:36:00",
          "2018-07-31T22:12:00",
          "2018-08-31T04:48:00",
          "2018-09-30T11:24:00",
          "2018-10-30T17:51:16.848000"
         ],
         "xaxis": "x2",
         "y": [
          8740.52016393884,
          8713.923275752906,
          8976.0857391774,
          8822.03665881533,
          8945.438888115073,
          8771.366496912891,
          8881.910399666394,
          8968.247004706427,
          8890.466344005137,
          8912.065249835745,
          8912.065249835745
         ],
         "yaxis": "y2"
        },
        {
         "hoverinfo": "skip",
         "line": {
          "color": "rgba(0,0,0,0)",
          "shape": "hv"
         },
         "mode": "lines",
         "name": "Sampling error (analysis)",
         "showlegend": false,
         "type": "scatter",
         "x": [
          "2018-10-30T18:00:00",
          "2018-11-30T00:36:00",
          "2018-12-30T07:12:00",
          "2019-01-29T13:48:00",
          "2019-02-28T20:24:00",
          "2019-03-31T03:00:00",
          "2019-04-30T09:36:00",
          "2019-05-30T16:12:00",
          "2019-06-29T22:48:00",
          "2019-07-30T05:24:00",
          "2019-08-29T11:51:16.848000"
         ],
         "xaxis": "x2",
         "y": [
          10058.498303569682,
          9516.085587746958,
          9538.287929378064,
          9579.73305848608,
          9790.612364159704,
          9648.083440569586,
          9604.50173519519,
          9588.087220070931,
          9494.395465128957,
          9894.733248224184,
          9894.733248224184
         ],
         "yaxis": "y2"
        },
        {
         "fill": "tonexty",
         "fillcolor": "rgba(0.23137254901960785, 0.00784313725490196, 0.5019607843137255, 0.2)",
         "hoverinfo": "skip",
         "line": {
          "color": "rgba(0,0,0,0)",
          "shape": "hv"
         },
         "mode": "lines",
         "name": "Sampling error (analysis)",
         "showlegend": false,
         "type": "scatter",
         "x": [
          "2018-10-30T18:00:00",
          "2018-11-30T00:36:00",
          "2018-12-30T07:12:00",
          "2019-01-29T13:48:00",
          "2019-02-28T20:24:00",
          "2019-03-31T03:00:00",
          "2019-04-30T09:36:00",
          "2019-05-30T16:12:00",
          "2019-06-29T22:48:00",
          "2019-07-30T05:24:00",
          "2019-08-29T11:51:16.848000"
         ],
         "xaxis": "x2",
         "y": [
          9212.155291575138,
          8669.74257575241,
          8691.944917383516,
          8733.390046491531,
          8944.269352165156,
          8801.740428575038,
          8758.158723200642,
          8741.744208076383,
          8648.052453134409,
          9048.390236229636,
          9048.390236229636
         ],
         "yaxis": "y2"
        },
        {
         "hoverinfo": "skip",
         "legendgroup": "metric_reference",
         "line": {
          "color": "#00c8e5",
          "shape": "hv",
          "width": 2
         },
         "mode": "lines",
         "name": "Metric (reference)",
         "showlegend": false,
         "type": "scatter",
         "x": [
          "2018-01-01T00:00:00",
          "2018-01-31T06:36:00",
          "2018-03-02T13:12:00",
          "2018-04-01T19:48:00",
          "2018-05-02T02:24:00",
          "2018-06-01T09:00:00",
          "2018-07-01T15:36:00",
          "2018-07-31T22:12:00",
          "2018-08-31T04:48:00",
          "2018-09-30T11:24:00",
          "2018-10-30T17:51:16.848000"
         ],
         "xaxis": "x3",
         "y": [
          9727.668752278703,
          9713.55558267449,
          9468.920542932214,
          9635.080673088318,
          9502.56905848577,
          9687.770234262971,
          9525.098827998414,
          9506.730935878819,
          9592.17971775004,
          9566.200955549142,
          9566.200955549142
         ],
         "yaxis": "y3"
        },
        {
         "customdata": [
          [
           "Estimated <b>True Negative Cost</b>",
           "<b style=\"color:#00c8e5;line-height:60px\">Reference</b>",
           "",
           "[0:4999]",
           "From <b>Jan-01-2018</b> to <b>Jan-31-2018</b>",
           9727.6688,
           423.9073
          ],
          [
           "Estimated <b>True Negative Cost</b>",
           "<b style=\"color:#00c8e5;line-height:60px\">Reference</b>",
           "",
           "[5000:9999]",
           "From <b>Jan-31-2018</b> to <b>Mar-02-2018</b>",
           9713.5556,
           423.9073
          ],
          [
           "Estimated <b>True Negative Cost</b>",
           "<b style=\"color:#00c8e5;line-height:60px\">Reference</b>",
           "",
           "[10000:14999]",
           "From <b>Mar-02-2018</b> to <b>Apr-01-2018</b>",
           9468.9205,
           423.9073
          ],
          [
           "Estimated <b>True Negative Cost</b>",
           "<b style=\"color:#00c8e5;line-height:60px\">Reference</b>",
           "",
           "[15000:19999]",
           "From <b>Apr-01-2018</b> to <b>May-02-2018</b>",
           9635.0807,
           423.9073
          ],
          [
           "Estimated <b>True Negative Cost</b>",
           "<b style=\"color:#00c8e5;line-height:60px\">Reference</b>",
           "",
           "[20000:24999]",
           "From <b>May-02-2018</b> to <b>Jun-01-2018</b>",
           9502.5691,
           423.9073
          ],
          [
           "Estimated <b>True Negative Cost</b>",
           "<b style=\"color:#00c8e5;line-height:60px\">Reference</b>",
           "",
           "[25000:29999]",
           "From <b>Jun-01-2018</b> to <b>Jul-01-2018</b>",
           9687.7702,
           423.9073
          ],
          [
           "Estimated <b>True Negative Cost</b>",
           "<b style=\"color:#00c8e5;line-height:60px\">Reference</b>",
           "",
           "[30000:34999]",
           "From <b>Jul-01-2018</b> to <b>Jul-31-2018</b>",
           9525.0988,
           423.9073
          ],
          [
           "Estimated <b>True Negative Cost</b>",
           "<b style=\"color:#00c8e5;line-height:60px\">Reference</b>",
           "",
           "[35000:39999]",
           "From <b>Jul-31-2018</b> to <b>Aug-31-2018</b>",
           9506.7309,
           423.9073
          ],
          [
           "Estimated <b>True Negative Cost</b>",
           "<b style=\"color:#00c8e5;line-height:60px\">Reference</b>",
           "",
           "[40000:44999]",
           "From <b>Aug-31-2018</b> to <b>Sep-30-2018</b>",
           9592.1797,
           423.9073
          ],
          [
           "Estimated <b>True Negative Cost</b>",
           "<b style=\"color:#00c8e5;line-height:60px\">Reference</b>",
           "",
           "[45000:49999]",
           "From <b>Sep-30-2018</b> to <b>Oct-30-2018</b>",
           9566.201,
           423.9073
          ]
         ],
         "hovertemplate": "%{customdata[1]} &nbsp; &nbsp; %{customdata[2]} <br />Chunk: <b>%{customdata[3]}</b> &nbsp; &nbsp; %{customdata[4]} <br />%{customdata[0]}: <b>%{customdata[5]}</b><br />Confidence band: +/- <b>%{customdata[6]}</b><br /><extra></extra>",
         "legendgroup": "metric_reference",
         "marker": {
          "color": "#00c8e5",
          "size": 5,
          "symbol": "circle"
         },
         "mode": "markers",
         "name": "Metric (reference)",
         "showlegend": false,
         "type": "scatter",
         "x": [
          "2018-01-16T03:18:00",
          "2018-02-15T09:54:00",
          "2018-03-17T16:30:00",
          "2018-04-16T23:06:00",
          "2018-05-17T05:42:00",
          "2018-06-16T12:18:00",
          "2018-07-16T18:54:00",
          "2018-08-16T01:30:00",
          "2018-09-15T08:06:00",
          "2018-10-15T14:37:38.424000"
         ],
         "xaxis": "x3",
         "y": [
          9727.668752278703,
          9713.55558267449,
          9468.920542932214,
          9635.080673088318,
          9502.56905848577,
          9687.770234262971,
          9525.098827998414,
          9506.730935878819,
          9592.17971775004,
          9566.200955549142,
          9566.200955549142
         ],
         "yaxis": "y3"
        },
        {
         "hoverinfo": "skip",
         "legendgroup": "metric_analysis",
         "line": {
          "color": "#3b0280",
          "shape": "hv",
          "width": 2
         },
         "mode": "lines",
         "name": "Metric (analysis)",
         "showlegend": false,
         "type": "scatter",
         "x": [
          "2018-10-30T18:00:00",
          "2018-11-30T00:36:00",
          "2018-12-30T07:12:00",
          "2019-01-29T13:48:00",
          "2019-02-28T20:24:00",
          "2019-03-31T03:00:00",
          "2019-04-30T09:36:00",
          "2019-05-30T16:12:00",
          "2019-06-29T22:48:00",
          "2019-07-30T05:24:00",
          "2019-08-29T11:51:16.848000"
         ],
         "xaxis": "x3",
         "y": [
          9200.510833791313,
          9773.510044778659,
          9794.71485866063,
          9739.758628666063,
          9525.459068353739,
          8989.371188030818,
          9041.659073072908,
          9058.93886607069,
          9216.563279917538,
          8763.064635974359,
          8763.064635974359
         ],
         "yaxis": "y3"
        },
        {
         "customdata": [
          [
           "Estimated <b>True Negative Cost</b>",
           "<b style=\"color:#3b0280;line-height:60px\">Analysis</b>",
           "<span style=\"color:#AD0000\">⚠ <b>Drift detected</b></span>",
           "[0:4999]",
           "From <b>Oct-30-2018</b> to <b>Nov-30-2018</b>",
           9200.5108,
           423.9073
          ],
          [
           "Estimated <b>True Negative Cost</b>",
           "<b style=\"color:#3b0280;line-height:60px\">Analysis</b>",
           "",
           "[5000:9999]",
           "From <b>Nov-30-2018</b> to <b>Dec-30-2018</b>",
           9773.51,
           423.9073
          ],
          [
           "Estimated <b>True Negative Cost</b>",
           "<b style=\"color:#3b0280;line-height:60px\">Analysis</b>",
           "",
           "[10000:14999]",
           "From <b>Dec-30-2018</b> to <b>Jan-29-2019</b>",
           9794.7149,
           423.9073
          ],
          [
           "Estimated <b>True Negative Cost</b>",
           "<b style=\"color:#3b0280;line-height:60px\">Analysis</b>",
           "",
           "[15000:19999]",
           "From <b>Jan-29-2019</b> to <b>Feb-28-2019</b>",
           9739.7586,
           423.9073
          ],
          [
           "Estimated <b>True Negative Cost</b>",
           "<b style=\"color:#3b0280;line-height:60px\">Analysis</b>",
           "",
           "[20000:24999]",
           "From <b>Feb-28-2019</b> to <b>Mar-31-2019</b>",
           9525.4591,
           423.9073
          ],
          [
           "Estimated <b>True Negative Cost</b>",
           "<b style=\"color:#3b0280;line-height:60px\">Analysis</b>",
           "<span style=\"color:#AD0000\">⚠ <b>Drift detected</b></span>",
           "[25000:29999]",
           "From <b>Mar-31-2019</b> to <b>Apr-30-2019</b>",
           8989.3712,
           423.9073
          ],
          [
           "Estimated <b>True Negative Cost</b>",
           "<b style=\"color:#3b0280;line-height:60px\">Analysis</b>",
           "<span style=\"color:#AD0000\">⚠ <b>Drift detected</b></span>",
           "[30000:34999]",
           "From <b>Apr-30-2019</b> to <b>May-30-2019</b>",
           9041.6591,
           423.9073
          ],
          [
           "Estimated <b>True Negative Cost</b>",
           "<b style=\"color:#3b0280;line-height:60px\">Analysis</b>",
           "<span style=\"color:#AD0000\">⚠ <b>Drift detected</b></span>",
           "[35000:39999]",
           "From <b>May-30-2019</b> to <b>Jun-29-2019</b>",
           9058.9389,
           423.9073
          ],
          [
           "Estimated <b>True Negative Cost</b>",
           "<b style=\"color:#3b0280;line-height:60px\">Analysis</b>",
           "<span style=\"color:#AD0000\">⚠ <b>Drift detected</b></span>",
           "[40000:44999]",
           "From <b>Jun-29-2019</b> to <b>Jul-30-2019</b>",
           9216.5633,
           423.9073
          ],
          [
           "Estimated <b>True Negative Cost</b>",
           "<b style=\"color:#3b0280;line-height:60px\">Analysis</b>",
           "<span style=\"color:#AD0000\">⚠ <b>Drift detected</b></span>",
           "[45000:49999]",
           "From <b>Jul-30-2019</b> to <b>Aug-29-2019</b>",
           8763.0646,
           423.9073
          ]
         ],
         "hovertemplate": "%{customdata[1]} &nbsp; &nbsp; %{customdata[2]} <br />Chunk: <b>%{customdata[3]}</b> &nbsp; &nbsp; %{customdata[4]} <br />%{customdata[0]}: <b>%{customdata[5]}</b><br />Confidence band: +/- <b>%{customdata[6]}</b><br /><extra></extra>",
         "legendgroup": "metric_analysis",
         "marker": {
          "color": "#3b0280",
          "size": 5,
          "symbol": "circle"
         },
         "mode": "markers",
         "name": "Metric (analysis)",
         "showlegend": false,
         "type": "scatter",
         "x": [
          "2018-11-14T21:18:00",
          "2018-12-15T03:54:00",
          "2019-01-14T10:30:00",
          "2019-02-13T17:06:00",
          "2019-03-15T23:42:00",
          "2019-04-15T06:18:00",
          "2019-05-15T12:54:00",
          "2019-06-14T19:30:00",
          "2019-07-15T02:06:00",
          "2019-08-14T08:37:38.424000"
         ],
         "xaxis": "x3",
         "y": [
          9200.510833791313,
          9773.510044778659,
          9794.71485866063,
          9739.758628666063,
          9525.459068353739,
          8989.371188030818,
          9041.659073072908,
          9058.93886607069,
          9216.563279917538,
          8763.064635974359,
          8763.064635974359
         ],
         "yaxis": "y3"
        },
        {
         "hoverinfo": "skip",
         "legendgroup": "alert",
         "marker": {
          "color": "#DD4040",
          "size": 8,
          "symbol": "diamond"
         },
         "mode": "markers",
         "name": "Alert",
         "showlegend": false,
         "type": "scatter",
         "x": [
          "2018-11-14T21:18:00",
          "2019-04-15T06:18:00",
          "2019-05-15T12:54:00",
          "2019-06-14T19:30:00",
          "2019-07-15T02:06:00",
          "2019-08-14T08:37:38.424000"
         ],
         "xaxis": "x3",
         "y": [
          9200.510833791313,
          8989.371188030818,
          9041.659073072908,
          9058.93886607069,
          9216.563279917538,
          8763.064635974359
         ],
         "yaxis": "y3"
        },
        {
         "hoverinfo": "skip",
         "legendgroup": "thresh",
         "line": {
          "color": "#DD4040",
          "dash": "dash",
          "width": 2
         },
         "mode": "lines",
         "name": "Threshold",
         "showlegend": false,
         "type": "scatter",
         "x": [
          "2018-01-01T00:00:00",
          "2018-01-31T06:36:00",
          "2018-03-02T13:12:00",
          "2018-04-01T19:48:00",
          "2018-05-02T02:24:00",
          "2018-06-01T09:00:00",
          "2018-07-01T15:36:00",
          "2018-07-31T22:12:00",
          "2018-08-31T04:48:00",
          "2018-09-30T11:24:00",
          "2018-10-30T17:51:16.848000"
         ],
         "xaxis": "x3",
         "y": [
          9882.379205826954,
          9882.379205826954,
          9882.379205826954,
          9882.379205826954,
          9882.379205826954,
          9882.379205826954,
          9882.379205826954,
          9882.379205826954,
          9882.379205826954,
          9882.379205826954,
          9882.379205826954
         ],
         "yaxis": "y3"
        },
        {
         "hoverinfo": "skip",
         "legendgroup": "thresh",
         "line": {
          "color": "#DD4040",
          "dash": "dash",
          "width": 2
         },
         "mode": "lines",
         "name": "Threshold",
         "showlegend": false,
         "type": "scatter",
         "x": [
          "2018-01-01T00:00:00",
          "2018-01-31T06:36:00",
          "2018-03-02T13:12:00",
          "2018-04-01T19:48:00",
          "2018-05-02T02:24:00",
          "2018-06-01T09:00:00",
          "2018-07-01T15:36:00",
          "2018-07-31T22:12:00",
          "2018-08-31T04:48:00",
          "2018-09-30T11:24:00",
          "2018-10-30T17:51:16.848000"
         ],
         "xaxis": "x3",
         "y": [
          9297.620794173046,
          9297.620794173046,
          9297.620794173046,
          9297.620794173046,
          9297.620794173046,
          9297.620794173046,
          9297.620794173046,
          9297.620794173046,
          9297.620794173046,
          9297.620794173046,
          9297.620794173046
         ],
         "yaxis": "y3"
        },
        {
         "hoverinfo": "skip",
         "legendgroup": "thresh",
         "line": {
          "color": "#DD4040",
          "dash": "dash",
          "width": 2
         },
         "mode": "lines",
         "name": "Threshold",
         "showlegend": false,
         "type": "scatter",
         "x": [
          "2018-10-30T18:00:00",
          "2018-11-30T00:36:00",
          "2018-12-30T07:12:00",
          "2019-01-29T13:48:00",
          "2019-02-28T20:24:00",
          "2019-03-31T03:00:00",
          "2019-04-30T09:36:00",
          "2019-05-30T16:12:00",
          "2019-06-29T22:48:00",
          "2019-07-30T05:24:00",
          "2019-08-29T11:51:16.848000"
         ],
         "xaxis": "x3",
         "y": [
          9882.379205826954,
          9882.379205826954,
          9882.379205826954,
          9882.379205826954,
          9882.379205826954,
          9882.379205826954,
          9882.379205826954,
          9882.379205826954,
          9882.379205826954,
          9882.379205826954,
          9882.379205826954
         ],
         "yaxis": "y3"
        },
        {
         "hoverinfo": "skip",
         "legendgroup": "thresh",
         "line": {
          "color": "#DD4040",
          "dash": "dash",
          "width": 2
         },
         "mode": "lines",
         "name": "Threshold",
         "showlegend": false,
         "type": "scatter",
         "x": [
          "2018-10-30T18:00:00",
          "2018-11-30T00:36:00",
          "2018-12-30T07:12:00",
          "2019-01-29T13:48:00",
          "2019-02-28T20:24:00",
          "2019-03-31T03:00:00",
          "2019-04-30T09:36:00",
          "2019-05-30T16:12:00",
          "2019-06-29T22:48:00",
          "2019-07-30T05:24:00",
          "2019-08-29T11:51:16.848000"
         ],
         "xaxis": "x3",
         "y": [
          9297.620794173046,
          9297.620794173046,
          9297.620794173046,
          9297.620794173046,
          9297.620794173046,
          9297.620794173046,
          9297.620794173046,
          9297.620794173046,
          9297.620794173046,
          9297.620794173046,
          9297.620794173046
         ],
         "yaxis": "y3"
        },
        {
         "hoverinfo": "skip",
         "line": {
          "color": "rgba(0,0,0,0)",
          "shape": "hv"
         },
         "mode": "lines",
         "name": "Sampling error (reference)",
         "showlegend": false,
         "type": "scatter",
         "x": [
          "2018-01-01T00:00:00",
          "2018-01-31T06:36:00",
          "2018-03-02T13:12:00",
          "2018-04-01T19:48:00",
          "2018-05-02T02:24:00",
          "2018-06-01T09:00:00",
          "2018-07-01T15:36:00",
          "2018-07-31T22:12:00",
          "2018-08-31T04:48:00",
          "2018-09-30T11:24:00",
          "2018-10-30T17:51:16.848000"
         ],
         "xaxis": "x3",
         "y": [
          10151.576077056183,
          10137.462907451969,
          9892.827867709693,
          10058.987997865797,
          9926.476383263249,
          10111.67755904045,
          9949.006152775893,
          9930.638260656298,
          10016.087042527519,
          9990.108280326622,
          9990.108280326622
         ],
         "yaxis": "y3"
        },
        {
         "fill": "tonexty",
         "fillcolor": "rgba(0.0, 0.7843137254901961, 0.8980392156862745, 0.2)",
         "hoverinfo": "skip",
         "line": {
          "color": "rgba(0,0,0,0)",
          "shape": "hv"
         },
         "mode": "lines",
         "name": "Sampling error (reference)",
         "showlegend": false,
         "type": "scatter",
         "x": [
          "2018-01-01T00:00:00",
          "2018-01-31T06:36:00",
          "2018-03-02T13:12:00",
          "2018-04-01T19:48:00",
          "2018-05-02T02:24:00",
          "2018-06-01T09:00:00",
          "2018-07-01T15:36:00",
          "2018-07-31T22:12:00",
          "2018-08-31T04:48:00",
          "2018-09-30T11:24:00",
          "2018-10-30T17:51:16.848000"
         ],
         "xaxis": "x3",
         "y": [
          9303.761427501224,
          9289.64825789701,
          9045.013218154734,
          9211.173348310838,
          9078.66173370829,
          9263.862909485491,
          9101.191503220934,
          9082.82361110134,
          9168.27239297256,
          9142.293630771663,
          9142.293630771663
         ],
         "yaxis": "y3"
        },
        {
         "hoverinfo": "skip",
         "line": {
          "color": "rgba(0,0,0,0)",
          "shape": "hv"
         },
         "mode": "lines",
         "name": "Sampling error (analysis)",
         "showlegend": false,
         "type": "scatter",
         "x": [
          "2018-10-30T18:00:00",
          "2018-11-30T00:36:00",
          "2018-12-30T07:12:00",
          "2019-01-29T13:48:00",
          "2019-02-28T20:24:00",
          "2019-03-31T03:00:00",
          "2019-04-30T09:36:00",
          "2019-05-30T16:12:00",
          "2019-06-29T22:48:00",
          "2019-07-30T05:24:00",
          "2019-08-29T11:51:16.848000"
         ],
         "xaxis": "x3",
         "y": [
          9624.418158568793,
          10197.417369556139,
          10218.62218343811,
          10163.665953443542,
          9949.366393131219,
          9413.278512808298,
          9465.566397850387,
          9482.84619084817,
          9640.470604695018,
          9186.971960751838,
          9186.971960751838
         ],
         "yaxis": "y3"
        },
        {
         "fill": "tonexty",
         "fillcolor": "rgba(0.23137254901960785, 0.00784313725490196, 0.5019607843137255, 0.2)",
         "hoverinfo": "skip",
         "line": {
          "color": "rgba(0,0,0,0)",
          "shape": "hv"
         },
         "mode": "lines",
         "name": "Sampling error (analysis)",
         "showlegend": false,
         "type": "scatter",
         "x": [
          "2018-10-30T18:00:00",
          "2018-11-30T00:36:00",
          "2018-12-30T07:12:00",
          "2019-01-29T13:48:00",
          "2019-02-28T20:24:00",
          "2019-03-31T03:00:00",
          "2019-04-30T09:36:00",
          "2019-05-30T16:12:00",
          "2019-06-29T22:48:00",
          "2019-07-30T05:24:00",
          "2019-08-29T11:51:16.848000"
         ],
         "xaxis": "x3",
         "y": [
          8776.603509013834,
          9349.60272000118,
          9370.807533883151,
          9315.851303888583,
          9101.55174357626,
          8565.463863253339,
          8617.751748295428,
          8635.03154129321,
          8792.655955140059,
          8339.15731119688,
          8339.15731119688
         ],
         "yaxis": "y3"
        },
        {
         "hoverinfo": "skip",
         "legendgroup": "metric_reference",
         "line": {
          "color": "#00c8e5",
          "shape": "hv",
          "width": 2
         },
         "mode": "lines",
         "name": "Metric (reference)",
         "showlegend": false,
         "type": "scatter",
         "x": [
          "2018-01-01T00:00:00",
          "2018-01-31T06:36:00",
          "2018-03-02T13:12:00",
          "2018-04-01T19:48:00",
          "2018-05-02T02:24:00",
          "2018-06-01T09:00:00",
          "2018-07-01T15:36:00",
          "2018-07-31T22:12:00",
          "2018-08-31T04:48:00",
          "2018-09-30T11:24:00",
          "2018-10-30T17:51:16.848000"
         ],
         "xaxis": "x4",
         "y": [
          714.5395776118023,
          726.0841319371848,
          729.2998209443222,
          725.8857115779467,
          733.9318103033889,
          730.5584949072118,
          705.1066650885816,
          736.017606268525,
          725.1337624957814,
          750.335677292217,
          750.335677292217
         ],
         "yaxis": "y4"
        },
        {
         "customdata": [
          [
           "Estimated <b>False Positive Cost</b>",
           "<b style=\"color:#00c8e5;line-height:60px\">Reference</b>",
           "",
           "[0:4999]",
           "From <b>Jan-01-2018</b> to <b>Jan-31-2018</b>",
           714.5396,
           212.5173
          ],
          [
           "Estimated <b>False Positive Cost</b>",
           "<b style=\"color:#00c8e5;line-height:60px\">Reference</b>",
           "",
           "[5000:9999]",
           "From <b>Jan-31-2018</b> to <b>Mar-02-2018</b>",
           726.0841,
           212.5173
          ],
          [
           "Estimated <b>False Positive Cost</b>",
           "<b style=\"color:#00c8e5;line-height:60px\">Reference</b>",
           "",
           "[10000:14999]",
           "From <b>Mar-02-2018</b> to <b>Apr-01-2018</b>",
           729.2998,
           212.5173
          ],
          [
           "Estimated <b>False Positive Cost</b>",
           "<b style=\"color:#00c8e5;line-height:60px\">Reference</b>",
           "",
           "[15000:19999]",
           "From <b>Apr-01-2018</b> to <b>May-02-2018</b>",
           725.8857,
           212.5173
          ],
          [
           "Estimated <b>False Positive Cost</b>",
           "<b style=\"color:#00c8e5;line-height:60px\">Reference</b>",
           "",
           "[20000:24999]",
           "From <b>May-02-2018</b> to <b>Jun-01-2018</b>",
           733.9318,
           212.5173
          ],
          [
           "Estimated <b>False Positive Cost</b>",
           "<b style=\"color:#00c8e5;line-height:60px\">Reference</b>",
           "",
           "[25000:29999]",
           "From <b>Jun-01-2018</b> to <b>Jul-01-2018</b>",
           730.5585,
           212.5173
          ],
          [
           "Estimated <b>False Positive Cost</b>",
           "<b style=\"color:#00c8e5;line-height:60px\">Reference</b>",
           "",
           "[30000:34999]",
           "From <b>Jul-01-2018</b> to <b>Jul-31-2018</b>",
           705.1067,
           212.5173
          ],
          [
           "Estimated <b>False Positive Cost</b>",
           "<b style=\"color:#00c8e5;line-height:60px\">Reference</b>",
           "",
           "[35000:39999]",
           "From <b>Jul-31-2018</b> to <b>Aug-31-2018</b>",
           736.0176,
           212.5173
          ],
          [
           "Estimated <b>False Positive Cost</b>",
           "<b style=\"color:#00c8e5;line-height:60px\">Reference</b>",
           "",
           "[40000:44999]",
           "From <b>Aug-31-2018</b> to <b>Sep-30-2018</b>",
           725.1338,
           212.5173
          ],
          [
           "Estimated <b>False Positive Cost</b>",
           "<b style=\"color:#00c8e5;line-height:60px\">Reference</b>",
           "",
           "[45000:49999]",
           "From <b>Sep-30-2018</b> to <b>Oct-30-2018</b>",
           750.3357,
           212.5173
          ]
         ],
         "hovertemplate": "%{customdata[1]} &nbsp; &nbsp; %{customdata[2]} <br />Chunk: <b>%{customdata[3]}</b> &nbsp; &nbsp; %{customdata[4]} <br />%{customdata[0]}: <b>%{customdata[5]}</b><br />Confidence band: +/- <b>%{customdata[6]}</b><br /><extra></extra>",
         "legendgroup": "metric_reference",
         "marker": {
          "color": "#00c8e5",
          "size": 5,
          "symbol": "circle"
         },
         "mode": "markers",
         "name": "Metric (reference)",
         "showlegend": false,
         "type": "scatter",
         "x": [
          "2018-01-16T03:18:00",
          "2018-02-15T09:54:00",
          "2018-03-17T16:30:00",
          "2018-04-16T23:06:00",
          "2018-05-17T05:42:00",
          "2018-06-16T12:18:00",
          "2018-07-16T18:54:00",
          "2018-08-16T01:30:00",
          "2018-09-15T08:06:00",
          "2018-10-15T14:37:38.424000"
         ],
         "xaxis": "x4",
         "y": [
          714.5395776118023,
          726.0841319371848,
          729.2998209443222,
          725.8857115779467,
          733.9318103033889,
          730.5584949072118,
          705.1066650885816,
          736.017606268525,
          725.1337624957814,
          750.335677292217,
          750.335677292217
         ],
         "yaxis": "y4"
        },
        {
         "hoverinfo": "skip",
         "legendgroup": "metric_analysis",
         "line": {
          "color": "#3b0280",
          "shape": "hv",
          "width": 2
         },
         "mode": "lines",
         "name": "Metric (analysis)",
         "showlegend": false,
         "type": "scatter",
         "x": [
          "2018-10-30T18:00:00",
          "2018-11-30T00:36:00",
          "2018-12-30T07:12:00",
          "2019-01-29T13:48:00",
          "2019-02-28T20:24:00",
          "2019-03-31T03:00:00",
          "2019-04-30T09:36:00",
          "2019-05-30T16:12:00",
          "2019-06-29T22:48:00",
          "2019-07-30T05:24:00",
          "2019-08-29T11:51:16.848000"
         ],
         "xaxis": "x4",
         "y": [
          743.1781042482813,
          698.4003569380528,
          694.5462590836149,
          720.0172831445906,
          714.9784982157463,
          1006.4041144984552,
          991.6720989036476,
          1034.397500371099,
          953.358071519554,
          1036.7669511029062,
          1036.7669511029062
         ],
         "yaxis": "y4"
        },
        {
         "customdata": [
          [
           "Estimated <b>False Positive Cost</b>",
           "<b style=\"color:#3b0280;line-height:60px\">Analysis</b>",
           "",
           "[0:4999]",
           "From <b>Oct-30-2018</b> to <b>Nov-30-2018</b>",
           743.1781,
           212.5173
          ],
          [
           "Estimated <b>False Positive Cost</b>",
           "<b style=\"color:#3b0280;line-height:60px\">Analysis</b>",
           "",
           "[5000:9999]",
           "From <b>Nov-30-2018</b> to <b>Dec-30-2018</b>",
           698.4004,
           212.5173
          ],
          [
           "Estimated <b>False Positive Cost</b>",
           "<b style=\"color:#3b0280;line-height:60px\">Analysis</b>",
           "",
           "[10000:14999]",
           "From <b>Dec-30-2018</b> to <b>Jan-29-2019</b>",
           694.5463,
           212.5173
          ],
          [
           "Estimated <b>False Positive Cost</b>",
           "<b style=\"color:#3b0280;line-height:60px\">Analysis</b>",
           "",
           "[15000:19999]",
           "From <b>Jan-29-2019</b> to <b>Feb-28-2019</b>",
           720.0173,
           212.5173
          ],
          [
           "Estimated <b>False Positive Cost</b>",
           "<b style=\"color:#3b0280;line-height:60px\">Analysis</b>",
           "",
           "[20000:24999]",
           "From <b>Feb-28-2019</b> to <b>Mar-31-2019</b>",
           714.9785,
           212.5173
          ],
          [
           "Estimated <b>False Positive Cost</b>",
           "<b style=\"color:#3b0280;line-height:60px\">Analysis</b>",
           "<span style=\"color:#AD0000\">⚠ <b>Drift detected</b></span>",
           "[25000:29999]",
           "From <b>Mar-31-2019</b> to <b>Apr-30-2019</b>",
           1006.4041,
           212.5173
          ],
          [
           "Estimated <b>False Positive Cost</b>",
           "<b style=\"color:#3b0280;line-height:60px\">Analysis</b>",
           "<span style=\"color:#AD0000\">⚠ <b>Drift detected</b></span>",
           "[30000:34999]",
           "From <b>Apr-30-2019</b> to <b>May-30-2019</b>",
           991.6721,
           212.5173
          ],
          [
           "Estimated <b>False Positive Cost</b>",
           "<b style=\"color:#3b0280;line-height:60px\">Analysis</b>",
           "<span style=\"color:#AD0000\">⚠ <b>Drift detected</b></span>",
           "[35000:39999]",
           "From <b>May-30-2019</b> to <b>Jun-29-2019</b>",
           1034.3975,
           212.5173
          ],
          [
           "Estimated <b>False Positive Cost</b>",
           "<b style=\"color:#3b0280;line-height:60px\">Analysis</b>",
           "<span style=\"color:#AD0000\">⚠ <b>Drift detected</b></span>",
           "[40000:44999]",
           "From <b>Jun-29-2019</b> to <b>Jul-30-2019</b>",
           953.3581,
           212.5173
          ],
          [
           "Estimated <b>False Positive Cost</b>",
           "<b style=\"color:#3b0280;line-height:60px\">Analysis</b>",
           "<span style=\"color:#AD0000\">⚠ <b>Drift detected</b></span>",
           "[45000:49999]",
           "From <b>Jul-30-2019</b> to <b>Aug-29-2019</b>",
           1036.767,
           212.5173
          ]
         ],
         "hovertemplate": "%{customdata[1]} &nbsp; &nbsp; %{customdata[2]} <br />Chunk: <b>%{customdata[3]}</b> &nbsp; &nbsp; %{customdata[4]} <br />%{customdata[0]}: <b>%{customdata[5]}</b><br />Confidence band: +/- <b>%{customdata[6]}</b><br /><extra></extra>",
         "legendgroup": "metric_analysis",
         "marker": {
          "color": "#3b0280",
          "size": 5,
          "symbol": "circle"
         },
         "mode": "markers",
         "name": "Metric (analysis)",
         "showlegend": false,
         "type": "scatter",
         "x": [
          "2018-11-14T21:18:00",
          "2018-12-15T03:54:00",
          "2019-01-14T10:30:00",
          "2019-02-13T17:06:00",
          "2019-03-15T23:42:00",
          "2019-04-15T06:18:00",
          "2019-05-15T12:54:00",
          "2019-06-14T19:30:00",
          "2019-07-15T02:06:00",
          "2019-08-14T08:37:38.424000"
         ],
         "xaxis": "x4",
         "y": [
          743.1781042482813,
          698.4003569380528,
          694.5462590836149,
          720.0172831445906,
          714.9784982157463,
          1006.4041144984552,
          991.6720989036476,
          1034.397500371099,
          953.358071519554,
          1036.7669511029062,
          1036.7669511029062
         ],
         "yaxis": "y4"
        },
        {
         "hoverinfo": "skip",
         "legendgroup": "alert",
         "marker": {
          "color": "#DD4040",
          "size": 8,
          "symbol": "diamond"
         },
         "mode": "markers",
         "name": "Alert",
         "showlegend": false,
         "type": "scatter",
         "x": [
          "2019-04-15T06:18:00",
          "2019-05-15T12:54:00",
          "2019-06-14T19:30:00",
          "2019-07-15T02:06:00",
          "2019-08-14T08:37:38.424000"
         ],
         "xaxis": "x4",
         "y": [
          1006.4041144984552,
          991.6720989036476,
          1034.397500371099,
          953.358071519554,
          1036.7669511029062
         ],
         "yaxis": "y4"
        },
        {
         "hoverinfo": "skip",
         "legendgroup": "thresh",
         "line": {
          "color": "#DD4040",
          "dash": "dash",
          "width": 2
         },
         "mode": "lines",
         "name": "Threshold",
         "showlegend": false,
         "type": "scatter",
         "x": [
          "2018-01-01T00:00:00",
          "2018-01-31T06:36:00",
          "2018-03-02T13:12:00",
          "2018-04-01T19:48:00",
          "2018-05-02T02:24:00",
          "2018-06-01T09:00:00",
          "2018-07-01T15:36:00",
          "2018-07-31T22:12:00",
          "2018-08-31T04:48:00",
          "2018-09-30T11:24:00",
          "2018-10-30T17:51:16.848000"
         ],
         "xaxis": "x4",
         "y": [
          903.6299857084518,
          903.6299857084518,
          903.6299857084518,
          903.6299857084518,
          903.6299857084518,
          903.6299857084518,
          903.6299857084518,
          903.6299857084518,
          903.6299857084518,
          903.6299857084518,
          903.6299857084518
         ],
         "yaxis": "y4"
        },
        {
         "hoverinfo": "skip",
         "legendgroup": "thresh",
         "line": {
          "color": "#DD4040",
          "dash": "dash",
          "width": 2
         },
         "mode": "lines",
         "name": "Threshold",
         "showlegend": false,
         "type": "scatter",
         "x": [
          "2018-01-01T00:00:00",
          "2018-01-31T06:36:00",
          "2018-03-02T13:12:00",
          "2018-04-01T19:48:00",
          "2018-05-02T02:24:00",
          "2018-06-01T09:00:00",
          "2018-07-01T15:36:00",
          "2018-07-31T22:12:00",
          "2018-08-31T04:48:00",
          "2018-09-30T11:24:00",
          "2018-10-30T17:51:16.848000"
         ],
         "xaxis": "x4",
         "y": [
          560.7700142915483,
          560.7700142915483,
          560.7700142915483,
          560.7700142915483,
          560.7700142915483,
          560.7700142915483,
          560.7700142915483,
          560.7700142915483,
          560.7700142915483,
          560.7700142915483,
          560.7700142915483
         ],
         "yaxis": "y4"
        },
        {
         "hoverinfo": "skip",
         "legendgroup": "thresh",
         "line": {
          "color": "#DD4040",
          "dash": "dash",
          "width": 2
         },
         "mode": "lines",
         "name": "Threshold",
         "showlegend": false,
         "type": "scatter",
         "x": [
          "2018-10-30T18:00:00",
          "2018-11-30T00:36:00",
          "2018-12-30T07:12:00",
          "2019-01-29T13:48:00",
          "2019-02-28T20:24:00",
          "2019-03-31T03:00:00",
          "2019-04-30T09:36:00",
          "2019-05-30T16:12:00",
          "2019-06-29T22:48:00",
          "2019-07-30T05:24:00",
          "2019-08-29T11:51:16.848000"
         ],
         "xaxis": "x4",
         "y": [
          903.6299857084518,
          903.6299857084518,
          903.6299857084518,
          903.6299857084518,
          903.6299857084518,
          903.6299857084518,
          903.6299857084518,
          903.6299857084518,
          903.6299857084518,
          903.6299857084518,
          903.6299857084518
         ],
         "yaxis": "y4"
        },
        {
         "hoverinfo": "skip",
         "legendgroup": "thresh",
         "line": {
          "color": "#DD4040",
          "dash": "dash",
          "width": 2
         },
         "mode": "lines",
         "name": "Threshold",
         "showlegend": false,
         "type": "scatter",
         "x": [
          "2018-10-30T18:00:00",
          "2018-11-30T00:36:00",
          "2018-12-30T07:12:00",
          "2019-01-29T13:48:00",
          "2019-02-28T20:24:00",
          "2019-03-31T03:00:00",
          "2019-04-30T09:36:00",
          "2019-05-30T16:12:00",
          "2019-06-29T22:48:00",
          "2019-07-30T05:24:00",
          "2019-08-29T11:51:16.848000"
         ],
         "xaxis": "x4",
         "y": [
          560.7700142915483,
          560.7700142915483,
          560.7700142915483,
          560.7700142915483,
          560.7700142915483,
          560.7700142915483,
          560.7700142915483,
          560.7700142915483,
          560.7700142915483,
          560.7700142915483,
          560.7700142915483
         ],
         "yaxis": "y4"
        },
        {
         "hoverinfo": "skip",
         "line": {
          "color": "rgba(0,0,0,0)",
          "shape": "hv"
         },
         "mode": "lines",
         "name": "Sampling error (reference)",
         "showlegend": false,
         "type": "scatter",
         "x": [
          "2018-01-01T00:00:00",
          "2018-01-31T06:36:00",
          "2018-03-02T13:12:00",
          "2018-04-01T19:48:00",
          "2018-05-02T02:24:00",
          "2018-06-01T09:00:00",
          "2018-07-01T15:36:00",
          "2018-07-31T22:12:00",
          "2018-08-31T04:48:00",
          "2018-09-30T11:24:00",
          "2018-10-30T17:51:16.848000"
         ],
         "xaxis": "x4",
         "y": [
          927.0568467642173,
          938.6014010895998,
          941.8170900967372,
          938.4029807303617,
          946.4490794558039,
          943.0757640596267,
          917.6239342409966,
          948.53487542094,
          937.6510316481964,
          962.852946444632,
          962.852946444632
         ],
         "yaxis": "y4"
        },
        {
         "fill": "tonexty",
         "fillcolor": "rgba(0.0, 0.7843137254901961, 0.8980392156862745, 0.2)",
         "hoverinfo": "skip",
         "line": {
          "color": "rgba(0,0,0,0)",
          "shape": "hv"
         },
         "mode": "lines",
         "name": "Sampling error (reference)",
         "showlegend": false,
         "type": "scatter",
         "x": [
          "2018-01-01T00:00:00",
          "2018-01-31T06:36:00",
          "2018-03-02T13:12:00",
          "2018-04-01T19:48:00",
          "2018-05-02T02:24:00",
          "2018-06-01T09:00:00",
          "2018-07-01T15:36:00",
          "2018-07-31T22:12:00",
          "2018-08-31T04:48:00",
          "2018-09-30T11:24:00",
          "2018-10-30T17:51:16.848000"
         ],
         "xaxis": "x4",
         "y": [
          502.0223084593873,
          513.5668627847698,
          516.7825517919072,
          513.3684424255317,
          521.414541150974,
          518.0412257547968,
          492.5893959361666,
          523.50033711611,
          512.6164933433664,
          537.818408139802,
          537.818408139802
         ],
         "yaxis": "y4"
        },
        {
         "hoverinfo": "skip",
         "line": {
          "color": "rgba(0,0,0,0)",
          "shape": "hv"
         },
         "mode": "lines",
         "name": "Sampling error (analysis)",
         "showlegend": false,
         "type": "scatter",
         "x": [
          "2018-10-30T18:00:00",
          "2018-11-30T00:36:00",
          "2018-12-30T07:12:00",
          "2019-01-29T13:48:00",
          "2019-02-28T20:24:00",
          "2019-03-31T03:00:00",
          "2019-04-30T09:36:00",
          "2019-05-30T16:12:00",
          "2019-06-29T22:48:00",
          "2019-07-30T05:24:00",
          "2019-08-29T11:51:16.848000"
         ],
         "xaxis": "x4",
         "y": [
          955.6953734006963,
          910.9176260904678,
          907.0635282360299,
          932.5345522970056,
          927.4957673681613,
          1218.9213836508702,
          1204.1893680560624,
          1246.9147695235142,
          1165.8753406719688,
          1249.284220255321,
          1249.284220255321
         ],
         "yaxis": "y4"
        },
        {
         "fill": "tonexty",
         "fillcolor": "rgba(0.23137254901960785, 0.00784313725490196, 0.5019607843137255, 0.2)",
         "hoverinfo": "skip",
         "line": {
          "color": "rgba(0,0,0,0)",
          "shape": "hv"
         },
         "mode": "lines",
         "name": "Sampling error (analysis)",
         "showlegend": false,
         "type": "scatter",
         "x": [
          "2018-10-30T18:00:00",
          "2018-11-30T00:36:00",
          "2018-12-30T07:12:00",
          "2019-01-29T13:48:00",
          "2019-02-28T20:24:00",
          "2019-03-31T03:00:00",
          "2019-04-30T09:36:00",
          "2019-05-30T16:12:00",
          "2019-06-29T22:48:00",
          "2019-07-30T05:24:00",
          "2019-08-29T11:51:16.848000"
         ],
         "xaxis": "x4",
         "y": [
          530.6608350958663,
          485.8830877856378,
          482.02898993119993,
          507.5000139921756,
          502.4612290633313,
          793.8868453460402,
          779.1548297512326,
          821.8802312186841,
          740.840802367139,
          824.2496819504912,
          824.2496819504912
         ],
         "yaxis": "y4"
        },
        {
         "hoverinfo": "skip",
         "legendgroup": "metric_reference",
         "line": {
          "color": "#00c8e5",
          "shape": "hv",
          "width": 2
         },
         "mode": "lines",
         "name": "Metric (reference)",
         "showlegend": false,
         "type": "scatter",
         "x": [
          "2018-01-01T00:00:00",
          "2018-01-31T06:36:00",
          "2018-03-02T13:12:00",
          "2018-04-01T19:48:00",
          "2018-05-02T02:24:00",
          "2018-06-01T09:00:00",
          "2018-07-01T15:36:00",
          "2018-07-31T22:12:00",
          "2018-08-31T04:48:00",
          "2018-09-30T11:24:00",
          "2018-10-30T17:51:16.848000"
         ],
         "xaxis": "x5",
         "y": [
          350.16562386064885,
          367.222208662756,
          357.5397285338935,
          352.4596634558409,
          354.71547075711567,
          350.1148828685141,
          383.45058600079324,
          340.6345320605901,
          339.91014112498044,
          334.899522225429,
          334.899522225429
         ],
         "yaxis": "y5"
        },
        {
         "customdata": [
          [
           "Estimated <b>False Negative Cost</b>",
           "<b style=\"color:#00c8e5;line-height:60px\">Reference</b>",
           "",
           "[0:4999]",
           "From <b>Jan-01-2018</b> to <b>Jan-31-2018</b>",
           350.1656,
           78.4418
          ],
          [
           "Estimated <b>False Negative Cost</b>",
           "<b style=\"color:#00c8e5;line-height:60px\">Reference</b>",
           "",
           "[5000:9999]",
           "From <b>Jan-31-2018</b> to <b>Mar-02-2018</b>",
           367.2222,
           78.4418
          ],
          [
           "Estimated <b>False Negative Cost</b>",
           "<b style=\"color:#00c8e5;line-height:60px\">Reference</b>",
           "",
           "[10000:14999]",
           "From <b>Mar-02-2018</b> to <b>Apr-01-2018</b>",
           357.5397,
           78.4418
          ],
          [
           "Estimated <b>False Negative Cost</b>",
           "<b style=\"color:#00c8e5;line-height:60px\">Reference</b>",
           "",
           "[15000:19999]",
           "From <b>Apr-01-2018</b> to <b>May-02-2018</b>",
           352.4597,
           78.4418
          ],
          [
           "Estimated <b>False Negative Cost</b>",
           "<b style=\"color:#00c8e5;line-height:60px\">Reference</b>",
           "",
           "[20000:24999]",
           "From <b>May-02-2018</b> to <b>Jun-01-2018</b>",
           354.7155,
           78.4418
          ],
          [
           "Estimated <b>False Negative Cost</b>",
           "<b style=\"color:#00c8e5;line-height:60px\">Reference</b>",
           "",
           "[25000:29999]",
           "From <b>Jun-01-2018</b> to <b>Jul-01-2018</b>",
           350.1149,
           78.4418
          ],
          [
           "Estimated <b>False Negative Cost</b>",
           "<b style=\"color:#00c8e5;line-height:60px\">Reference</b>",
           "",
           "[30000:34999]",
           "From <b>Jul-01-2018</b> to <b>Jul-31-2018</b>",
           383.4506,
           78.4418
          ],
          [
           "Estimated <b>False Negative Cost</b>",
           "<b style=\"color:#00c8e5;line-height:60px\">Reference</b>",
           "",
           "[35000:39999]",
           "From <b>Jul-31-2018</b> to <b>Aug-31-2018</b>",
           340.6345,
           78.4418
          ],
          [
           "Estimated <b>False Negative Cost</b>",
           "<b style=\"color:#00c8e5;line-height:60px\">Reference</b>",
           "",
           "[40000:44999]",
           "From <b>Aug-31-2018</b> to <b>Sep-30-2018</b>",
           339.9101,
           78.4418
          ],
          [
           "Estimated <b>False Negative Cost</b>",
           "<b style=\"color:#00c8e5;line-height:60px\">Reference</b>",
           "",
           "[45000:49999]",
           "From <b>Sep-30-2018</b> to <b>Oct-30-2018</b>",
           334.8995,
           78.4418
          ]
         ],
         "hovertemplate": "%{customdata[1]} &nbsp; &nbsp; %{customdata[2]} <br />Chunk: <b>%{customdata[3]}</b> &nbsp; &nbsp; %{customdata[4]} <br />%{customdata[0]}: <b>%{customdata[5]}</b><br />Confidence band: +/- <b>%{customdata[6]}</b><br /><extra></extra>",
         "legendgroup": "metric_reference",
         "marker": {
          "color": "#00c8e5",
          "size": 5,
          "symbol": "circle"
         },
         "mode": "markers",
         "name": "Metric (reference)",
         "showlegend": false,
         "type": "scatter",
         "x": [
          "2018-01-16T03:18:00",
          "2018-02-15T09:54:00",
          "2018-03-17T16:30:00",
          "2018-04-16T23:06:00",
          "2018-05-17T05:42:00",
          "2018-06-16T12:18:00",
          "2018-07-16T18:54:00",
          "2018-08-16T01:30:00",
          "2018-09-15T08:06:00",
          "2018-10-15T14:37:38.424000"
         ],
         "xaxis": "x5",
         "y": [
          350.16562386064885,
          367.222208662756,
          357.5397285338935,
          352.4596634558409,
          354.71547075711567,
          350.1148828685141,
          383.45058600079324,
          340.6345320605901,
          339.91014112498044,
          334.899522225429,
          334.899522225429
         ],
         "yaxis": "y5"
        },
        {
         "hoverinfo": "skip",
         "legendgroup": "metric_analysis",
         "line": {
          "color": "#3b0280",
          "shape": "hv",
          "width": 2
         },
         "mode": "lines",
         "name": "Metric (analysis)",
         "showlegend": false,
         "type": "scatter",
         "x": [
          "2018-10-30T18:00:00",
          "2018-11-30T00:36:00",
          "2018-12-30T07:12:00",
          "2019-01-29T13:48:00",
          "2019-02-28T20:24:00",
          "2019-03-31T03:00:00",
          "2019-04-30T09:36:00",
          "2019-05-30T16:12:00",
          "2019-06-29T22:48:00",
          "2019-07-30T05:24:00",
          "2019-08-29T11:51:16.848000"
         ],
         "xaxis": "x5",
         "y": [
          369.74458310434306,
          367.24497761067084,
          346.64257066968554,
          346.1206856669686,
          349.27046582313056,
          605.3144059845915,
          605.170463463546,
          592.5305669646548,
          583.7183600412309,
          586.4676820128202,
          586.4676820128202
         ],
         "yaxis": "y5"
        },
        {
         "customdata": [
          [
           "Estimated <b>False Negative Cost</b>",
           "<b style=\"color:#3b0280;line-height:60px\">Analysis</b>",
           "",
           "[0:4999]",
           "From <b>Oct-30-2018</b> to <b>Nov-30-2018</b>",
           369.7446,
           78.4418
          ],
          [
           "Estimated <b>False Negative Cost</b>",
           "<b style=\"color:#3b0280;line-height:60px\">Analysis</b>",
           "",
           "[5000:9999]",
           "From <b>Nov-30-2018</b> to <b>Dec-30-2018</b>",
           367.245,
           78.4418
          ],
          [
           "Estimated <b>False Negative Cost</b>",
           "<b style=\"color:#3b0280;line-height:60px\">Analysis</b>",
           "",
           "[10000:14999]",
           "From <b>Dec-30-2018</b> to <b>Jan-29-2019</b>",
           346.6426,
           78.4418
          ],
          [
           "Estimated <b>False Negative Cost</b>",
           "<b style=\"color:#3b0280;line-height:60px\">Analysis</b>",
           "",
           "[15000:19999]",
           "From <b>Jan-29-2019</b> to <b>Feb-28-2019</b>",
           346.1207,
           78.4418
          ],
          [
           "Estimated <b>False Negative Cost</b>",
           "<b style=\"color:#3b0280;line-height:60px\">Analysis</b>",
           "",
           "[20000:24999]",
           "From <b>Feb-28-2019</b> to <b>Mar-31-2019</b>",
           349.2705,
           78.4418
          ],
          [
           "Estimated <b>False Negative Cost</b>",
           "<b style=\"color:#3b0280;line-height:60px\">Analysis</b>",
           "<span style=\"color:#AD0000\">⚠ <b>Drift detected</b></span>",
           "[25000:29999]",
           "From <b>Mar-31-2019</b> to <b>Apr-30-2019</b>",
           605.3144,
           78.4418
          ],
          [
           "Estimated <b>False Negative Cost</b>",
           "<b style=\"color:#3b0280;line-height:60px\">Analysis</b>",
           "<span style=\"color:#AD0000\">⚠ <b>Drift detected</b></span>",
           "[30000:34999]",
           "From <b>Apr-30-2019</b> to <b>May-30-2019</b>",
           605.1705,
           78.4418
          ],
          [
           "Estimated <b>False Negative Cost</b>",
           "<b style=\"color:#3b0280;line-height:60px\">Analysis</b>",
           "<span style=\"color:#AD0000\">⚠ <b>Drift detected</b></span>",
           "[35000:39999]",
           "From <b>May-30-2019</b> to <b>Jun-29-2019</b>",
           592.5306,
           78.4418
          ],
          [
           "Estimated <b>False Negative Cost</b>",
           "<b style=\"color:#3b0280;line-height:60px\">Analysis</b>",
           "<span style=\"color:#AD0000\">⚠ <b>Drift detected</b></span>",
           "[40000:44999]",
           "From <b>Jun-29-2019</b> to <b>Jul-30-2019</b>",
           583.7184,
           78.4418
          ],
          [
           "Estimated <b>False Negative Cost</b>",
           "<b style=\"color:#3b0280;line-height:60px\">Analysis</b>",
           "<span style=\"color:#AD0000\">⚠ <b>Drift detected</b></span>",
           "[45000:49999]",
           "From <b>Jul-30-2019</b> to <b>Aug-29-2019</b>",
           586.4677,
           78.4418
          ]
         ],
         "hovertemplate": "%{customdata[1]} &nbsp; &nbsp; %{customdata[2]} <br />Chunk: <b>%{customdata[3]}</b> &nbsp; &nbsp; %{customdata[4]} <br />%{customdata[0]}: <b>%{customdata[5]}</b><br />Confidence band: +/- <b>%{customdata[6]}</b><br /><extra></extra>",
         "legendgroup": "metric_analysis",
         "marker": {
          "color": "#3b0280",
          "size": 5,
          "symbol": "circle"
         },
         "mode": "markers",
         "name": "Metric (analysis)",
         "showlegend": false,
         "type": "scatter",
         "x": [
          "2018-11-14T21:18:00",
          "2018-12-15T03:54:00",
          "2019-01-14T10:30:00",
          "2019-02-13T17:06:00",
          "2019-03-15T23:42:00",
          "2019-04-15T06:18:00",
          "2019-05-15T12:54:00",
          "2019-06-14T19:30:00",
          "2019-07-15T02:06:00",
          "2019-08-14T08:37:38.424000"
         ],
         "xaxis": "x5",
         "y": [
          369.74458310434306,
          367.24497761067084,
          346.64257066968554,
          346.1206856669686,
          349.27046582313056,
          605.3144059845915,
          605.170463463546,
          592.5305669646548,
          583.7183600412309,
          586.4676820128202,
          586.4676820128202
         ],
         "yaxis": "y5"
        },
        {
         "hoverinfo": "skip",
         "legendgroup": "alert",
         "marker": {
          "color": "#DD4040",
          "size": 8,
          "symbol": "diamond"
         },
         "mode": "markers",
         "name": "Alert",
         "showlegend": false,
         "type": "scatter",
         "x": [
          "2019-04-15T06:18:00",
          "2019-05-15T12:54:00",
          "2019-06-14T19:30:00",
          "2019-07-15T02:06:00",
          "2019-08-14T08:37:38.424000"
         ],
         "xaxis": "x5",
         "y": [
          605.3144059845915,
          605.170463463546,
          592.5305669646548,
          583.7183600412309,
          586.4676820128202
         ],
         "yaxis": "y5"
        },
        {
         "hoverinfo": "skip",
         "legendgroup": "thresh",
         "line": {
          "color": "#DD4040",
          "dash": "dash",
          "width": 2
         },
         "mode": "lines",
         "name": "Threshold",
         "showlegend": false,
         "type": "scatter",
         "x": [
          "2018-01-01T00:00:00",
          "2018-01-31T06:36:00",
          "2018-03-02T13:12:00",
          "2018-04-01T19:48:00",
          "2018-05-02T02:24:00",
          "2018-06-01T09:00:00",
          "2018-07-01T15:36:00",
          "2018-07-31T22:12:00",
          "2018-08-31T04:48:00",
          "2018-09-30T11:24:00",
          "2018-10-30T17:51:16.848000"
         ],
         "xaxis": "x5",
         "y": [
          416.9152781326293,
          416.9152781326293,
          416.9152781326293,
          416.9152781326293,
          416.9152781326293,
          416.9152781326293,
          416.9152781326293,
          416.9152781326293,
          416.9152781326293,
          416.9152781326293,
          416.9152781326293
         ],
         "yaxis": "y5"
        },
        {
         "hoverinfo": "skip",
         "legendgroup": "thresh",
         "line": {
          "color": "#DD4040",
          "dash": "dash",
          "width": 2
         },
         "mode": "lines",
         "name": "Threshold",
         "showlegend": false,
         "type": "scatter",
         "x": [
          "2018-01-01T00:00:00",
          "2018-01-31T06:36:00",
          "2018-03-02T13:12:00",
          "2018-04-01T19:48:00",
          "2018-05-02T02:24:00",
          "2018-06-01T09:00:00",
          "2018-07-01T15:36:00",
          "2018-07-31T22:12:00",
          "2018-08-31T04:48:00",
          "2018-09-30T11:24:00",
          "2018-10-30T17:51:16.848000"
         ],
         "xaxis": "x5",
         "y": [
          291.8847218673707,
          291.8847218673707,
          291.8847218673707,
          291.8847218673707,
          291.8847218673707,
          291.8847218673707,
          291.8847218673707,
          291.8847218673707,
          291.8847218673707,
          291.8847218673707,
          291.8847218673707
         ],
         "yaxis": "y5"
        },
        {
         "hoverinfo": "skip",
         "legendgroup": "thresh",
         "line": {
          "color": "#DD4040",
          "dash": "dash",
          "width": 2
         },
         "mode": "lines",
         "name": "Threshold",
         "showlegend": false,
         "type": "scatter",
         "x": [
          "2018-10-30T18:00:00",
          "2018-11-30T00:36:00",
          "2018-12-30T07:12:00",
          "2019-01-29T13:48:00",
          "2019-02-28T20:24:00",
          "2019-03-31T03:00:00",
          "2019-04-30T09:36:00",
          "2019-05-30T16:12:00",
          "2019-06-29T22:48:00",
          "2019-07-30T05:24:00",
          "2019-08-29T11:51:16.848000"
         ],
         "xaxis": "x5",
         "y": [
          416.9152781326293,
          416.9152781326293,
          416.9152781326293,
          416.9152781326293,
          416.9152781326293,
          416.9152781326293,
          416.9152781326293,
          416.9152781326293,
          416.9152781326293,
          416.9152781326293,
          416.9152781326293
         ],
         "yaxis": "y5"
        },
        {
         "hoverinfo": "skip",
         "legendgroup": "thresh",
         "line": {
          "color": "#DD4040",
          "dash": "dash",
          "width": 2
         },
         "mode": "lines",
         "name": "Threshold",
         "showlegend": false,
         "type": "scatter",
         "x": [
          "2018-10-30T18:00:00",
          "2018-11-30T00:36:00",
          "2018-12-30T07:12:00",
          "2019-01-29T13:48:00",
          "2019-02-28T20:24:00",
          "2019-03-31T03:00:00",
          "2019-04-30T09:36:00",
          "2019-05-30T16:12:00",
          "2019-06-29T22:48:00",
          "2019-07-30T05:24:00",
          "2019-08-29T11:51:16.848000"
         ],
         "xaxis": "x5",
         "y": [
          291.8847218673707,
          291.8847218673707,
          291.8847218673707,
          291.8847218673707,
          291.8847218673707,
          291.8847218673707,
          291.8847218673707,
          291.8847218673707,
          291.8847218673707,
          291.8847218673707,
          291.8847218673707
         ],
         "yaxis": "y5"
        },
        {
         "hoverinfo": "skip",
         "line": {
          "color": "rgba(0,0,0,0)",
          "shape": "hv"
         },
         "mode": "lines",
         "name": "Sampling error (reference)",
         "showlegend": false,
         "type": "scatter",
         "x": [
          "2018-01-01T00:00:00",
          "2018-01-31T06:36:00",
          "2018-03-02T13:12:00",
          "2018-04-01T19:48:00",
          "2018-05-02T02:24:00",
          "2018-06-01T09:00:00",
          "2018-07-01T15:36:00",
          "2018-07-31T22:12:00",
          "2018-08-31T04:48:00",
          "2018-09-30T11:24:00",
          "2018-10-30T17:51:16.848000"
         ],
         "xaxis": "x5",
         "y": [
          428.6074567816101,
          445.6640415837172,
          435.9815614548547,
          430.90149637680213,
          433.1573036780769,
          428.55671578947533,
          461.8924189217545,
          419.07636498155136,
          418.3519740459417,
          413.34135514639024,
          413.34135514639024
         ],
         "yaxis": "y5"
        },
        {
         "fill": "tonexty",
         "fillcolor": "rgba(0.0, 0.7843137254901961, 0.8980392156862745, 0.2)",
         "hoverinfo": "skip",
         "line": {
          "color": "rgba(0,0,0,0)",
          "shape": "hv"
         },
         "mode": "lines",
         "name": "Sampling error (reference)",
         "showlegend": false,
         "type": "scatter",
         "x": [
          "2018-01-01T00:00:00",
          "2018-01-31T06:36:00",
          "2018-03-02T13:12:00",
          "2018-04-01T19:48:00",
          "2018-05-02T02:24:00",
          "2018-06-01T09:00:00",
          "2018-07-01T15:36:00",
          "2018-07-31T22:12:00",
          "2018-08-31T04:48:00",
          "2018-09-30T11:24:00",
          "2018-10-30T17:51:16.848000"
         ],
         "xaxis": "x5",
         "y": [
          271.7237909396876,
          288.7803757417947,
          279.09789561293223,
          274.01783053487964,
          276.2736378361544,
          271.67304994755284,
          305.008753079832,
          262.19269913962887,
          261.4683082040192,
          256.45768930446775,
          256.45768930446775
         ],
         "yaxis": "y5"
        },
        {
         "hoverinfo": "skip",
         "line": {
          "color": "rgba(0,0,0,0)",
          "shape": "hv"
         },
         "mode": "lines",
         "name": "Sampling error (analysis)",
         "showlegend": false,
         "type": "scatter",
         "x": [
          "2018-10-30T18:00:00",
          "2018-11-30T00:36:00",
          "2018-12-30T07:12:00",
          "2019-01-29T13:48:00",
          "2019-02-28T20:24:00",
          "2019-03-31T03:00:00",
          "2019-04-30T09:36:00",
          "2019-05-30T16:12:00",
          "2019-06-29T22:48:00",
          "2019-07-30T05:24:00",
          "2019-08-29T11:51:16.848000"
         ],
         "xaxis": "x5",
         "y": [
          448.1864160253043,
          445.6868105316321,
          425.0844035906468,
          424.56251858792984,
          427.7122987440918,
          683.7562389055528,
          683.6122963845072,
          670.972399885616,
          662.1601929621921,
          664.9095149337815,
          664.9095149337815
         ],
         "yaxis": "y5"
        },
        {
         "fill": "tonexty",
         "fillcolor": "rgba(0.23137254901960785, 0.00784313725490196, 0.5019607843137255, 0.2)",
         "hoverinfo": "skip",
         "line": {
          "color": "rgba(0,0,0,0)",
          "shape": "hv"
         },
         "mode": "lines",
         "name": "Sampling error (analysis)",
         "showlegend": false,
         "type": "scatter",
         "x": [
          "2018-10-30T18:00:00",
          "2018-11-30T00:36:00",
          "2018-12-30T07:12:00",
          "2019-01-29T13:48:00",
          "2019-02-28T20:24:00",
          "2019-03-31T03:00:00",
          "2019-04-30T09:36:00",
          "2019-05-30T16:12:00",
          "2019-06-29T22:48:00",
          "2019-07-30T05:24:00",
          "2019-08-29T11:51:16.848000"
         ],
         "xaxis": "x5",
         "y": [
          291.3027501833818,
          288.8031446897096,
          268.2007377487243,
          267.67885274600735,
          270.8286329021693,
          526.8725730636303,
          526.7286305425847,
          514.0887340436935,
          505.27652712026963,
          508.02584909185896,
          508.02584909185896
         ],
         "yaxis": "y5"
        },
        {
         "hoverinfo": "skip",
         "legendgroup": "metric_reference",
         "line": {
          "color": "#00c8e5",
          "shape": "hv",
          "width": 2
         },
         "mode": "lines",
         "name": "Metric (reference)",
         "showlegend": false,
         "type": "scatter",
         "x": [
          "2018-01-01T00:00:00",
          "2018-01-31T06:36:00",
          "2018-03-02T13:12:00",
          "2018-04-01T19:48:00",
          "2018-05-02T02:24:00",
          "2018-06-01T09:00:00",
          "2018-07-01T15:36:00",
          "2018-07-31T22:12:00",
          "2018-08-31T04:48:00",
          "2018-09-30T11:24:00",
          "2018-10-30T17:51:16.848000"
         ],
         "xaxis": "x6",
         "y": [
          19956.065623687267,
          19943.956705024608,
          19955.0173375851,
          19958.634212934707,
          19959.82673365862,
          19962.98161494886,
          19918.737984751457,
          19974.80158491163,
          19970.86147137321,
          19986.672910899808,
          19986.672910899808
         ],
         "yaxis": "y6"
        },
        {
         "customdata": [
          [
           "Estimated <b>Total Cost</b>",
           "<b style=\"color:#00c8e5;line-height:60px\">Reference</b>",
           "",
           "[0:4999]",
           "From <b>Jan-01-2018</b> to <b>Jan-31-2018</b>",
           19956.0656,
           121.8558
          ],
          [
           "Estimated <b>Total Cost</b>",
           "<b style=\"color:#00c8e5;line-height:60px\">Reference</b>",
           "",
           "[5000:9999]",
           "From <b>Jan-31-2018</b> to <b>Mar-02-2018</b>",
           19943.9567,
           121.8558
          ],
          [
           "Estimated <b>Total Cost</b>",
           "<b style=\"color:#00c8e5;line-height:60px\">Reference</b>",
           "",
           "[10000:14999]",
           "From <b>Mar-02-2018</b> to <b>Apr-01-2018</b>",
           19955.0173,
           121.8558
          ],
          [
           "Estimated <b>Total Cost</b>",
           "<b style=\"color:#00c8e5;line-height:60px\">Reference</b>",
           "",
           "[15000:19999]",
           "From <b>Apr-01-2018</b> to <b>May-02-2018</b>",
           19958.6342,
           121.8558
          ],
          [
           "Estimated <b>Total Cost</b>",
           "<b style=\"color:#00c8e5;line-height:60px\">Reference</b>",
           "",
           "[20000:24999]",
           "From <b>May-02-2018</b> to <b>Jun-01-2018</b>",
           19959.8267,
           121.8558
          ],
          [
           "Estimated <b>Total Cost</b>",
           "<b style=\"color:#00c8e5;line-height:60px\">Reference</b>",
           "",
           "[25000:29999]",
           "From <b>Jun-01-2018</b> to <b>Jul-01-2018</b>",
           19962.9816,
           121.8558
          ],
          [
           "Estimated <b>Total Cost</b>",
           "<b style=\"color:#00c8e5;line-height:60px\">Reference</b>",
           "",
           "[30000:34999]",
           "From <b>Jul-01-2018</b> to <b>Jul-31-2018</b>",
           19918.738,
           121.8558
          ],
          [
           "Estimated <b>Total Cost</b>",
           "<b style=\"color:#00c8e5;line-height:60px\">Reference</b>",
           "",
           "[35000:39999]",
           "From <b>Jul-31-2018</b> to <b>Aug-31-2018</b>",
           19974.8016,
           121.8558
          ],
          [
           "Estimated <b>Total Cost</b>",
           "<b style=\"color:#00c8e5;line-height:60px\">Reference</b>",
           "",
           "[40000:44999]",
           "From <b>Aug-31-2018</b> to <b>Sep-30-2018</b>",
           19970.8615,
           121.8558
          ],
          [
           "Estimated <b>Total Cost</b>",
           "<b style=\"color:#00c8e5;line-height:60px\">Reference</b>",
           "",
           "[45000:49999]",
           "From <b>Sep-30-2018</b> to <b>Oct-30-2018</b>",
           19986.6729,
           121.8558
          ]
         ],
         "hovertemplate": "%{customdata[1]} &nbsp; &nbsp; %{customdata[2]} <br />Chunk: <b>%{customdata[3]}</b> &nbsp; &nbsp; %{customdata[4]} <br />%{customdata[0]}: <b>%{customdata[5]}</b><br />Confidence band: +/- <b>%{customdata[6]}</b><br /><extra></extra>",
         "legendgroup": "metric_reference",
         "marker": {
          "color": "#00c8e5",
          "size": 5,
          "symbol": "circle"
         },
         "mode": "markers",
         "name": "Metric (reference)",
         "showlegend": false,
         "type": "scatter",
         "x": [
          "2018-01-16T03:18:00",
          "2018-02-15T09:54:00",
          "2018-03-17T16:30:00",
          "2018-04-16T23:06:00",
          "2018-05-17T05:42:00",
          "2018-06-16T12:18:00",
          "2018-07-16T18:54:00",
          "2018-08-16T01:30:00",
          "2018-09-15T08:06:00",
          "2018-10-15T14:37:38.424000"
         ],
         "xaxis": "x6",
         "y": [
          19956.065623687267,
          19943.956705024608,
          19955.0173375851,
          19958.634212934707,
          19959.82673365862,
          19962.98161494886,
          19918.737984751457,
          19974.80158491163,
          19970.86147137321,
          19986.672910899808,
          19986.672910899808
         ],
         "yaxis": "y6"
        },
        {
         "hoverinfo": "skip",
         "legendgroup": "metric_analysis",
         "line": {
          "color": "#3b0280",
          "shape": "hv",
          "width": 2
         },
         "mode": "lines",
         "name": "Metric (analysis)",
         "showlegend": false,
         "type": "scatter",
         "x": [
          "2018-10-30T18:00:00",
          "2018-11-30T00:36:00",
          "2018-12-30T07:12:00",
          "2019-01-29T13:48:00",
          "2019-02-28T20:24:00",
          "2019-03-31T03:00:00",
          "2019-04-30T09:36:00",
          "2019-05-30T16:12:00",
          "2019-06-29T22:48:00",
          "2019-07-30T05:24:00",
          "2019-08-29T11:51:16.848000"
         ],
         "xaxis": "x6",
         "y": [
          19948.760318716348,
          19932.069461077062,
          19951.02011179472,
          19962.458149966424,
          19957.148890555047,
          19826.001643086176,
          19819.831864638018,
          19850.7826474801,
          19824.863670610004,
          19857.861011316993,
          19857.861011316993
         ],
         "yaxis": "y6"
        },
        {
         "customdata": [
          [
           "Estimated <b>Total Cost</b>",
           "<b style=\"color:#3b0280;line-height:60px\">Analysis</b>",
           "",
           "[0:4999]",
           "From <b>Oct-30-2018</b> to <b>Nov-30-2018</b>",
           19948.7603,
           121.8558
          ],
          [
           "Estimated <b>Total Cost</b>",
           "<b style=\"color:#3b0280;line-height:60px\">Analysis</b>",
           "",
           "[5000:9999]",
           "From <b>Nov-30-2018</b> to <b>Dec-30-2018</b>",
           19932.0695,
           121.8558
          ],
          [
           "Estimated <b>Total Cost</b>",
           "<b style=\"color:#3b0280;line-height:60px\">Analysis</b>",
           "",
           "[10000:14999]",
           "From <b>Dec-30-2018</b> to <b>Jan-29-2019</b>",
           19951.0201,
           121.8558
          ],
          [
           "Estimated <b>Total Cost</b>",
           "<b style=\"color:#3b0280;line-height:60px\">Analysis</b>",
           "",
           "[15000:19999]",
           "From <b>Jan-29-2019</b> to <b>Feb-28-2019</b>",
           19962.4581,
           121.8558
          ],
          [
           "Estimated <b>Total Cost</b>",
           "<b style=\"color:#3b0280;line-height:60px\">Analysis</b>",
           "",
           "[20000:24999]",
           "From <b>Feb-28-2019</b> to <b>Mar-31-2019</b>",
           19957.1489,
           121.8558
          ],
          [
           "Estimated <b>Total Cost</b>",
           "<b style=\"color:#3b0280;line-height:60px\">Analysis</b>",
           "<span style=\"color:#AD0000\">⚠ <b>Drift detected</b></span>",
           "[25000:29999]",
           "From <b>Mar-31-2019</b> to <b>Apr-30-2019</b>",
           19826.0016,
           121.8558
          ],
          [
           "Estimated <b>Total Cost</b>",
           "<b style=\"color:#3b0280;line-height:60px\">Analysis</b>",
           "<span style=\"color:#AD0000\">⚠ <b>Drift detected</b></span>",
           "[30000:34999]",
           "From <b>Apr-30-2019</b> to <b>May-30-2019</b>",
           19819.8319,
           121.8558
          ],
          [
           "Estimated <b>Total Cost</b>",
           "<b style=\"color:#3b0280;line-height:60px\">Analysis</b>",
           "<span style=\"color:#AD0000\">⚠ <b>Drift detected</b></span>",
           "[35000:39999]",
           "From <b>May-30-2019</b> to <b>Jun-29-2019</b>",
           19850.7826,
           121.8558
          ],
          [
           "Estimated <b>Total Cost</b>",
           "<b style=\"color:#3b0280;line-height:60px\">Analysis</b>",
           "<span style=\"color:#AD0000\">⚠ <b>Drift detected</b></span>",
           "[40000:44999]",
           "From <b>Jun-29-2019</b> to <b>Jul-30-2019</b>",
           19824.8637,
           121.8558
          ],
          [
           "Estimated <b>Total Cost</b>",
           "<b style=\"color:#3b0280;line-height:60px\">Analysis</b>",
           "<span style=\"color:#AD0000\">⚠ <b>Drift detected</b></span>",
           "[45000:49999]",
           "From <b>Jul-30-2019</b> to <b>Aug-29-2019</b>",
           19857.861,
           121.8558
          ]
         ],
         "hovertemplate": "%{customdata[1]} &nbsp; &nbsp; %{customdata[2]} <br />Chunk: <b>%{customdata[3]}</b> &nbsp; &nbsp; %{customdata[4]} <br />%{customdata[0]}: <b>%{customdata[5]}</b><br />Confidence band: +/- <b>%{customdata[6]}</b><br /><extra></extra>",
         "legendgroup": "metric_analysis",
         "marker": {
          "color": "#3b0280",
          "size": 5,
          "symbol": "circle"
         },
         "mode": "markers",
         "name": "Metric (analysis)",
         "showlegend": false,
         "type": "scatter",
         "x": [
          "2018-11-14T21:18:00",
          "2018-12-15T03:54:00",
          "2019-01-14T10:30:00",
          "2019-02-13T17:06:00",
          "2019-03-15T23:42:00",
          "2019-04-15T06:18:00",
          "2019-05-15T12:54:00",
          "2019-06-14T19:30:00",
          "2019-07-15T02:06:00",
          "2019-08-14T08:37:38.424000"
         ],
         "xaxis": "x6",
         "y": [
          19948.760318716348,
          19932.069461077062,
          19951.02011179472,
          19962.458149966424,
          19957.148890555047,
          19826.001643086176,
          19819.831864638018,
          19850.7826474801,
          19824.863670610004,
          19857.861011316993,
          19857.861011316993
         ],
         "yaxis": "y6"
        },
        {
         "hoverinfo": "skip",
         "legendgroup": "alert",
         "marker": {
          "color": "#DD4040",
          "size": 8,
          "symbol": "diamond"
         },
         "mode": "markers",
         "name": "Alert",
         "showlegend": false,
         "type": "scatter",
         "x": [
          "2019-04-15T06:18:00",
          "2019-05-15T12:54:00",
          "2019-06-14T19:30:00",
          "2019-07-15T02:06:00",
          "2019-08-14T08:37:38.424000"
         ],
         "xaxis": "x6",
         "y": [
          19826.001643086176,
          19819.831864638018,
          19850.7826474801,
          19824.863670610004,
          19857.861011316993
         ],
         "yaxis": "y6"
        },
        {
         "hoverinfo": "skip",
         "legendgroup": "thresh",
         "line": {
          "color": "#DD4040",
          "dash": "dash",
          "width": 2
         },
         "mode": "lines",
         "name": "Threshold",
         "showlegend": false,
         "type": "scatter",
         "x": [
          "2018-01-01T00:00:00",
          "2018-01-31T06:36:00",
          "2018-03-02T13:12:00",
          "2018-04-01T19:48:00",
          "2018-05-02T02:24:00",
          "2018-06-01T09:00:00",
          "2018-07-01T15:36:00",
          "2018-07-31T22:12:00",
          "2018-08-31T04:48:00",
          "2018-09-30T11:24:00",
          "2018-10-30T17:51:16.848000"
         ],
         "xaxis": "x6",
         "y": [
          20057.818290982927,
          20057.818290982927,
          20057.818290982927,
          20057.818290982927,
          20057.818290982927,
          20057.818290982927,
          20057.818290982927,
          20057.818290982927,
          20057.818290982927,
          20057.818290982927,
          20057.818290982927
         ],
         "yaxis": "y6"
        },
        {
         "hoverinfo": "skip",
         "legendgroup": "thresh",
         "line": {
          "color": "#DD4040",
          "dash": "dash",
          "width": 2
         },
         "mode": "lines",
         "name": "Threshold",
         "showlegend": false,
         "type": "scatter",
         "x": [
          "2018-01-01T00:00:00",
          "2018-01-31T06:36:00",
          "2018-03-02T13:12:00",
          "2018-04-01T19:48:00",
          "2018-05-02T02:24:00",
          "2018-06-01T09:00:00",
          "2018-07-01T15:36:00",
          "2018-07-31T22:12:00",
          "2018-08-31T04:48:00",
          "2018-09-30T11:24:00",
          "2018-10-30T17:51:16.848000"
         ],
         "xaxis": "x6",
         "y": [
          19860.981709017076,
          19860.981709017076,
          19860.981709017076,
          19860.981709017076,
          19860.981709017076,
          19860.981709017076,
          19860.981709017076,
          19860.981709017076,
          19860.981709017076,
          19860.981709017076,
          19860.981709017076
         ],
         "yaxis": "y6"
        },
        {
         "hoverinfo": "skip",
         "legendgroup": "thresh",
         "line": {
          "color": "#DD4040",
          "dash": "dash",
          "width": 2
         },
         "mode": "lines",
         "name": "Threshold",
         "showlegend": false,
         "type": "scatter",
         "x": [
          "2018-10-30T18:00:00",
          "2018-11-30T00:36:00",
          "2018-12-30T07:12:00",
          "2019-01-29T13:48:00",
          "2019-02-28T20:24:00",
          "2019-03-31T03:00:00",
          "2019-04-30T09:36:00",
          "2019-05-30T16:12:00",
          "2019-06-29T22:48:00",
          "2019-07-30T05:24:00",
          "2019-08-29T11:51:16.848000"
         ],
         "xaxis": "x6",
         "y": [
          20057.818290982927,
          20057.818290982927,
          20057.818290982927,
          20057.818290982927,
          20057.818290982927,
          20057.818290982927,
          20057.818290982927,
          20057.818290982927,
          20057.818290982927,
          20057.818290982927,
          20057.818290982927
         ],
         "yaxis": "y6"
        },
        {
         "hoverinfo": "skip",
         "legendgroup": "thresh",
         "line": {
          "color": "#DD4040",
          "dash": "dash",
          "width": 2
         },
         "mode": "lines",
         "name": "Threshold",
         "showlegend": false,
         "type": "scatter",
         "x": [
          "2018-10-30T18:00:00",
          "2018-11-30T00:36:00",
          "2018-12-30T07:12:00",
          "2019-01-29T13:48:00",
          "2019-02-28T20:24:00",
          "2019-03-31T03:00:00",
          "2019-04-30T09:36:00",
          "2019-05-30T16:12:00",
          "2019-06-29T22:48:00",
          "2019-07-30T05:24:00",
          "2019-08-29T11:51:16.848000"
         ],
         "xaxis": "x6",
         "y": [
          19860.981709017076,
          19860.981709017076,
          19860.981709017076,
          19860.981709017076,
          19860.981709017076,
          19860.981709017076,
          19860.981709017076,
          19860.981709017076,
          19860.981709017076,
          19860.981709017076,
          19860.981709017076
         ],
         "yaxis": "y6"
        },
        {
         "hoverinfo": "skip",
         "line": {
          "color": "rgba(0,0,0,0)",
          "shape": "hv"
         },
         "mode": "lines",
         "name": "Sampling error (reference)",
         "showlegend": false,
         "type": "scatter",
         "x": [
          "2018-01-01T00:00:00",
          "2018-01-31T06:36:00",
          "2018-03-02T13:12:00",
          "2018-04-01T19:48:00",
          "2018-05-02T02:24:00",
          "2018-06-01T09:00:00",
          "2018-07-01T15:36:00",
          "2018-07-31T22:12:00",
          "2018-08-31T04:48:00",
          "2018-09-30T11:24:00",
          "2018-10-30T17:51:16.848000"
         ],
         "xaxis": "x6",
         "y": [
          20077.92141120678,
          20065.81249254412,
          20076.873125104612,
          20080.490000454218,
          20081.682521178132,
          20084.837402468373,
          20040.593772270968,
          20096.657372431142,
          20092.71725889272,
          20108.52869841932,
          20108.52869841932
         ],
         "yaxis": "y6"
        },
        {
         "fill": "tonexty",
         "fillcolor": "rgba(0.0, 0.7843137254901961, 0.8980392156862745, 0.2)",
         "hoverinfo": "skip",
         "line": {
          "color": "rgba(0,0,0,0)",
          "shape": "hv"
         },
         "mode": "lines",
         "name": "Sampling error (reference)",
         "showlegend": false,
         "type": "scatter",
         "x": [
          "2018-01-01T00:00:00",
          "2018-01-31T06:36:00",
          "2018-03-02T13:12:00",
          "2018-04-01T19:48:00",
          "2018-05-02T02:24:00",
          "2018-06-01T09:00:00",
          "2018-07-01T15:36:00",
          "2018-07-31T22:12:00",
          "2018-08-31T04:48:00",
          "2018-09-30T11:24:00",
          "2018-10-30T17:51:16.848000"
         ],
         "xaxis": "x6",
         "y": [
          19834.209836167756,
          19822.100917505097,
          19833.16155006559,
          19836.778425415196,
          19837.97094613911,
          19841.12582742935,
          19796.882197231946,
          19852.94579739212,
          19849.0056838537,
          19864.817123380297,
          19864.817123380297
         ],
         "yaxis": "y6"
        },
        {
         "hoverinfo": "skip",
         "line": {
          "color": "rgba(0,0,0,0)",
          "shape": "hv"
         },
         "mode": "lines",
         "name": "Sampling error (analysis)",
         "showlegend": false,
         "type": "scatter",
         "x": [
          "2018-10-30T18:00:00",
          "2018-11-30T00:36:00",
          "2018-12-30T07:12:00",
          "2019-01-29T13:48:00",
          "2019-02-28T20:24:00",
          "2019-03-31T03:00:00",
          "2019-04-30T09:36:00",
          "2019-05-30T16:12:00",
          "2019-06-29T22:48:00",
          "2019-07-30T05:24:00",
          "2019-08-29T11:51:16.848000"
         ],
         "xaxis": "x6",
         "y": [
          20070.61610623586,
          20053.925248596574,
          20072.875899314233,
          20084.313937485935,
          20079.004678074558,
          19947.857430605687,
          19941.68765215753,
          19972.63843499961,
          19946.719458129515,
          19979.716798836504,
          19979.716798836504
         ],
         "yaxis": "y6"
        },
        {
         "fill": "tonexty",
         "fillcolor": "rgba(0.23137254901960785, 0.00784313725490196, 0.5019607843137255, 0.2)",
         "hoverinfo": "skip",
         "line": {
          "color": "rgba(0,0,0,0)",
          "shape": "hv"
         },
         "mode": "lines",
         "name": "Sampling error (analysis)",
         "showlegend": false,
         "type": "scatter",
         "x": [
          "2018-10-30T18:00:00",
          "2018-11-30T00:36:00",
          "2018-12-30T07:12:00",
          "2019-01-29T13:48:00",
          "2019-02-28T20:24:00",
          "2019-03-31T03:00:00",
          "2019-04-30T09:36:00",
          "2019-05-30T16:12:00",
          "2019-06-29T22:48:00",
          "2019-07-30T05:24:00",
          "2019-08-29T11:51:16.848000"
         ],
         "xaxis": "x6",
         "y": [
          19826.904531196837,
          19810.21367355755,
          19829.16432427521,
          19840.602362446913,
          19835.293103035536,
          19704.145855566665,
          19697.976077118507,
          19728.92685996059,
          19703.007883090493,
          19736.00522379748,
          19736.00522379748
         ],
         "yaxis": "y6"
        }
       ],
       "layout": {
        "annotations": [
         {
          "font": {
           "size": 16
          },
          "showarrow": false,
          "text": "Estimated <b>ROC AUC</b>",
          "x": 0.5,
          "xanchor": "center",
          "xref": "paper",
          "y": 0.9999999999999999,
          "yanchor": "bottom",
          "yref": "paper"
         },
         {
          "font": {
           "size": 16
          },
          "showarrow": false,
          "text": "Estimated <b>True Positive Cost</b>",
          "x": 0.5,
          "xanchor": "center",
          "xref": "paper",
          "y": 0.8194444444444444,
          "yanchor": "bottom",
          "yref": "paper"
         },
         {
          "font": {
           "size": 16
          },
          "showarrow": false,
          "text": "Estimated <b>True Negative Cost</b>",
          "x": 0.5,
          "xanchor": "center",
          "xref": "paper",
          "y": 0.638888888888889,
          "yanchor": "bottom",
          "yref": "paper"
         },
         {
          "font": {
           "size": 16
          },
          "showarrow": false,
          "text": "Estimated <b>False Positive Cost</b>",
          "x": 0.5,
          "xanchor": "center",
          "xref": "paper",
          "y": 0.4583333333333333,
          "yanchor": "bottom",
          "yref": "paper"
         },
         {
          "font": {
           "size": 16
          },
          "showarrow": false,
          "text": "Estimated <b>False Negative Cost</b>",
          "x": 0.5,
          "xanchor": "center",
          "xref": "paper",
          "y": 0.2777777777777778,
          "yanchor": "bottom",
          "yref": "paper"
         },
         {
          "font": {
           "size": 16
          },
          "showarrow": false,
          "text": "Estimated <b>Total Cost</b>",
          "x": 0.5,
          "xanchor": "center",
          "xref": "paper",
          "y": 0.09722222222222222,
          "yanchor": "bottom",
          "yref": "paper"
         }
        ],
        "height": 3000,
        "hoverlabel": {
         "bgcolor": "white",
         "font": {
          "size": 14
         }
        },
        "legend": {
         "itemclick": false,
         "itemdoubleclick": false,
         "traceorder": "grouped"
        },
        "paper_bgcolor": "rgba(255,255,255,1)",
        "plot_bgcolor": "rgba(255,255,255,1)",
        "shapes": [
         {
          "layer": "below",
          "line": {
           "color": "#666666",
           "width": 1
          },
          "type": "line",
          "x0": "2018-10-30T18:00:00",
          "x1": "2018-10-30T18:00:00",
          "xref": "x",
          "y0": 0,
          "y1": 1,
          "yref": "y domain"
         },
         {
          "layer": "below",
          "line": {
           "color": "#666666",
           "width": 1
          },
          "type": "line",
          "x0": "2018-10-30T18:00:00",
          "x1": "2018-10-30T18:00:00",
          "xref": "x2",
          "y0": 0,
          "y1": 1,
          "yref": "y2 domain"
         },
         {
          "layer": "below",
          "line": {
           "color": "#666666",
           "width": 1
          },
          "type": "line",
          "x0": "2018-10-30T18:00:00",
          "x1": "2018-10-30T18:00:00",
          "xref": "x3",
          "y0": 0,
          "y1": 1,
          "yref": "y3 domain"
         },
         {
          "layer": "below",
          "line": {
           "color": "#666666",
           "width": 1
          },
          "type": "line",
          "x0": "2018-10-30T18:00:00",
          "x1": "2018-10-30T18:00:00",
          "xref": "x4",
          "y0": 0,
          "y1": 1,
          "yref": "y4 domain"
         },
         {
          "layer": "below",
          "line": {
           "color": "#666666",
           "width": 1
          },
          "type": "line",
          "x0": "2018-10-30T18:00:00",
          "x1": "2018-10-30T18:00:00",
          "xref": "x5",
          "y0": 0,
          "y1": 1,
          "yref": "y5 domain"
         },
         {
          "layer": "below",
          "line": {
           "color": "#666666",
           "width": 1
          },
          "type": "line",
          "x0": "2018-10-30T18:00:00",
          "x1": "2018-10-30T18:00:00",
          "xref": "x6",
          "y0": 0,
          "y1": 1,
          "yref": "y6 domain"
         }
        ],
        "template": {
         "data": {
          "bar": [
           {
            "error_x": {
             "color": "#2a3f5f"
            },
            "error_y": {
             "color": "#2a3f5f"
            },
            "marker": {
             "line": {
              "color": "#E5ECF6",
              "width": 0.5
             },
             "pattern": {
              "fillmode": "overlay",
              "size": 10,
              "solidity": 0.2
             }
            },
            "type": "bar"
           }
          ],
          "barpolar": [
           {
            "marker": {
             "line": {
              "color": "#E5ECF6",
              "width": 0.5
             },
             "pattern": {
              "fillmode": "overlay",
              "size": 10,
              "solidity": 0.2
             }
            },
            "type": "barpolar"
           }
          ],
          "carpet": [
           {
            "aaxis": {
             "endlinecolor": "#2a3f5f",
             "gridcolor": "white",
             "linecolor": "white",
             "minorgridcolor": "white",
             "startlinecolor": "#2a3f5f"
            },
            "baxis": {
             "endlinecolor": "#2a3f5f",
             "gridcolor": "white",
             "linecolor": "white",
             "minorgridcolor": "white",
             "startlinecolor": "#2a3f5f"
            },
            "type": "carpet"
           }
          ],
          "choropleth": [
           {
            "colorbar": {
             "outlinewidth": 0,
             "ticks": ""
            },
            "type": "choropleth"
           }
          ],
          "contour": [
           {
            "colorbar": {
             "outlinewidth": 0,
             "ticks": ""
            },
            "colorscale": [
             [
              0,
              "#0d0887"
             ],
             [
              0.1111111111111111,
              "#46039f"
             ],
             [
              0.2222222222222222,
              "#7201a8"
             ],
             [
              0.3333333333333333,
              "#9c179e"
             ],
             [
              0.4444444444444444,
              "#bd3786"
             ],
             [
              0.5555555555555556,
              "#d8576b"
             ],
             [
              0.6666666666666666,
              "#ed7953"
             ],
             [
              0.7777777777777778,
              "#fb9f3a"
             ],
             [
              0.8888888888888888,
              "#fdca26"
             ],
             [
              1,
              "#f0f921"
             ]
            ],
            "type": "contour"
           }
          ],
          "contourcarpet": [
           {
            "colorbar": {
             "outlinewidth": 0,
             "ticks": ""
            },
            "type": "contourcarpet"
           }
          ],
          "heatmap": [
           {
            "colorbar": {
             "outlinewidth": 0,
             "ticks": ""
            },
            "colorscale": [
             [
              0,
              "#0d0887"
             ],
             [
              0.1111111111111111,
              "#46039f"
             ],
             [
              0.2222222222222222,
              "#7201a8"
             ],
             [
              0.3333333333333333,
              "#9c179e"
             ],
             [
              0.4444444444444444,
              "#bd3786"
             ],
             [
              0.5555555555555556,
              "#d8576b"
             ],
             [
              0.6666666666666666,
              "#ed7953"
             ],
             [
              0.7777777777777778,
              "#fb9f3a"
             ],
             [
              0.8888888888888888,
              "#fdca26"
             ],
             [
              1,
              "#f0f921"
             ]
            ],
            "type": "heatmap"
           }
          ],
          "heatmapgl": [
           {
            "colorbar": {
             "outlinewidth": 0,
             "ticks": ""
            },
            "colorscale": [
             [
              0,
              "#0d0887"
             ],
             [
              0.1111111111111111,
              "#46039f"
             ],
             [
              0.2222222222222222,
              "#7201a8"
             ],
             [
              0.3333333333333333,
              "#9c179e"
             ],
             [
              0.4444444444444444,
              "#bd3786"
             ],
             [
              0.5555555555555556,
              "#d8576b"
             ],
             [
              0.6666666666666666,
              "#ed7953"
             ],
             [
              0.7777777777777778,
              "#fb9f3a"
             ],
             [
              0.8888888888888888,
              "#fdca26"
             ],
             [
              1,
              "#f0f921"
             ]
            ],
            "type": "heatmapgl"
           }
          ],
          "histogram": [
           {
            "marker": {
             "pattern": {
              "fillmode": "overlay",
              "size": 10,
              "solidity": 0.2
             }
            },
            "type": "histogram"
           }
          ],
          "histogram2d": [
           {
            "colorbar": {
             "outlinewidth": 0,
             "ticks": ""
            },
            "colorscale": [
             [
              0,
              "#0d0887"
             ],
             [
              0.1111111111111111,
              "#46039f"
             ],
             [
              0.2222222222222222,
              "#7201a8"
             ],
             [
              0.3333333333333333,
              "#9c179e"
             ],
             [
              0.4444444444444444,
              "#bd3786"
             ],
             [
              0.5555555555555556,
              "#d8576b"
             ],
             [
              0.6666666666666666,
              "#ed7953"
             ],
             [
              0.7777777777777778,
              "#fb9f3a"
             ],
             [
              0.8888888888888888,
              "#fdca26"
             ],
             [
              1,
              "#f0f921"
             ]
            ],
            "type": "histogram2d"
           }
          ],
          "histogram2dcontour": [
           {
            "colorbar": {
             "outlinewidth": 0,
             "ticks": ""
            },
            "colorscale": [
             [
              0,
              "#0d0887"
             ],
             [
              0.1111111111111111,
              "#46039f"
             ],
             [
              0.2222222222222222,
              "#7201a8"
             ],
             [
              0.3333333333333333,
              "#9c179e"
             ],
             [
              0.4444444444444444,
              "#bd3786"
             ],
             [
              0.5555555555555556,
              "#d8576b"
             ],
             [
              0.6666666666666666,
              "#ed7953"
             ],
             [
              0.7777777777777778,
              "#fb9f3a"
             ],
             [
              0.8888888888888888,
              "#fdca26"
             ],
             [
              1,
              "#f0f921"
             ]
            ],
            "type": "histogram2dcontour"
           }
          ],
          "mesh3d": [
           {
            "colorbar": {
             "outlinewidth": 0,
             "ticks": ""
            },
            "type": "mesh3d"
           }
          ],
          "parcoords": [
           {
            "line": {
             "colorbar": {
              "outlinewidth": 0,
              "ticks": ""
             }
            },
            "type": "parcoords"
           }
          ],
          "pie": [
           {
            "automargin": true,
            "type": "pie"
           }
          ],
          "scatter": [
           {
            "fillpattern": {
             "fillmode": "overlay",
             "size": 10,
             "solidity": 0.2
            },
            "type": "scatter"
           }
          ],
          "scatter3d": [
           {
            "line": {
             "colorbar": {
              "outlinewidth": 0,
              "ticks": ""
             }
            },
            "marker": {
             "colorbar": {
              "outlinewidth": 0,
              "ticks": ""
             }
            },
            "type": "scatter3d"
           }
          ],
          "scattercarpet": [
           {
            "marker": {
             "colorbar": {
              "outlinewidth": 0,
              "ticks": ""
             }
            },
            "type": "scattercarpet"
           }
          ],
          "scattergeo": [
           {
            "marker": {
             "colorbar": {
              "outlinewidth": 0,
              "ticks": ""
             }
            },
            "type": "scattergeo"
           }
          ],
          "scattergl": [
           {
            "marker": {
             "colorbar": {
              "outlinewidth": 0,
              "ticks": ""
             }
            },
            "type": "scattergl"
           }
          ],
          "scattermapbox": [
           {
            "marker": {
             "colorbar": {
              "outlinewidth": 0,
              "ticks": ""
             }
            },
            "type": "scattermapbox"
           }
          ],
          "scatterpolar": [
           {
            "marker": {
             "colorbar": {
              "outlinewidth": 0,
              "ticks": ""
             }
            },
            "type": "scatterpolar"
           }
          ],
          "scatterpolargl": [
           {
            "marker": {
             "colorbar": {
              "outlinewidth": 0,
              "ticks": ""
             }
            },
            "type": "scatterpolargl"
           }
          ],
          "scatterternary": [
           {
            "marker": {
             "colorbar": {
              "outlinewidth": 0,
              "ticks": ""
             }
            },
            "type": "scatterternary"
           }
          ],
          "surface": [
           {
            "colorbar": {
             "outlinewidth": 0,
             "ticks": ""
            },
            "colorscale": [
             [
              0,
              "#0d0887"
             ],
             [
              0.1111111111111111,
              "#46039f"
             ],
             [
              0.2222222222222222,
              "#7201a8"
             ],
             [
              0.3333333333333333,
              "#9c179e"
             ],
             [
              0.4444444444444444,
              "#bd3786"
             ],
             [
              0.5555555555555556,
              "#d8576b"
             ],
             [
              0.6666666666666666,
              "#ed7953"
             ],
             [
              0.7777777777777778,
              "#fb9f3a"
             ],
             [
              0.8888888888888888,
              "#fdca26"
             ],
             [
              1,
              "#f0f921"
             ]
            ],
            "type": "surface"
           }
          ],
          "table": [
           {
            "cells": {
             "fill": {
              "color": "#EBF0F8"
             },
             "line": {
              "color": "white"
             }
            },
            "header": {
             "fill": {
              "color": "#C8D4E3"
             },
             "line": {
              "color": "white"
             }
            },
            "type": "table"
           }
          ]
         },
         "layout": {
          "annotationdefaults": {
           "arrowcolor": "#2a3f5f",
           "arrowhead": 0,
           "arrowwidth": 1
          },
          "autotypenumbers": "strict",
          "coloraxis": {
           "colorbar": {
            "outlinewidth": 0,
            "ticks": ""
           }
          },
          "colorscale": {
           "diverging": [
            [
             0,
             "#8e0152"
            ],
            [
             0.1,
             "#c51b7d"
            ],
            [
             0.2,
             "#de77ae"
            ],
            [
             0.3,
             "#f1b6da"
            ],
            [
             0.4,
             "#fde0ef"
            ],
            [
             0.5,
             "#f7f7f7"
            ],
            [
             0.6,
             "#e6f5d0"
            ],
            [
             0.7,
             "#b8e186"
            ],
            [
             0.8,
             "#7fbc41"
            ],
            [
             0.9,
             "#4d9221"
            ],
            [
             1,
             "#276419"
            ]
           ],
           "sequential": [
            [
             0,
             "#0d0887"
            ],
            [
             0.1111111111111111,
             "#46039f"
            ],
            [
             0.2222222222222222,
             "#7201a8"
            ],
            [
             0.3333333333333333,
             "#9c179e"
            ],
            [
             0.4444444444444444,
             "#bd3786"
            ],
            [
             0.5555555555555556,
             "#d8576b"
            ],
            [
             0.6666666666666666,
             "#ed7953"
            ],
            [
             0.7777777777777778,
             "#fb9f3a"
            ],
            [
             0.8888888888888888,
             "#fdca26"
            ],
            [
             1,
             "#f0f921"
            ]
           ],
           "sequentialminus": [
            [
             0,
             "#0d0887"
            ],
            [
             0.1111111111111111,
             "#46039f"
            ],
            [
             0.2222222222222222,
             "#7201a8"
            ],
            [
             0.3333333333333333,
             "#9c179e"
            ],
            [
             0.4444444444444444,
             "#bd3786"
            ],
            [
             0.5555555555555556,
             "#d8576b"
            ],
            [
             0.6666666666666666,
             "#ed7953"
            ],
            [
             0.7777777777777778,
             "#fb9f3a"
            ],
            [
             0.8888888888888888,
             "#fdca26"
            ],
            [
             1,
             "#f0f921"
            ]
           ]
          },
          "colorway": [
           "#636efa",
           "#EF553B",
           "#00cc96",
           "#ab63fa",
           "#FFA15A",
           "#19d3f3",
           "#FF6692",
           "#B6E880",
           "#FF97FF",
           "#FECB52"
          ],
          "font": {
           "color": "#2a3f5f"
          },
          "geo": {
           "bgcolor": "white",
           "lakecolor": "white",
           "landcolor": "#E5ECF6",
           "showlakes": true,
           "showland": true,
           "subunitcolor": "white"
          },
          "hoverlabel": {
           "align": "left"
          },
          "hovermode": "closest",
          "mapbox": {
           "style": "light"
          },
          "paper_bgcolor": "white",
          "plot_bgcolor": "#E5ECF6",
          "polar": {
           "angularaxis": {
            "gridcolor": "white",
            "linecolor": "white",
            "ticks": ""
           },
           "bgcolor": "#E5ECF6",
           "radialaxis": {
            "gridcolor": "white",
            "linecolor": "white",
            "ticks": ""
           }
          },
          "scene": {
           "xaxis": {
            "backgroundcolor": "#E5ECF6",
            "gridcolor": "white",
            "gridwidth": 2,
            "linecolor": "white",
            "showbackground": true,
            "ticks": "",
            "zerolinecolor": "white"
           },
           "yaxis": {
            "backgroundcolor": "#E5ECF6",
            "gridcolor": "white",
            "gridwidth": 2,
            "linecolor": "white",
            "showbackground": true,
            "ticks": "",
            "zerolinecolor": "white"
           },
           "zaxis": {
            "backgroundcolor": "#E5ECF6",
            "gridcolor": "white",
            "gridwidth": 2,
            "linecolor": "white",
            "showbackground": true,
            "ticks": "",
            "zerolinecolor": "white"
           }
          },
          "shapedefaults": {
           "line": {
            "color": "#2a3f5f"
           }
          },
          "ternary": {
           "aaxis": {
            "gridcolor": "white",
            "linecolor": "white",
            "ticks": ""
           },
           "baxis": {
            "gridcolor": "white",
            "linecolor": "white",
            "ticks": ""
           },
           "bgcolor": "#E5ECF6",
           "caxis": {
            "gridcolor": "white",
            "linecolor": "white",
            "ticks": ""
           }
          },
          "title": {
           "x": 0.05
          },
          "xaxis": {
           "automargin": true,
           "gridcolor": "white",
           "linecolor": "white",
           "ticks": "",
           "title": {
            "standoff": 15
           },
           "zerolinecolor": "white",
           "zerolinewidth": 2
          },
          "yaxis": {
           "automargin": true,
           "gridcolor": "white",
           "linecolor": "white",
           "ticks": "",
           "title": {
            "standoff": 15
           },
           "zerolinecolor": "white",
           "zerolinewidth": 2
          }
         }
        },
        "title": {
         "text": "Estimated performance <b>(CBPE)</b>"
        },
        "xaxis": {
         "anchor": "y",
         "domain": [
          0,
          1
         ],
         "linecolor": "#3b0280",
         "matches": "x",
         "mirror": true,
         "showgrid": false,
         "showticklabels": true,
         "title": {
          "text": "Time"
         },
         "zeroline": false
        },
        "xaxis2": {
         "anchor": "y2",
         "domain": [
          0,
          1
         ],
         "linecolor": "#3b0280",
         "matches": "x",
         "mirror": true,
         "showgrid": false,
         "showticklabels": true,
         "title": {
          "text": "Time"
         },
         "zeroline": false
        },
        "xaxis3": {
         "anchor": "y3",
         "domain": [
          0,
          1
         ],
         "linecolor": "#3b0280",
         "matches": "x",
         "mirror": true,
         "showgrid": false,
         "showticklabels": true,
         "title": {
          "text": "Time"
         },
         "zeroline": false
        },
        "xaxis4": {
         "anchor": "y4",
         "domain": [
          0,
          1
         ],
         "linecolor": "#3b0280",
         "matches": "x",
         "mirror": true,
         "showgrid": false,
         "showticklabels": true,
         "title": {
          "text": "Time"
         },
         "zeroline": false
        },
        "xaxis5": {
         "anchor": "y5",
         "domain": [
          0,
          1
         ],
         "linecolor": "#3b0280",
         "matches": "x",
         "mirror": true,
         "showgrid": false,
         "showticklabels": true,
         "title": {
          "text": "Time"
         },
         "zeroline": false
        },
        "xaxis6": {
         "anchor": "y6",
         "domain": [
          0,
          1
         ],
         "linecolor": "#3b0280",
         "matches": "x",
         "mirror": true,
         "showgrid": false,
         "showticklabels": true,
         "title": {
          "text": "Time"
         },
         "zeroline": false
        },
        "yaxis": {
         "anchor": "x",
         "domain": [
          0.9027777777777777,
          0.9999999999999999
         ],
         "linecolor": "#3b0280",
         "mirror": true,
         "showgrid": false,
         "title": {
          "text": "ROC AUC"
         },
         "zeroline": false
        },
        "yaxis2": {
         "anchor": "x2",
         "domain": [
          0.7222222222222222,
          0.8194444444444444
         ],
         "linecolor": "#3b0280",
         "mirror": true,
         "showgrid": false,
         "title": {
          "text": "True Positive Cost"
         },
         "zeroline": false
        },
        "yaxis3": {
         "anchor": "x3",
         "domain": [
          0.5416666666666667,
          0.638888888888889
         ],
         "linecolor": "#3b0280",
         "mirror": true,
         "showgrid": false,
         "title": {
          "text": "True Negative Cost"
         },
         "zeroline": false
        },
        "yaxis4": {
         "anchor": "x4",
         "domain": [
          0.3611111111111111,
          0.4583333333333333
         ],
         "linecolor": "#3b0280",
         "mirror": true,
         "showgrid": false,
         "title": {
          "text": "False Positive Cost"
         },
         "zeroline": false
        },
        "yaxis5": {
         "anchor": "x5",
         "domain": [
          0.18055555555555555,
          0.2777777777777778
         ],
         "linecolor": "#3b0280",
         "mirror": true,
         "showgrid": false,
         "title": {
          "text": "False Negative Cost"
         },
         "zeroline": false
        },
        "yaxis6": {
         "anchor": "x6",
         "domain": [
          0,
          0.09722222222222222
         ],
         "linecolor": "#3b0280",
         "mirror": true,
         "showgrid": false,
         "title": {
          "text": "Total Cost"
         },
         "zeroline": false
        }
       }
      }
     },
     "metadata": {},
     "output_type": "display_data"
    }
   ],
   "source": [
    "reference_df = nml.load_synthetic_car_loan_dataset()[0]\n",
    "analysis_df = nml.load_synthetic_car_loan_dataset()[1]\n",
    "\n",
    "display(reference_df.head(3))\n",
    "\n",
    "estimator = nml.CBPE(\n",
    "    y_pred_proba='y_pred_proba',\n",
    "    y_pred='y_pred',\n",
    "    y_true='repaid',\n",
    "    timestamp_column_name='timestamp',\n",
    "    metrics=['roc_auc', 'business_cost'],\n",
    "    chunk_size=5000,\n",
    "    problem_type='classification_binary',\n",
    "    normalize_confusion_matrix='pred',\n",
    "    business_cost_matrix=[[4, 7], [2, 4]]\n",
    ")\n",
    "\n",
    "estimator.fit(reference_df)\n",
    "\n",
    "results = estimator.estimate(analysis_df)\n",
    "display(results.filter(period='analysis').to_df())\n",
    "\n",
    "metric_fig = results.filter(period='analysis').plot()\n",
    "metric_fig.show()\n",
    "\n",
    "metric_fig = results.plot()\n",
    "metric_fig.show()"
   ]
  },
  {
   "cell_type": "code",
   "execution_count": null,
   "metadata": {},
   "outputs": [],
   "source": []
  }
 ],
 "metadata": {
  "kernelspec": {
   "display_name": "EMD",
   "language": "python",
   "name": "python3"
  },
  "language_info": {
   "codemirror_mode": {
    "name": "ipython",
    "version": 3
   },
   "file_extension": ".py",
   "mimetype": "text/x-python",
   "name": "python",
   "nbconvert_exporter": "python",
   "pygments_lexer": "ipython3",
   "version": "3.9.13"
  },
  "orig_nbformat": 4,
  "vscode": {
   "interpreter": {
    "hash": "7015d45318b7e47f58bc453f811cb2d0d7fdbd19d5bcf220fdd25c0dc451c826"
   }
  }
 },
 "nbformat": 4,
 "nbformat_minor": 2
}
